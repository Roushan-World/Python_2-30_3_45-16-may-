{
 "cells": [
  {
   "cell_type": "markdown",
   "id": "44c6e60f-c905-417a-8147-6fe2b8c713a9",
   "metadata": {},
   "source": [
    "# 8. Loops in Python\n",
    "\n",
    " * __A for loop is used for iterating over a sequence (that is either a list, a tuple, a dicitonary, a set, or a string).__\n",
    " * __This is less like the for keyword in other programming languages, and works more like an iterator method as found in other object-oriented programming languages.__\n",
    " * __With the for loop we can execute a set of statements, once for each item in a list, tuple, set etc.__\n",
    " * __The for loop does not require an indexing variable to set beforehand.__\n",
    " * __With the while loop we can execute a set of statements as long as a condition is true.__\n",
    " * __Note: remember to increment i, or else the loop will continue forever.__\n",
    " * __The while loop requires relevant variable to be ready, in this example we need to define an indexing variable, i, which we set to 1.__\n",
    "\n",
    "# range() function\n",
    " * __It is helpful to think of the range object as an ordered list.__\n",
    " * __To loop through a set of code specified number of times, we can use the range() functions.__\n",
    " * __The range() function returns a sequence of numbers, starting from 0 by default, and increments by 1(by ddefault), and ends at a specified.__"
   ]
  },
  {
   "cell_type": "code",
   "execution_count": 1,
   "id": "b841f031-f25a-4cd7-b904-9a3cc8891103",
   "metadata": {},
   "outputs": [
    {
     "data": {
      "text/plain": [
       "range(0, 8)"
      ]
     },
     "execution_count": 1,
     "metadata": {},
     "output_type": "execute_result"
    }
   ],
   "source": [
    "range(8)"
   ]
  },
  {
   "cell_type": "code",
   "execution_count": 2,
   "id": "1b79ea68-a2a1-4d76-b6b2-547cccbf4ca1",
   "metadata": {},
   "outputs": [
    {
     "data": {
      "text/plain": [
       "range(5, 8)"
      ]
     },
     "execution_count": 2,
     "metadata": {},
     "output_type": "execute_result"
    }
   ],
   "source": [
    "range(5,8)"
   ]
  },
  {
   "cell_type": "code",
   "execution_count": 16,
   "id": "26f1f9e5-46dd-491a-83d7-6618efa7c364",
   "metadata": {},
   "outputs": [
    {
     "name": "stdout",
     "output_type": "stream",
     "text": [
      "0\n",
      "1\n",
      "2\n",
      "3\n",
      "4\n",
      "5\n",
      "6\n",
      "7\n"
     ]
    }
   ],
   "source": [
    "for i in range(8):\n",
    "    print(i)"
   ]
  },
  {
   "cell_type": "code",
   "execution_count": 4,
   "id": "077f5410-ae91-4353-9e87-a7824819461c",
   "metadata": {},
   "outputs": [
    {
     "name": "stdout",
     "output_type": "stream",
     "text": [
      "5\n",
      "6\n",
      "7\n",
      "8\n",
      "9\n",
      "Done!\n"
     ]
    }
   ],
   "source": [
    "for i in range(5,10):\n",
    "    print(i)\n",
    "else:\n",
    "    print('Done!')"
   ]
  },
  {
   "cell_type": "code",
   "execution_count": 15,
   "id": "be19a3b8-e914-458f-8090-b49a9319ed8d",
   "metadata": {},
   "outputs": [
    {
     "name": "stdout",
     "output_type": "stream",
     "text": [
      "Apple    Ball    Cat    Dog    Elephant    Fish    Grapes    Horse    Ice    Joker    Kite    Lion    Monkey    Nest    Orange    Peacock    Queen    Rose    Ship    Tiger    Umbrella    Van    Watch    X-mas    Yatch    Zebra    "
     ]
    }
   ],
   "source": [
    "list1=['Apple','Ball','Cat','Dog','Elephant','Fish','Grapes','Horse','Ice','Joker','Kite','Lion','Monkey','Nest','Orange','Peacock','Queen','Rose','Ship','Tiger','Umbrella','Van','Watch','X-mas','Yatch','Zebra']\n",
    "# print(list1)\n",
    "for x in list1:\n",
    "    print(x,end='    ')"
   ]
  },
  {
   "cell_type": "code",
   "execution_count": 18,
   "id": "7ad6072b-b3d0-4754-a621-5f07ecc454d9",
   "metadata": {},
   "outputs": [
    {
     "name": "stdout",
     "output_type": "stream",
     "text": [
      "0 Apple\n",
      "1 Ball\n",
      "2 Cat\n",
      "3 Dog\n",
      "4 Elephant\n",
      "5 Fish\n",
      "6 Grapes\n",
      "7 Horse\n",
      "8 Ice\n",
      "9 Joker\n",
      "10 Kite\n",
      "11 Lion\n",
      "12 Monkey\n",
      "13 Nest\n",
      "14 Orange\n",
      "15 Peacock\n",
      "16 Queen\n",
      "17 Rose\n",
      "18 Ship\n",
      "19 Tiger\n",
      "20 Umbrella\n",
      "21 Van\n",
      "22 Watch\n",
      "23 X-mas\n",
      "24 Yatch\n",
      "25 Zebra\n"
     ]
    }
   ],
   "source": [
    "list1=['Apple','Ball','Cat','Dog','Elephant','Fish','Grapes','Horse','Ice','Joker','Kite','Lion','Monkey','Nest','Orange','Peacock','Queen','Rose','Ship','Tiger','Umbrella','Van','Watch','X-mas','Yatch','Zebra']\n",
    "# print(list1)\n",
    "for x in range(len(list1)):\n",
    "    print(x,list1[x])"
   ]
  },
  {
   "cell_type": "code",
   "execution_count": null,
   "id": "4e7ad793-76f7-43cc-aa0b-6a7eaf5535e6",
   "metadata": {},
   "outputs": [],
   "source": []
  }
 ],
 "metadata": {
  "kernelspec": {
   "display_name": "Python 3 (ipykernel)",
   "language": "python",
   "name": "python3"
  },
  "language_info": {
   "codemirror_mode": {
    "name": "ipython",
    "version": 3
   },
   "file_extension": ".py",
   "mimetype": "text/x-python",
   "name": "python",
   "nbconvert_exporter": "python",
   "pygments_lexer": "ipython3",
   "version": "3.12.2"
  }
 },
 "nbformat": 4,
 "nbformat_minor": 5
}
