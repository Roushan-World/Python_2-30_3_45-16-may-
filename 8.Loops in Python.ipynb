{
 "cells": [
  {
   "cell_type": "markdown",
   "id": "44c6e60f-c905-417a-8147-6fe2b8c713a9",
   "metadata": {},
   "source": [
    "# 8. Loops in Python\n",
    "\n",
    " * __A for loop is used for iterating over a sequence (that is either a list, a tuple, a dicitonary, a set, or a string).__\n",
    " * __This is less like the for keyword in other programming languages, and works more like an iterator method as found in other object-oriented programming languages.__\n",
    " * __With the for loop we can execute a set of statements, once for each item in a list, tuple, set etc.__\n",
    " * __The for loop does not require an indexing variable to set beforehand.__\n",
    " * __With the while loop we can execute a set of statements as long as a condition is true.__\n",
    " * __Note: remember to increment i, or else the loop will continue forever.__\n",
    " * __The while loop requires relevant variable to be ready, in this example we need to define an indexing variable, i, which we set to 1.__\n",
    "\n",
    "# range() function\n",
    " * __It is helpful to think of the range object as an ordered list.__\n",
    " * __To loop through a set of code specified number of times, we can use the range() functions.__\n",
    " * __The range() function returns a sequence of numbers, starting from 0 by default, and increments by 1(by ddefault), and ends at a specified.__"
   ]
  },
  {
   "cell_type": "code",
   "execution_count": 1,
   "id": "b841f031-f25a-4cd7-b904-9a3cc8891103",
   "metadata": {},
   "outputs": [
    {
     "data": {
      "text/plain": [
       "range(0, 8)"
      ]
     },
     "execution_count": 1,
     "metadata": {},
     "output_type": "execute_result"
    }
   ],
   "source": [
    "range(8)"
   ]
  },
  {
   "cell_type": "code",
   "execution_count": 2,
   "id": "1b79ea68-a2a1-4d76-b6b2-547cccbf4ca1",
   "metadata": {},
   "outputs": [
    {
     "data": {
      "text/plain": [
       "range(5, 8)"
      ]
     },
     "execution_count": 2,
     "metadata": {},
     "output_type": "execute_result"
    }
   ],
   "source": [
    "range(5,8)"
   ]
  },
  {
   "cell_type": "code",
   "execution_count": 16,
   "id": "26f1f9e5-46dd-491a-83d7-6618efa7c364",
   "metadata": {},
   "outputs": [
    {
     "name": "stdout",
     "output_type": "stream",
     "text": [
      "0\n",
      "1\n",
      "2\n",
      "3\n",
      "4\n",
      "5\n",
      "6\n",
      "7\n"
     ]
    }
   ],
   "source": [
    "for i in range(8):\n",
    "    print(i)"
   ]
  },
  {
   "cell_type": "code",
   "execution_count": 4,
   "id": "077f5410-ae91-4353-9e87-a7824819461c",
   "metadata": {},
   "outputs": [
    {
     "name": "stdout",
     "output_type": "stream",
     "text": [
      "5\n",
      "6\n",
      "7\n",
      "8\n",
      "9\n",
      "Done!\n"
     ]
    }
   ],
   "source": [
    "for i in range(5,10):\n",
    "    print(i)\n",
    "else:\n",
    "    print('Done!')"
   ]
  },
  {
   "cell_type": "code",
   "execution_count": 15,
   "id": "be19a3b8-e914-458f-8090-b49a9319ed8d",
   "metadata": {},
   "outputs": [
    {
     "name": "stdout",
     "output_type": "stream",
     "text": [
      "Apple    Ball    Cat    Dog    Elephant    Fish    Grapes    Horse    Ice    Joker    Kite    Lion    Monkey    Nest    Orange    Peacock    Queen    Rose    Ship    Tiger    Umbrella    Van    Watch    X-mas    Yatch    Zebra    "
     ]
    }
   ],
   "source": [
    "list1=['Apple','Ball','Cat','Dog','Elephant','Fish','Grapes','Horse','Ice','Joker','Kite','Lion','Monkey','Nest','Orange','Peacock','Queen','Rose','Ship','Tiger','Umbrella','Van','Watch','X-mas','Yatch','Zebra']\n",
    "# print(list1)\n",
    "for x in list1:\n",
    "    print(x,end='    ')"
   ]
  },
  {
   "cell_type": "code",
   "execution_count": 18,
   "id": "7ad6072b-b3d0-4754-a621-5f07ecc454d9",
   "metadata": {},
   "outputs": [
    {
     "name": "stdout",
     "output_type": "stream",
     "text": [
      "0 Apple\n",
      "1 Ball\n",
      "2 Cat\n",
      "3 Dog\n",
      "4 Elephant\n",
      "5 Fish\n",
      "6 Grapes\n",
      "7 Horse\n",
      "8 Ice\n",
      "9 Joker\n",
      "10 Kite\n",
      "11 Lion\n",
      "12 Monkey\n",
      "13 Nest\n",
      "14 Orange\n",
      "15 Peacock\n",
      "16 Queen\n",
      "17 Rose\n",
      "18 Ship\n",
      "19 Tiger\n",
      "20 Umbrella\n",
      "21 Van\n",
      "22 Watch\n",
      "23 X-mas\n",
      "24 Yatch\n",
      "25 Zebra\n"
     ]
    }
   ],
   "source": [
    "list1=['Apple','Ball','Cat','Dog','Elephant','Fish','Grapes','Horse','Ice','Joker','Kite','Lion','Monkey','Nest','Orange','Peacock','Queen','Rose','Ship','Tiger','Umbrella','Van','Watch','X-mas','Yatch','Zebra']\n",
    "# print(list1)\n",
    "for x in range(len(list1)):\n",
    "    print(x,list1[x])"
   ]
  },
  {
   "cell_type": "code",
   "execution_count": 1,
   "id": "4e7ad793-76f7-43cc-aa0b-6a7eaf5535e6",
   "metadata": {},
   "outputs": [
    {
     "name": "stdout",
     "output_type": "stream",
     "text": [
      "-3\n",
      "-2\n",
      "-1\n",
      "0\n",
      "1\n",
      "2\n",
      "3\n",
      "4\n",
      "5\n",
      "6\n",
      "7\n",
      "8\n",
      "9\n"
     ]
    }
   ],
   "source": [
    "for i in range(-3,10):\n",
    "    print(i)"
   ]
  },
  {
   "cell_type": "code",
   "execution_count": 5,
   "id": "5be0d9e4-d7a4-48ff-acbd-9a42ca98fa13",
   "metadata": {},
   "outputs": [
    {
     "name": "stdout",
     "output_type": "stream",
     "text": [
      "0 Python\n",
      "1 Java\n",
      "2 JavaScript\n",
      "3 PHP\n",
      "4 Laravel\n",
      "5 Kotlin\n",
      "6 C#\n"
     ]
    }
   ],
   "source": [
    "languages=['Python','Java',\"JavaScript\",\"PHP\",\"Laravel\",\"Kotlin\",\"C#\"]\n",
    "\n",
    "for i in range(len(languages)):\n",
    "    print(i,languages[i])"
   ]
  },
  {
   "cell_type": "code",
   "execution_count": 11,
   "id": "089236ca-a2bd-4c2b-b048-a8727a972a8c",
   "metadata": {},
   "outputs": [
    {
     "name": "stdout",
     "output_type": "stream",
     "text": [
      "19 x 1 = 19\n",
      "19 x 2 = 38\n",
      "19 x 3 = 57\n",
      "19 x 4 = 76\n",
      "19 x 5 = 95\n",
      "19 x 6 = 114\n",
      "19 x 7 = 133\n",
      "19 x 8 = 152\n",
      "19 x 9 = 171\n",
      "19 x 10 = 190\n"
     ]
    }
   ],
   "source": [
    "# 19x1=19\n",
    "# 19x2=38\n",
    "# 19x3=57\n",
    "# 19x4=76\n",
    "\n",
    "for i in range(1,10+1):\n",
    "    x=19\n",
    "    print(x,'x',i,'=',x*i)"
   ]
  },
  {
   "cell_type": "code",
   "execution_count": 17,
   "id": "2bdc883f-b9ed-4d1a-b074-008cb36cd8c9",
   "metadata": {},
   "outputs": [
    {
     "name": "stdin",
     "output_type": "stream",
     "text": [
      "Enter any number: 45\n"
     ]
    },
    {
     "name": "stdout",
     "output_type": "stream",
     "text": [
      "45 x 1 = 45\n",
      "45 x 2 = 90\n",
      "45 x 3 = 135\n",
      "45 x 4 = 180\n",
      "45 x 5 = 225\n",
      "45 x 6 = 270\n",
      "45 x 7 = 315\n",
      "45 x 8 = 360\n",
      "45 x 9 = 405\n",
      "45 x 10 = 450\n"
     ]
    }
   ],
   "source": [
    "table1=int(input('Enter any number:'))\n",
    "for i in range(1,11):\n",
    "    print(table1,\"x\",i,'=',table1*i)"
   ]
  },
  {
   "cell_type": "code",
   "execution_count": 20,
   "id": "6a70887d-85ff-46b8-819b-1e82e48e577a",
   "metadata": {},
   "outputs": [
    {
     "name": "stdin",
     "output_type": "stream",
     "text": [
      "Enter any value: 5\n"
     ]
    },
    {
     "name": "stdout",
     "output_type": "stream",
     "text": [
      "5x1=5\n",
      "5x2=10\n",
      "5x3=15\n",
      "5x4=20\n",
      "5x5=25\n",
      "5x6=30\n",
      "5x7=35\n",
      "5x8=40\n",
      "5x9=45\n",
      "5x10=50\n"
     ]
    }
   ],
   "source": [
    "table2=int(input('Enter any value:'))\n",
    "for i in range(1,10+1):\n",
    "    print('%dx%d=%d'%(table2,i,table2*i))"
   ]
  },
  {
   "cell_type": "code",
   "execution_count": 24,
   "id": "b67c7317-d78f-4707-bf38-3b470117f569",
   "metadata": {},
   "outputs": [
    {
     "name": "stdin",
     "output_type": "stream",
     "text": [
      "Enter any number: 16\n"
     ]
    },
    {
     "name": "stdout",
     "output_type": "stream",
     "text": [
      "16X1=16\n",
      "16X2=32\n",
      "16X3=48\n",
      "16X4=64\n",
      "16X5=80\n",
      "16X6=96\n",
      "16X7=112\n",
      "16X8=128\n",
      "16X9=144\n",
      "16X10=160\n"
     ]
    }
   ],
   "source": [
    "table3=int(input('Enter any number:'))\n",
    "for i in range(1,11):\n",
    "    print('{a}X{b}={c}'.format(a=table3,b=i,c=table3*i))"
   ]
  },
  {
   "cell_type": "code",
   "execution_count": 26,
   "id": "9c29679d-29a4-4efb-9496-c3a581266e07",
   "metadata": {},
   "outputs": [
    {
     "name": "stdin",
     "output_type": "stream",
     "text": [
      "Enter any number: 3\n"
     ]
    },
    {
     "name": "stdout",
     "output_type": "stream",
     "text": [
      "9\n"
     ]
    }
   ],
   "source": [
    "user1=int(input('Enter any number:'))\n",
    "\n",
    "z=user1**2\n",
    "print(z)"
   ]
  },
  {
   "cell_type": "code",
   "execution_count": 27,
   "id": "81b8e2f8-d485-44dc-bb90-a30fb6a8872f",
   "metadata": {},
   "outputs": [
    {
     "name": "stdin",
     "output_type": "stream",
     "text": [
      "Enter any number: 2\n"
     ]
    },
    {
     "name": "stdout",
     "output_type": "stream",
     "text": [
      "8\n"
     ]
    }
   ],
   "source": [
    "user1=int(input('Enter any number:'))\n",
    "\n",
    "z=user1**3\n",
    "print(z)"
   ]
  },
  {
   "cell_type": "code",
   "execution_count": 31,
   "id": "8995bd0d-ed68-41ac-8498-926ac9976418",
   "metadata": {},
   "outputs": [
    {
     "name": "stdin",
     "output_type": "stream",
     "text": [
      "Enter any number 20\n"
     ]
    },
    {
     "name": "stdout",
     "output_type": "stream",
     "text": [
      "20x1=20\n",
      "20x2=40\n",
      "20x3=60\n",
      "20x4=80\n",
      "20x5=100\n",
      "20x6=120\n",
      "20x7=140\n",
      "20x8=160\n",
      "20x9=180\n",
      "20x10=200\n"
     ]
    }
   ],
   "source": [
    "x=int(input('Enter any number'))\n",
    "for i in range(1,10+1):\n",
    "    print(f'{x}x{i}={x*i}')   # using f-string function."
   ]
  },
  {
   "cell_type": "code",
   "execution_count": 33,
   "id": "6467679c-f1fc-48a0-b5db-567e273d7088",
   "metadata": {},
   "outputs": [
    {
     "name": "stdout",
     "output_type": "stream",
     "text": [
      "0\n",
      "1\n",
      "2\n",
      "3\n",
      "4\n",
      "5\n",
      "6\n",
      "7\n",
      "8\n",
      "9\n",
      "10\n",
      "11\n",
      "12\n",
      "13\n",
      "14\n",
      "15\n",
      "16\n",
      "17\n",
      "18\n",
      "19\n",
      "20\n"
     ]
    }
   ],
   "source": [
    "# controllers\n",
    "# break and continue\n",
    "for i in range(20+1):\n",
    "    print(i)"
   ]
  },
  {
   "cell_type": "code",
   "execution_count": 34,
   "id": "096bb596-6f46-451b-8fa6-ba6da3c3dba2",
   "metadata": {},
   "outputs": [
    {
     "name": "stdout",
     "output_type": "stream",
     "text": [
      "0\n",
      "1\n",
      "2\n",
      "3\n",
      "4\n",
      "5\n",
      "6\n",
      "7\n",
      "8\n",
      "9\n",
      "10\n"
     ]
    }
   ],
   "source": [
    "for i in range(20+1):\n",
    "    if i==11:\n",
    "        break\n",
    "    print(i)"
   ]
  },
  {
   "cell_type": "code",
   "execution_count": 37,
   "id": "2d7fbc20-b33b-4556-a427-2591bcf68559",
   "metadata": {},
   "outputs": [
    {
     "name": "stdout",
     "output_type": "stream",
     "text": [
      "Apple\n",
      "Ball\n",
      "Cat\n",
      "Dog\n",
      "Elephant\n",
      "Fish\n"
     ]
    }
   ],
   "source": [
    "list1=['Apple','Ball','Cat','Dog','Elephant','Fish','Grapes','Horse','Ice','Joker','Kite','Lion','Monkey','Nest','Orange','Peacock','Queen','Rose','Ship','Tiger','Umbrella','Van','Watch','X-mas','Yatch','Zebra']\n",
    "\n",
    "for i in list1:\n",
    "    if i==\"Grapes\":\n",
    "        break\n",
    "    print(i)"
   ]
  },
  {
   "cell_type": "code",
   "execution_count": 39,
   "id": "ff4e8528-106d-4cc8-8450-5838972265c9",
   "metadata": {},
   "outputs": [
    {
     "name": "stdout",
     "output_type": "stream",
     "text": [
      "Apple\n",
      "Ball\n",
      "Cat\n",
      "Dog\n",
      "Elephant\n",
      "Fish\n"
     ]
    }
   ],
   "source": [
    "list1=['Apple','Ball','Cat','Dog','Elephant','Fish','Grapes','Horse','Ice','Joker','Kite','Lion','Monkey','Nest','Orange','Peacock','Queen','Rose','Ship','Tiger','Umbrella','Van','Watch','X-mas','Yatch','Zebra']\n",
    "\n",
    "for i in range(len(list1)):\n",
    "    if list1[i]==\"Grapes\":\n",
    "        break\n",
    "    print(list1[i])"
   ]
  },
  {
   "cell_type": "code",
   "execution_count": 66,
   "id": "3452dcac-4841-4e4d-b258-59ecc24e4668",
   "metadata": {},
   "outputs": [
    {
     "name": "stdin",
     "output_type": "stream",
     "text": [
      "Enter any value: dog\n"
     ]
    },
    {
     "name": "stdout",
     "output_type": "stream",
     "text": [
      "Apple\n",
      "Ball\n",
      "Cat\n"
     ]
    }
   ],
   "source": [
    "list1=['Apple','Ball','Cat','Dog','Elephant','Fish','Grapes','Horse','Ice','Joker','Kite','Lion','Monkey','Nest','Orange','Peacock','Queen','Rose','Ship','Tiger','Umbrella','Van','Watch','X-mas','Yatch','Zebra']\n",
    "\n",
    "element=input('Enter any value:')\n",
    "element1=element.title()\n",
    "for i in range(len(list1)):\n",
    "    if list1[i]==element1:\n",
    "        break\n",
    "    print(list1[i])"
   ]
  },
  {
   "cell_type": "code",
   "execution_count": 69,
   "id": "25a4c665-9b59-42cb-b135-0de946066626",
   "metadata": {},
   "outputs": [
    {
     "name": "stdout",
     "output_type": "stream",
     "text": [
      "0\n",
      "1\n",
      "2\n",
      "3\n",
      "4\n",
      "6\n",
      "7\n",
      "8\n",
      "9\n",
      "10\n"
     ]
    }
   ],
   "source": [
    "# continue\n",
    "\n",
    "for i in range(10+1):\n",
    "    if i==5:\n",
    "        continue\n",
    "    print(i)"
   ]
  },
  {
   "cell_type": "code",
   "execution_count": 72,
   "id": "a183a3f1-ab5d-40ad-ba13-2a832cb7e1e9",
   "metadata": {},
   "outputs": [
    {
     "name": "stdout",
     "output_type": "stream",
     "text": [
      "0\n",
      "1\n",
      "2\n",
      "3\n",
      "4\n",
      "5\n",
      "6\n",
      "7\n",
      "8\n",
      "9\n"
     ]
    }
   ],
   "source": [
    "i=0\n",
    "while i<10:\n",
    "    print(i)\n",
    "    i+=1"
   ]
  },
  {
   "cell_type": "code",
   "execution_count": 75,
   "id": "37258737-9500-4a77-9abf-675aa9567f63",
   "metadata": {},
   "outputs": [
    {
     "name": "stdin",
     "output_type": "stream",
     "text": [
      "Enter any number: 21\n"
     ]
    },
    {
     "name": "stdout",
     "output_type": "stream",
     "text": [
      "21 x 1 = 21\n",
      "21 x 2 = 42\n",
      "21 x 3 = 63\n",
      "21 x 4 = 84\n",
      "21 x 5 = 105\n",
      "21 x 6 = 126\n",
      "21 x 7 = 147\n",
      "21 x 8 = 168\n",
      "21 x 9 = 189\n",
      "21 x 10 = 210\n"
     ]
    }
   ],
   "source": [
    "user1=int(input('Enter any number:'))\n",
    "i=1\n",
    "while i<11:\n",
    "    print(user1,'x',i,'=',user1*i)\n",
    "    i+=1"
   ]
  },
  {
   "cell_type": "code",
   "execution_count": 83,
   "id": "4e00cb26-b474-40a8-9090-e09421e1eb73",
   "metadata": {},
   "outputs": [
    {
     "name": "stdout",
     "output_type": "stream",
     "text": [
      "Total Sum of the List is: 550\n",
      "Average of the list is: 55.0\n"
     ]
    }
   ],
   "source": [
    "list2=[10,20,30,40,50,60,70,80,90,100]\n",
    "\n",
    "# find their sum and average using while loop\n",
    "sum1=0\n",
    "avg=0\n",
    "i=0\n",
    "while i<len(list2):\n",
    "    sum1=sum1+list2[i]\n",
    "    avg=sum1/len(list2)\n",
    "\n",
    "    i+=1\n",
    "print('Total Sum of the List is:',sum1)\n",
    "print('Average of the list is:',avg)"
   ]
  },
  {
   "cell_type": "code",
   "execution_count": null,
   "id": "e33f20c1-4d9e-409f-b1da-b62ce9eb2dd0",
   "metadata": {},
   "outputs": [],
   "source": []
  }
 ],
 "metadata": {
  "kernelspec": {
   "display_name": "Python 3 (ipykernel)",
   "language": "python",
   "name": "python3"
  },
  "language_info": {
   "codemirror_mode": {
    "name": "ipython",
    "version": 3
   },
   "file_extension": ".py",
   "mimetype": "text/x-python",
   "name": "python",
   "nbconvert_exporter": "python",
   "pygments_lexer": "ipython3",
   "version": "3.12.2"
  }
 },
 "nbformat": 4,
 "nbformat_minor": 5
}
