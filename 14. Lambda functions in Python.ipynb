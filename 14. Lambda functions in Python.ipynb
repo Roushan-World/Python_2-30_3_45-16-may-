{
 "cells": [
  {
   "cell_type": "markdown",
   "id": "d3c0048d-97a5-4a86-a036-214902bb5445",
   "metadata": {},
   "source": [
    "# 14. Lambda function in Python\n",
    "\n",
    " * __A Lambda function is a small anononymous functions.__\n",
    " * __A Lambda function can take any number of arguments, but can only have one expressions.__\n",
    " * __The Expression is eveluated and returned.__\n",
    " * __Lambda functions can be used wherever function objects are required.__\n",
    " * __Lambda functions Expressions(or Lambda functions) are essentitally blocks of code that can be assigned to variable, passed as an arguments, or returned from a function call, in Language that support high-order functions.__\n",
    " * __The main role of lambda function is better described in the the scenarios when we employe them anonymously inside another functions.__\n",
    " * __n Python, the Lambda function can be utilized as an arguments to the high-order functions as an argument.__\n",
    " * __Lambda function in Python__\n",
    "   * __1.Syntax__\n",
    "     * __Normal Functions__\n",
    "     * __Anonymous Functions__\n",
    "   * __2. Usages__\n",
    "     * __Lambda with filters()__\n",
    "     * __Lambda with map()__\n",
    "     * __Lambda with reduce()__\n",
    "     * __Lambda with sorted()__\n",
    "     * __Lambda with apply()__\n",
    "   * __Comman Error__\n",
    "     * __SyntaxErro__\n",
    "     * __TypeError__"
   ]
  },
  {
   "cell_type": "code",
   "execution_count": 1,
   "id": "1de57fcf-d0db-4885-9f3f-08c6be05a607",
   "metadata": {},
   "outputs": [
    {
     "data": {
      "text/plain": [
       "16"
      ]
     },
     "execution_count": 1,
     "metadata": {},
     "output_type": "execute_result"
    }
   ],
   "source": [
    "def func(x):  # perameterized funciton\n",
    "    return x+6\n",
    "func(10)  #10+6"
   ]
  },
  {
   "cell_type": "code",
   "execution_count": 2,
   "id": "be11c909-1bba-43f6-a93e-3788e915d9ae",
   "metadata": {},
   "outputs": [
    {
     "data": {
      "text/plain": [
       "16"
      ]
     },
     "execution_count": 2,
     "metadata": {},
     "output_type": "execute_result"
    }
   ],
   "source": [
    "(lambda x:x+6)(10) # small anonymous function."
   ]
  },
  {
   "cell_type": "code",
   "execution_count": 5,
   "id": "3240e6c9-ca92-44d6-8023-6765e9de7fa8",
   "metadata": {},
   "outputs": [
    {
     "name": "stdin",
     "output_type": "stream",
     "text": [
      "Enter any number: 50\n"
     ]
    },
    {
     "data": {
      "text/plain": [
       "60"
      ]
     },
     "execution_count": 5,
     "metadata": {},
     "output_type": "execute_result"
    }
   ],
   "source": [
    "# wap to take input from user and perfrom calcuations.\n",
    "def func(y):\n",
    "    sum1=y+10\n",
    "    return sum1\n",
    "num1=int(input('Enter any number:'))\n",
    "func(num1)"
   ]
  },
  {
   "cell_type": "code",
   "execution_count": 11,
   "id": "5d89294a-263d-43fd-8396-bf353f88d545",
   "metadata": {},
   "outputs": [
    {
     "name": "stdin",
     "output_type": "stream",
     "text": [
      "Enter any number: 80\n"
     ]
    },
    {
     "data": {
      "text/plain": [
       "90"
      ]
     },
     "execution_count": 11,
     "metadata": {},
     "output_type": "execute_result"
    }
   ],
   "source": [
    "num2=int(input('Enter any number:'))\n",
    "\n",
    "(lambda sum1:sum1+10)(num2)"
   ]
  },
  {
   "cell_type": "code",
   "execution_count": 12,
   "id": "b431405f-a958-4728-b4e4-92b9a4b810aa",
   "metadata": {},
   "outputs": [
    {
     "name": "stdin",
     "output_type": "stream",
     "text": [
      "Enter any number 20\n"
     ]
    },
    {
     "name": "stdout",
     "output_type": "stream",
     "text": [
      "The value is: 400\n"
     ]
    }
   ],
   "source": [
    "# wap to find exponent from user input number in function.\n",
    "\n",
    "def expo(x):\n",
    "    exponent=x**2\n",
    "    print('The value is:',exponent)\n",
    "\n",
    "user1=int(input('Enter any number'))\n",
    "expo(user1)"
   ]
  },
  {
   "cell_type": "code",
   "execution_count": 14,
   "id": "2d42c866-67ca-46bb-9ce9-a3ef10ada45c",
   "metadata": {},
   "outputs": [
    {
     "name": "stdin",
     "output_type": "stream",
     "text": [
      "Enter any number: 20\n"
     ]
    },
    {
     "data": {
      "text/plain": [
       "400"
      ]
     },
     "execution_count": 14,
     "metadata": {},
     "output_type": "execute_result"
    }
   ],
   "source": [
    "user2=int(input('Enter any number:'))\n",
    "\n",
    "(lambda x:x**2)(user2)"
   ]
  },
  {
   "cell_type": "code",
   "execution_count": 16,
   "id": "1c45f7c2-e4f2-4554-a430-463ef79d4a39",
   "metadata": {},
   "outputs": [
    {
     "name": "stdout",
     "output_type": "stream",
     "text": [
      "Even List is: [10, 20, 30, 78, 62, 102] \n",
      "Odd List is: [25, 79, 45, 53, 51, 1001, 103]\n"
     ]
    }
   ],
   "source": [
    "# 1. Write a Python program to cound the even or odd numbers in a given array of integers using lambda function and loop.\n",
    "# array_nums=[10,20,30,25,78,79,45,62,53,51,1001,102,103]\n",
    "\n",
    "array_nums=[10,20,30,25,78,79,45,62,53,51,1001,102,103]\n",
    "\n",
    "def even_odd():\n",
    "    even = []\n",
    "    odd = []\n",
    "    for i in array_nums:\n",
    "        if i%2==0:\n",
    "            even.append(i)\n",
    "        else:\n",
    "            odd.append(i)\n",
    "    print('Even List is:',even,'\\nOdd List is:',odd)\n",
    "\n",
    "even_odd()"
   ]
  },
  {
   "cell_type": "code",
   "execution_count": 22,
   "id": "3a4d0439-3d96-4f02-be3b-6757a22adb41",
   "metadata": {},
   "outputs": [
    {
     "name": "stdout",
     "output_type": "stream",
     "text": [
      "(<function <lambda> at 0x000001FDF3C845E0>, [10, 20, 30, 25, 78, 79, 45, 62, 53, 51, 1001, 102, 103])\n"
     ]
    }
   ],
   "source": [
    "array_nums=[10,20,30,25,78,79,45,62,53,51,1001,102,103]\n",
    "\n",
    "even_nums=(lambda x:(x%2==0),array_nums)\n",
    "print(even_nums)"
   ]
  },
  {
   "cell_type": "code",
   "execution_count": 28,
   "id": "2c0b38ff-f8b8-4750-8edd-22d1d9b27303",
   "metadata": {},
   "outputs": [
    {
     "name": "stdout",
     "output_type": "stream",
     "text": [
      "[10, 20, 30, 78, 62, 102]\n",
      "[25, 79, 45, 53, 51, 1001, 103]\n"
     ]
    }
   ],
   "source": [
    "# FILTER ONLY WORKS ON LIST AND TUPLES\n",
    "array_nums1=[10,20,30,25,78,79,45,62,53,51,1001,102,103]\n",
    "even_num=list(filter(lambda y:(y%2==0),array_nums1))\n",
    "print(even_num)\n",
    "odd_num=list(filter(lambda y1:(y1%2!=0),array_nums1))\n",
    "print(odd_num)"
   ]
  },
  {
   "cell_type": "code",
   "execution_count": 32,
   "id": "2c767b91-01e1-4365-b13f-6479624ca449",
   "metadata": {},
   "outputs": [
    {
     "name": "stdout",
     "output_type": "stream",
     "text": [
      "Weekdays having 6 values is: ['Monday', 'Friday', 'Sunday'] \n",
      "Not having 6 values is: ['Tuesday', 'Wednesday', 'Thursday', 'Saturday']\n"
     ]
    }
   ],
   "source": [
    "# Write a python to filter a given list to determine if the values in the list have a length of 6 using lambda function.\n",
    "# using loop and lambda\n",
    "# weekdays=[\"Monday\",'Tuesday','Wednesday','Thursday',\"Friday\",'Saturday','Sunday']\n",
    "weekdays=[\"Monday\",'Tuesday','Wednesday','Thursday',\"Friday\",'Saturday','Sunday']\n",
    "\n",
    "def filter_weekday():\n",
    "    list_6=[]\n",
    "    list_2=[]\n",
    "    for i in weekdays:\n",
    "        if len(i)==6:\n",
    "            # print(i)\n",
    "            list_6.append(i)\n",
    "        else:\n",
    "            list_2.append(i)\n",
    "        # print(i)\n",
    "    print('Weekdays having 6 values is:',list_6,\"\\nNot having 6 values is:\",list_2)\n",
    "\n",
    "filter_weekday()"
   ]
  },
  {
   "cell_type": "code",
   "execution_count": 38,
   "id": "f97ba386-b179-4d5e-ac4e-1b31f60bf720",
   "metadata": {},
   "outputs": [
    {
     "name": "stdout",
     "output_type": "stream",
     "text": [
      "['Monday', 'Friday', 'Sunday']\n",
      "['Tuesday', 'Wednesday', 'Thursday', 'Saturday']\n"
     ]
    }
   ],
   "source": [
    "weekdays=[\"Monday\",'Tuesday','Wednesday','Thursday',\"Friday\",'Saturday','Sunday']\n",
    "\n",
    "weekdays_filter=list(filter(lambda x:len(x)==6,weekdays))\n",
    "print(weekdays_filter)\n",
    "\n",
    "weekdays_more_6=list(filter(lambda y:len(y)>6,weekdays))\n",
    "print(weekdays_more_6)"
   ]
  },
  {
   "cell_type": "code",
   "execution_count": 40,
   "id": "56298959-8aff-42e1-a8f0-dc4c0540d465",
   "metadata": {},
   "outputs": [],
   "source": [
    "import datetime"
   ]
  },
  {
   "cell_type": "code",
   "execution_count": 88,
   "id": "2c839dff-ccaa-4bc4-8f77-2b9ba6d5000a",
   "metadata": {},
   "outputs": [
    {
     "data": {
      "text/plain": [
       "datetime.datetime(2024, 7, 15, 15, 32, 43, 817147)"
      ]
     },
     "execution_count": 88,
     "metadata": {},
     "output_type": "execute_result"
    }
   ],
   "source": [
    "now=datetime.datetime.now()\n",
    "now"
   ]
  },
  {
   "cell_type": "code",
   "execution_count": 89,
   "id": "a55ff6b2-18e9-46ec-ac82-b25e6f31e59a",
   "metadata": {},
   "outputs": [
    {
     "name": "stdout",
     "output_type": "stream",
     "text": [
      "2024\n"
     ]
    }
   ],
   "source": [
    "# wap to extract year,month,date and time using lambda.\n",
    "\n",
    "year=(lambda x:x.year)\n",
    "print(year(now))"
   ]
  },
  {
   "cell_type": "code",
   "execution_count": 90,
   "id": "6ccfe29f-5465-4dce-8691-825fd97f9352",
   "metadata": {},
   "outputs": [
    {
     "name": "stdout",
     "output_type": "stream",
     "text": [
      "7\n"
     ]
    }
   ],
   "source": [
    "#month\n",
    "\n",
    "month=(lambda y:y.month)\n",
    "print(month(now))"
   ]
  },
  {
   "cell_type": "code",
   "execution_count": 91,
   "id": "0e480194-da47-4a98-870b-3a9f2cef303e",
   "metadata": {},
   "outputs": [
    {
     "name": "stdout",
     "output_type": "stream",
     "text": [
      "15\n"
     ]
    }
   ],
   "source": [
    "# day\n",
    "\n",
    "date=(lambda x:x.day)\n",
    "print(date(now))"
   ]
  },
  {
   "cell_type": "code",
   "execution_count": 92,
   "id": "1b918dd3-5409-4439-9d44-35ef741c13a4",
   "metadata": {},
   "outputs": [
    {
     "name": "stdout",
     "output_type": "stream",
     "text": [
      "15\n"
     ]
    }
   ],
   "source": [
    "#hours\n",
    "\n",
    "hours=(lambda x1:x1.hour)\n",
    "print(hours(now))"
   ]
  },
  {
   "cell_type": "code",
   "execution_count": 93,
   "id": "8d3dfa91-3b3a-48af-a8c1-cdec1153635b",
   "metadata": {},
   "outputs": [
    {
     "name": "stdout",
     "output_type": "stream",
     "text": [
      "32\n"
     ]
    }
   ],
   "source": [
    "# minutes\n",
    "\n",
    "min1=(lambda x2:x2.minute)\n",
    "print(min1(now))"
   ]
  },
  {
   "cell_type": "code",
   "execution_count": 94,
   "id": "b566c0b4-2112-4984-83fe-99c127fd0b75",
   "metadata": {},
   "outputs": [
    {
     "name": "stdout",
     "output_type": "stream",
     "text": [
      "43\n"
     ]
    }
   ],
   "source": [
    "# second\n",
    "\n",
    "sec=(lambda x3:x3.second)\n",
    "print(sec(now))"
   ]
  },
  {
   "cell_type": "markdown",
   "id": "1e31d53f-a73c-49f5-a24a-5a46a18c273b",
   "metadata": {},
   "source": [
    "# Lambda Filter()\n",
    "\n",
    " * __A higher-order function__\n",
    " * __Syntax: filter(function,sequecne)__\n",
    "    * __It applies function to each element of sequence and returns for which the function returns true.__\n",
    " * __Filter returns a subset of sequence__\n",
    "    * __to generate the actual list, we need to apply list()__"
   ]
  },
  {
   "cell_type": "code",
   "execution_count": 97,
   "id": "b81ea4ea-4d03-4f62-97be-5e3f56b410f3",
   "metadata": {},
   "outputs": [
    {
     "name": "stdin",
     "output_type": "stream",
     "text": [
      "Enter any number: 31\n"
     ]
    },
    {
     "name": "stdout",
     "output_type": "stream",
     "text": [
      "31 is not divisible by 3.\n"
     ]
    }
   ],
   "source": [
    "# waf to check number is divisible by 3 or not.\n",
    "\n",
    "def divisible_3():\n",
    "    user1=int(input('Enter any number:'))\n",
    "    if user1%3==0:\n",
    "        print(f'{user1} is divisible by 3')\n",
    "    else:\n",
    "        print(f'{user1} is not divisible by 3.')\n",
    "\n",
    "divisible_3()"
   ]
  },
  {
   "cell_type": "code",
   "execution_count": 100,
   "id": "fd8b33f5-0842-4b30-90e0-99613f64e9b4",
   "metadata": {},
   "outputs": [
    {
     "data": {
      "text/plain": [
       "False"
      ]
     },
     "execution_count": 100,
     "metadata": {},
     "output_type": "execute_result"
    }
   ],
   "source": [
    "def isDiv(x):\n",
    "    return x%3==0\n",
    "\n",
    "def isEven(x):\n",
    "    return x%2==0\n",
    "\n",
    "isDiv(31)"
   ]
  },
  {
   "cell_type": "code",
   "execution_count": 102,
   "id": "84516891-d2b6-414c-b145-1f98e4dea1b9",
   "metadata": {},
   "outputs": [
    {
     "data": {
      "text/plain": [
       "False"
      ]
     },
     "execution_count": 102,
     "metadata": {},
     "output_type": "execute_result"
    }
   ],
   "source": [
    "isEven(11)"
   ]
  },
  {
   "cell_type": "code",
   "execution_count": 103,
   "id": "bb348013-e776-4e88-9920-e9f45faff93e",
   "metadata": {},
   "outputs": [
    {
     "data": {
      "text/plain": [
       "range(0, 31)"
      ]
     },
     "execution_count": 103,
     "metadata": {},
     "output_type": "execute_result"
    }
   ],
   "source": [
    "range(31)"
   ]
  },
  {
   "cell_type": "code",
   "execution_count": 104,
   "id": "244a97d4-db38-4d04-a37b-66a1f1d3eddb",
   "metadata": {},
   "outputs": [
    {
     "data": {
      "text/plain": [
       "[0, 2, 4, 6, 8, 10, 12, 14, 16, 18, 20, 22, 24, 26, 28, 30]"
      ]
     },
     "execution_count": 104,
     "metadata": {},
     "output_type": "execute_result"
    }
   ],
   "source": [
    "list(filter(isEven,range(31)))"
   ]
  },
  {
   "cell_type": "code",
   "execution_count": 105,
   "id": "71c36b62-3e57-4dba-b094-d5a01100fdf1",
   "metadata": {},
   "outputs": [
    {
     "data": {
      "text/plain": [
       "[12, 15, 18, 21, 24, 27]"
      ]
     },
     "execution_count": 105,
     "metadata": {},
     "output_type": "execute_result"
    }
   ],
   "source": [
    "list(filter(isDiv,range(10,30)))"
   ]
  },
  {
   "cell_type": "code",
   "execution_count": 108,
   "id": "bc162bb9-c308-48c0-bf86-04c88a8a3789",
   "metadata": {},
   "outputs": [
    {
     "data": {
      "text/plain": [
       "True"
      ]
     },
     "execution_count": 108,
     "metadata": {},
     "output_type": "execute_result"
    }
   ],
   "source": [
    "def isCaps(x):\n",
    "    return 'A' <= x[0]  <='Z'     # capitalize()\n",
    "\n",
    "y=isCaps('Sahil')\n",
    "y"
   ]
  },
  {
   "cell_type": "markdown",
   "id": "5bab552f-6cd4-4b1a-ac66-d674416dfe78",
   "metadata": {},
   "source": [
    "# map() functions\n",
    " * __A higher-order functions__\n",
    " * __Syntax: map(function,sequence)__\n",
    " * __applies function to each element of sequence and returns the result.__"
   ]
  },
  {
   "cell_type": "code",
   "execution_count": 2,
   "id": "ee114cb9-4f2c-4ca7-b466-ab1e2ec721d9",
   "metadata": {},
   "outputs": [
    {
     "data": {
      "text/plain": [
       "100"
      ]
     },
     "execution_count": 2,
     "metadata": {},
     "output_type": "execute_result"
    }
   ],
   "source": [
    "def square_func(x):\n",
    "    sqr=x**2\n",
    "    return sqr\n",
    "\n",
    "square_func(10)"
   ]
  },
  {
   "cell_type": "code",
   "execution_count": 5,
   "id": "1211fa30-dea1-4acc-bb51-827836e8815e",
   "metadata": {},
   "outputs": [
    {
     "name": "stdin",
     "output_type": "stream",
     "text": [
      "Enter your range: 5\n"
     ]
    },
    {
     "data": {
      "text/plain": [
       "[0, 1, 4, 9, 16]"
      ]
     },
     "execution_count": 5,
     "metadata": {},
     "output_type": "execute_result"
    }
   ],
   "source": [
    "y=int(input('Enter your range:'))\n",
    "x=list(map(square_func,range(y)))\n",
    "x"
   ]
  },
  {
   "cell_type": "code",
   "execution_count": 6,
   "id": "1922fb85-9119-469d-aad7-672827e0991f",
   "metadata": {},
   "outputs": [
    {
     "data": {
      "text/plain": [
       "1000"
      ]
     },
     "execution_count": 6,
     "metadata": {},
     "output_type": "execute_result"
    }
   ],
   "source": [
    "def cube_value(x):\n",
    "    cube=x**3\n",
    "    return cube\n",
    "\n",
    "\n",
    "cube_value(10)"
   ]
  },
  {
   "cell_type": "code",
   "execution_count": 7,
   "id": "e141138a-b86b-4ab4-921f-66d588577899",
   "metadata": {},
   "outputs": [
    {
     "name": "stdin",
     "output_type": "stream",
     "text": [
      "Enter Any value: 10\n"
     ]
    },
    {
     "data": {
      "text/plain": [
       "[0, 1, 8, 27, 64, 125, 216, 343, 512, 729]"
      ]
     },
     "execution_count": 7,
     "metadata": {},
     "output_type": "execute_result"
    }
   ],
   "source": [
    "y1=int(input('Enter Any value:'))\n",
    "x=list(map(cube_value,range(y1)))\n",
    "x"
   ]
  },
  {
   "cell_type": "markdown",
   "id": "8fe0c5fd-ec17-4577-bc29-80ebaa352dee",
   "metadata": {},
   "source": [
    "# reduce()\n",
    "\n",
    " * __Required: from functools import reduce__\n",
    " * __syntax: reduce(function,sequence)__\n",
    " * __reduce,continually applies the function(x,y) to the sequences. It returns a single value.__"
   ]
  },
  {
   "cell_type": "code",
   "execution_count": 8,
   "id": "6a385cec-999f-44c3-8f1b-885e6f4adb19",
   "metadata": {},
   "outputs": [],
   "source": [
    "from functools import reduce\n"
   ]
  },
  {
   "cell_type": "code",
   "execution_count": 9,
   "id": "757b59e7-fe41-438f-8c76-93e00b8cbfdb",
   "metadata": {},
   "outputs": [
    {
     "data": {
      "text/plain": [
       "30"
      ]
     },
     "execution_count": 9,
     "metadata": {},
     "output_type": "execute_result"
    }
   ],
   "source": [
    "def add(x,y):\n",
    "    return x+y  #3+3=6\n",
    "\n",
    "add(10,20)"
   ]
  },
  {
   "cell_type": "code",
   "execution_count": 10,
   "id": "5e8c3626-0f05-4509-b994-0b9e43148cef",
   "metadata": {},
   "outputs": [
    {
     "data": {
      "text/plain": [
       "45"
      ]
     },
     "execution_count": 10,
     "metadata": {},
     "output_type": "execute_result"
    }
   ],
   "source": [
    "reduce(add,range(10))    #1,2,3,4,5,6,7,8,9"
   ]
  },
  {
   "cell_type": "code",
   "execution_count": 14,
   "id": "8bca7764-d47c-4b1a-9bed-b0e1a2c91ddf",
   "metadata": {},
   "outputs": [
    {
     "data": {
      "text/plain": [
       "362880"
      ]
     },
     "execution_count": 14,
     "metadata": {},
     "output_type": "execute_result"
    }
   ],
   "source": [
    "def mult(x,y):\n",
    "    return x*y\n",
    "\n",
    "reduce(mult,range(2,10))"
   ]
  },
  {
   "cell_type": "code",
   "execution_count": 15,
   "id": "eef4a27c-3df2-46b7-8a2b-73e55e209301",
   "metadata": {},
   "outputs": [],
   "source": [
    "# apply\n",
    "\n",
    "import pandas as pd"
   ]
  },
  {
   "cell_type": "code",
   "execution_count": 21,
   "id": "65829ee6-2583-4a56-85d8-ec8a5146d202",
   "metadata": {},
   "outputs": [
    {
     "data": {
      "text/html": [
       "<div>\n",
       "<style scoped>\n",
       "    .dataframe tbody tr th:only-of-type {\n",
       "        vertical-align: middle;\n",
       "    }\n",
       "\n",
       "    .dataframe tbody tr th {\n",
       "        vertical-align: top;\n",
       "    }\n",
       "\n",
       "    .dataframe thead th {\n",
       "        text-align: right;\n",
       "    }\n",
       "</style>\n",
       "<table border=\"1\" class=\"dataframe\">\n",
       "  <thead>\n",
       "    <tr style=\"text-align: right;\">\n",
       "      <th></th>\n",
       "      <th>Name</th>\n",
       "      <th>Section</th>\n",
       "      <th>Marks</th>\n",
       "    </tr>\n",
       "  </thead>\n",
       "  <tbody>\n",
       "    <tr>\n",
       "      <th>0</th>\n",
       "      <td>Katrina Kaif</td>\n",
       "      <td>C</td>\n",
       "      <td>10</td>\n",
       "    </tr>\n",
       "    <tr>\n",
       "      <th>1</th>\n",
       "      <td>Jackline</td>\n",
       "      <td>A</td>\n",
       "      <td>12</td>\n",
       "    </tr>\n",
       "    <tr>\n",
       "      <th>2</th>\n",
       "      <td>Anushka</td>\n",
       "      <td>B</td>\n",
       "      <td>13</td>\n",
       "    </tr>\n",
       "  </tbody>\n",
       "</table>\n",
       "</div>"
      ],
      "text/plain": [
       "           Name Section  Marks\n",
       "0  Katrina Kaif       C     10\n",
       "1      Jackline       A     12\n",
       "2       Anushka       B     13"
      ]
     },
     "execution_count": 21,
     "metadata": {},
     "output_type": "execute_result"
    }
   ],
   "source": [
    "values=[('Katrina Kaif','C',10),(\"Jackline\",\"A\",12),(\"Anushka\",\"B\",13)]\n",
    "df=pd.DataFrame(values,columns=['Name',\"Section\",\"Marks\"])\n",
    "df"
   ]
  },
  {
   "cell_type": "code",
   "execution_count": 23,
   "id": "6ecef1ba-d0ac-4f2b-8902-8619fb98b24c",
   "metadata": {},
   "outputs": [
    {
     "data": {
      "text/html": [
       "<div>\n",
       "<style scoped>\n",
       "    .dataframe tbody tr th:only-of-type {\n",
       "        vertical-align: middle;\n",
       "    }\n",
       "\n",
       "    .dataframe tbody tr th {\n",
       "        vertical-align: top;\n",
       "    }\n",
       "\n",
       "    .dataframe thead th {\n",
       "        text-align: right;\n",
       "    }\n",
       "</style>\n",
       "<table border=\"1\" class=\"dataframe\">\n",
       "  <thead>\n",
       "    <tr style=\"text-align: right;\">\n",
       "      <th></th>\n",
       "      <th>0</th>\n",
       "      <th>1</th>\n",
       "      <th>2</th>\n",
       "    </tr>\n",
       "  </thead>\n",
       "  <tbody>\n",
       "    <tr>\n",
       "      <th>0</th>\n",
       "      <td>10</td>\n",
       "      <td>15</td>\n",
       "      <td>10</td>\n",
       "    </tr>\n",
       "    <tr>\n",
       "      <th>1</th>\n",
       "      <td>150</td>\n",
       "      <td>200</td>\n",
       "      <td>12</td>\n",
       "    </tr>\n",
       "    <tr>\n",
       "      <th>2</th>\n",
       "      <td>154</td>\n",
       "      <td>789</td>\n",
       "      <td>13</td>\n",
       "    </tr>\n",
       "  </tbody>\n",
       "</table>\n",
       "</div>"
      ],
      "text/plain": [
       "     0    1   2\n",
       "0   10   15  10\n",
       "1  150  200  12\n",
       "2  154  789  13"
      ]
     },
     "execution_count": 23,
     "metadata": {},
     "output_type": "execute_result"
    }
   ],
   "source": [
    "values=[(10,15,10),(150,200,12),(154,789,13)]\n",
    "df=pd.DataFrame(values)\n",
    "df"
   ]
  },
  {
   "cell_type": "code",
   "execution_count": 24,
   "id": "935d736e-c464-4eed-822f-f01068a14c97",
   "metadata": {},
   "outputs": [
    {
     "data": {
      "text/html": [
       "<div>\n",
       "<style scoped>\n",
       "    .dataframe tbody tr th:only-of-type {\n",
       "        vertical-align: middle;\n",
       "    }\n",
       "\n",
       "    .dataframe tbody tr th {\n",
       "        vertical-align: top;\n",
       "    }\n",
       "\n",
       "    .dataframe thead th {\n",
       "        text-align: right;\n",
       "    }\n",
       "</style>\n",
       "<table border=\"1\" class=\"dataframe\">\n",
       "  <thead>\n",
       "    <tr style=\"text-align: right;\">\n",
       "      <th></th>\n",
       "      <th>0</th>\n",
       "      <th>1</th>\n",
       "      <th>2</th>\n",
       "    </tr>\n",
       "  </thead>\n",
       "  <tbody>\n",
       "    <tr>\n",
       "      <th>0</th>\n",
       "      <td>20</td>\n",
       "      <td>25</td>\n",
       "      <td>20</td>\n",
       "    </tr>\n",
       "    <tr>\n",
       "      <th>1</th>\n",
       "      <td>160</td>\n",
       "      <td>210</td>\n",
       "      <td>22</td>\n",
       "    </tr>\n",
       "    <tr>\n",
       "      <th>2</th>\n",
       "      <td>164</td>\n",
       "      <td>799</td>\n",
       "      <td>23</td>\n",
       "    </tr>\n",
       "  </tbody>\n",
       "</table>\n",
       "</div>"
      ],
      "text/plain": [
       "     0    1   2\n",
       "0   20   25  20\n",
       "1  160  210  22\n",
       "2  164  799  23"
      ]
     },
     "execution_count": 24,
     "metadata": {},
     "output_type": "execute_result"
    }
   ],
   "source": [
    "df1=df.apply(lambda x:x+10)\n",
    "df1"
   ]
  },
  {
   "cell_type": "code",
   "execution_count": null,
   "id": "c032a4df-ed32-4196-9cf8-3b0a76d04073",
   "metadata": {},
   "outputs": [],
   "source": []
  }
 ],
 "metadata": {
  "kernelspec": {
   "display_name": "Python 3 (ipykernel)",
   "language": "python",
   "name": "python3"
  },
  "language_info": {
   "codemirror_mode": {
    "name": "ipython",
    "version": 3
   },
   "file_extension": ".py",
   "mimetype": "text/x-python",
   "name": "python",
   "nbconvert_exporter": "python",
   "pygments_lexer": "ipython3",
   "version": "3.12.2"
  }
 },
 "nbformat": 4,
 "nbformat_minor": 5
}
