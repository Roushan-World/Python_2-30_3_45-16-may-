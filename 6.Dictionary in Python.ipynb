{
 "cells": [
  {
   "cell_type": "markdown",
   "id": "de9dbc60-255e-4907-8b8c-24cfa8c61922",
   "metadata": {},
   "source": [
    "# 6. Dictionary in Python\n",
    "\n",
    " * __Dictionary are used to store data values in key:value pairs.__\n",
    " * __A dictionary is a collection which is ordered, changeable or mutable and do not allow duplicates.__\n",
    " * __Dictionary items are ordered, changeable, and does not allow duplicates.__\n",
    " * __Dictionary items are presented in key:value pair, and can be referred to by using the key name.__\n",
    " * __Dictionary are changeable, meaning that we can change, add or remove items after the dictionary has been created.__\n",
    " * __Dictionary cannot have tow items with the same key.__\n",
    " * __A dictionary can nested and can contains antoher dicationary.__\n",
    "\n",
    "    * __'name'--------------->'Bob'__\n",
    "    * __'age'----------------> 25__\n",
    "    * __'job'----------------> 'Dev'__\n",
    "    * __'city'---------------> 'New York'__\n",
    "    * __'email'--------------> 'bob@web.com'__"
   ]
  },
  {
   "cell_type": "code",
   "execution_count": 2,
   "id": "9ed2f823-3b48-4286-989e-d35f1ec6b816",
   "metadata": {},
   "outputs": [
    {
     "data": {
      "text/plain": [
       "{'key_1': 'value1',\n",
       " 'key_2': 'value2',\n",
       " 'key_3': 'value3',\n",
       " 'key_4': 'value4',\n",
       " 'key_5': 'value5',\n",
       " 'key_6': 'value6'}"
      ]
     },
     "execution_count": 2,
     "metadata": {},
     "output_type": "execute_result"
    }
   ],
   "source": [
    "dict1={\n",
    "    'key_1':'value1',\n",
    "    'key_2':'value2',\n",
    "    'key_3':'value3',\n",
    "    'key_4':'value4',\n",
    "    'key_5':'value5',\n",
    "    'key_6':'value6'\n",
    "}\n",
    "dict1"
   ]
  },
  {
   "cell_type": "code",
   "execution_count": 3,
   "id": "0307cc49-9bd0-4969-9b06-a05714b7892c",
   "metadata": {},
   "outputs": [
    {
     "name": "stdout",
     "output_type": "stream",
     "text": [
      "<class 'dict'>\n"
     ]
    }
   ],
   "source": [
    "print(type(dict1))"
   ]
  },
  {
   "cell_type": "code",
   "execution_count": 10,
   "id": "fe31f38b-aaeb-4994-8804-8ce73bc9ae29",
   "metadata": {},
   "outputs": [
    {
     "data": {
      "text/plain": [
       "{'name': 'Sahil Khatik',\n",
       " 'age': 25,\n",
       " 'email': 'sahil@234gmail.com',\n",
       " 'job': 'Learner',\n",
       " 'city': 'Pune',\n",
       " 'contact no.': '789654123'}"
      ]
     },
     "execution_count": 10,
     "metadata": {},
     "output_type": "execute_result"
    }
   ],
   "source": [
    "dict1={\n",
    "    'name':'Sahil Khatik',\n",
    "    'age':25,\n",
    "    'email':'sahil@234gmail.com',\n",
    "    'job':'Learner',\n",
    "    'city':'Pune',\n",
    "    'contact no.':'789654123',\n",
    "}\n",
    "dict1"
   ]
  },
  {
   "cell_type": "code",
   "execution_count": 12,
   "id": "ae08f128-fa22-42f5-aa8f-87203d3c8fea",
   "metadata": {},
   "outputs": [
    {
     "data": {
      "text/plain": [
       "dict_keys(['name', 'age', 'email', 'job', 'city', 'contact no.'])"
      ]
     },
     "execution_count": 12,
     "metadata": {},
     "output_type": "execute_result"
    }
   ],
   "source": [
    "dict1.keys()"
   ]
  },
  {
   "cell_type": "code",
   "execution_count": 13,
   "id": "ee2ebab7-bad8-41c6-bafb-22bde64a633d",
   "metadata": {},
   "outputs": [
    {
     "data": {
      "text/plain": [
       "dict_values(['Sahil Khatik', 25, 'sahil@234gmail.com', 'Learner', 'Pune', '789654123'])"
      ]
     },
     "execution_count": 13,
     "metadata": {},
     "output_type": "execute_result"
    }
   ],
   "source": [
    "# How to check values in dictionary\n",
    "dict1.values()"
   ]
  },
  {
   "cell_type": "code",
   "execution_count": 18,
   "id": "1aabb546-b858-4463-8eea-6beb89054de6",
   "metadata": {},
   "outputs": [
    {
     "name": "stdout",
     "output_type": "stream",
     "text": [
      "Sahil Khatik\n",
      "25\n",
      "sahil@234gmail.com\n",
      "Learner\n",
      "Pune\n",
      "789654123\n"
     ]
    }
   ],
   "source": [
    "# how to accessing dictionary values\n",
    "\n",
    "print(dict1['name'])\n",
    "print(dict1['age'])\n",
    "print(dict1['email'])\n",
    "print(dict1['job'])\n",
    "print(dict1['city'])\n",
    "print(dict1['contact no.'])"
   ]
  },
  {
   "cell_type": "code",
   "execution_count": 23,
   "id": "dfab28af-5f31-462e-87b5-f79a1d3a28c1",
   "metadata": {},
   "outputs": [
    {
     "data": {
      "text/plain": [
       "{'name': 'Sahil Khatik',\n",
       " 'age': 25,\n",
       " 'email': 'sahil@234gmail.com',\n",
       " 'job': 'Learner',\n",
       " 'city': 'Pune',\n",
       " 'contact no.': '789654123',\n",
       " 'Highest qualification': 'MCA'}"
      ]
     },
     "execution_count": 23,
     "metadata": {},
     "output_type": "execute_result"
    }
   ],
   "source": [
    "# how to add new key value in dictionary.\n",
    "dict1['Highest qualification']='MCA'\n",
    "dict1"
   ]
  },
  {
   "cell_type": "code",
   "execution_count": 25,
   "id": "ede79fe6-3a78-424d-86c5-7f431a402f2d",
   "metadata": {},
   "outputs": [
    {
     "data": {
      "text/plain": [
       "{'name': 'Sahil Khatik',\n",
       " 'age': 24,\n",
       " 'email': 'sahil@234gmail.com',\n",
       " 'job': 'Learner',\n",
       " 'city': 'Pune',\n",
       " 'contact no.': '789654123',\n",
       " 'Highest qualification': 'MCA'}"
      ]
     },
     "execution_count": 25,
     "metadata": {},
     "output_type": "execute_result"
    }
   ],
   "source": [
    "# Updation in dictionary.\n",
    "\n",
    "dict1['age']=24\n",
    "dict1"
   ]
  },
  {
   "cell_type": "code",
   "execution_count": 28,
   "id": "4bc707ff-5141-4a1b-93b0-3cd3efbb7766",
   "metadata": {},
   "outputs": [],
   "source": [
    "# Deletion of diciton\n",
    "\n",
    "del(dict1['Highest qualification'])"
   ]
  },
  {
   "cell_type": "code",
   "execution_count": 29,
   "id": "e92924f1-b3cb-493e-9c13-72ad2e5d57a9",
   "metadata": {},
   "outputs": [
    {
     "data": {
      "text/plain": [
       "{'name': 'Sahil Khatik',\n",
       " 'age': 24,\n",
       " 'email': 'sahil@234gmail.com',\n",
       " 'job': 'Learner',\n",
       " 'city': 'Pune',\n",
       " 'contact no.': '789654123'}"
      ]
     },
     "execution_count": 29,
     "metadata": {},
     "output_type": "execute_result"
    }
   ],
   "source": [
    "dict1"
   ]
  },
  {
   "cell_type": "code",
   "execution_count": 30,
   "id": "18369edf-4af0-499d-b973-f5cd981432fb",
   "metadata": {},
   "outputs": [
    {
     "data": {
      "text/plain": [
       "True"
      ]
     },
     "execution_count": 30,
     "metadata": {},
     "output_type": "execute_result"
    }
   ],
   "source": [
    "# verification of key and values in dictionary.\n",
    "# memebership operators[in, not]\n",
    "'name' in dict1"
   ]
  },
  {
   "cell_type": "code",
   "execution_count": 31,
   "id": "414bbc43-2e78-46ee-b484-40752d375e6c",
   "metadata": {},
   "outputs": [
    {
     "data": {
      "text/plain": [
       "True"
      ]
     },
     "execution_count": 31,
     "metadata": {},
     "output_type": "execute_result"
    }
   ],
   "source": [
    "'age' in dict1"
   ]
  },
  {
   "cell_type": "code",
   "execution_count": 33,
   "id": "c28f7980-0fad-49be-8aaf-a06eb4488e6c",
   "metadata": {},
   "outputs": [
    {
     "data": {
      "text/plain": [
       "False"
      ]
     },
     "execution_count": 33,
     "metadata": {},
     "output_type": "execute_result"
    }
   ],
   "source": [
    "'Highest qualificaition' in dict1"
   ]
  },
  {
   "cell_type": "code",
   "execution_count": 35,
   "id": "79c69d2d-062f-49a6-89c3-c02f14fce856",
   "metadata": {},
   "outputs": [
    {
     "data": {
      "text/plain": [
       "True"
      ]
     },
     "execution_count": 35,
     "metadata": {},
     "output_type": "execute_result"
    }
   ],
   "source": [
    "'name' in dict1"
   ]
  },
  {
   "cell_type": "code",
   "execution_count": 42,
   "id": "afd99c28-9d37-411d-8209-9b3fd0cc286a",
   "metadata": {},
   "outputs": [
    {
     "data": {
      "text/plain": [
       "{'name': 'Shrinivash',\n",
       " 'age': '45',\n",
       " 'email': 'shri@123gmail.com',\n",
       " 'Mob_No': '7896541123'}"
      ]
     },
     "execution_count": 42,
     "metadata": {},
     "output_type": "execute_result"
    }
   ],
   "source": [
    "# dictionary creating using dict() function\n",
    "dict2=dict(name='Shrinivash',age='45',email='shri@123gmail.com',Mob_No='7896541123')\n",
    "dict2"
   ]
  },
  {
   "cell_type": "code",
   "execution_count": 43,
   "id": "a700a655-4953-42b6-88b6-06b2e5039255",
   "metadata": {},
   "outputs": [
    {
     "data": {
      "text/plain": [
       "{'name': 'Sahil Khatik',\n",
       " 'age': 24,\n",
       " 'email': 'sahil@234gmail.com',\n",
       " 'job': 'Learner',\n",
       " 'city': 'Pune',\n",
       " 'contact no.': '789654123'}"
      ]
     },
     "execution_count": 43,
     "metadata": {},
     "output_type": "execute_result"
    }
   ],
   "source": [
    "# pop() function\n",
    "# This function is used to remove a specific item in dictionary.\n",
    "#-----------------------------------------------------------------\n",
    "dict1"
   ]
  },
  {
   "cell_type": "code",
   "execution_count": 44,
   "id": "58dfd1f3-f8cb-4071-a558-ce02ce4ffafb",
   "metadata": {},
   "outputs": [
    {
     "data": {
      "text/plain": [
       "'789654123'"
      ]
     },
     "execution_count": 44,
     "metadata": {},
     "output_type": "execute_result"
    }
   ],
   "source": [
    "dict1.pop('contact no.')"
   ]
  },
  {
   "cell_type": "code",
   "execution_count": 45,
   "id": "86581adc-36e2-4a52-90c6-2ab0c8b5a817",
   "metadata": {},
   "outputs": [
    {
     "data": {
      "text/plain": [
       "{'name': 'Sahil Khatik',\n",
       " 'age': 24,\n",
       " 'email': 'sahil@234gmail.com',\n",
       " 'job': 'Learner',\n",
       " 'city': 'Pune'}"
      ]
     },
     "execution_count": 45,
     "metadata": {},
     "output_type": "execute_result"
    }
   ],
   "source": [
    "dict1"
   ]
  },
  {
   "cell_type": "code",
   "execution_count": 47,
   "id": "d750ebe3-c27a-4135-954c-ccc99df775dc",
   "metadata": {},
   "outputs": [
    {
     "data": {
      "text/plain": [
       "('city', 'Pune')"
      ]
     },
     "execution_count": 47,
     "metadata": {},
     "output_type": "execute_result"
    }
   ],
   "source": [
    "# popitem()\n",
    "\n",
    "dict1.popitem()"
   ]
  },
  {
   "cell_type": "code",
   "execution_count": 48,
   "id": "dce12daa-bbd6-4c10-b11d-bc85a16b4fa2",
   "metadata": {},
   "outputs": [
    {
     "data": {
      "text/plain": [
       "{'name': 'Sahil Khatik',\n",
       " 'age': 24,\n",
       " 'email': 'sahil@234gmail.com',\n",
       " 'job': 'Learner'}"
      ]
     },
     "execution_count": 48,
     "metadata": {},
     "output_type": "execute_result"
    }
   ],
   "source": [
    "dict1"
   ]
  },
  {
   "cell_type": "code",
   "execution_count": 49,
   "id": "b62c7312-4441-489c-a183-fa055176306f",
   "metadata": {},
   "outputs": [
    {
     "data": {
      "text/plain": [
       "'Sahil Khatik'"
      ]
     },
     "execution_count": 49,
     "metadata": {},
     "output_type": "execute_result"
    }
   ],
   "source": [
    "dict1.get('name')"
   ]
  },
  {
   "cell_type": "code",
   "execution_count": 50,
   "id": "e84c7dfe-4fd7-49b9-8f3b-e54c8617a3bf",
   "metadata": {},
   "outputs": [
    {
     "data": {
      "text/plain": [
       "{'subject': None, 'name': None, 'contact': None, 'age': None, 'rollno': None}"
      ]
     },
     "execution_count": 50,
     "metadata": {},
     "output_type": "execute_result"
    }
   ],
   "source": [
    "# fromkeys()\n",
    "\n",
    "key={'name','age','contact','rollno','subject'}\n",
    "\n",
    "dict2=dict.fromkeys(key)\n",
    "dict2"
   ]
  },
  {
   "cell_type": "code",
   "execution_count": 51,
   "id": "efa626d1-07cd-4062-85f4-13cf4dd93a7f",
   "metadata": {},
   "outputs": [
    {
     "data": {
      "text/plain": [
       "{'subject': None,\n",
       " 'name': 'Modiji',\n",
       " 'contact': None,\n",
       " 'age': None,\n",
       " 'rollno': None}"
      ]
     },
     "execution_count": 51,
     "metadata": {},
     "output_type": "execute_result"
    }
   ],
   "source": [
    "# \n",
    "dict2['name']='Modiji'\n",
    "dict2"
   ]
  },
  {
   "cell_type": "code",
   "execution_count": 53,
   "id": "dc721a9c-1de4-4a26-9b50-5e41f0091aff",
   "metadata": {},
   "outputs": [
    {
     "data": {
      "text/plain": [
       "dict_items([('subject', None), ('name', 'Modiji'), ('contact', None), ('age', None), ('rollno', None)])"
      ]
     },
     "execution_count": 53,
     "metadata": {},
     "output_type": "execute_result"
    }
   ],
   "source": [
    "x=dict2.items()\n",
    "x"
   ]
  },
  {
   "cell_type": "code",
   "execution_count": 54,
   "id": "cd82802b-6686-4baa-8e81-4364f89bdd9e",
   "metadata": {},
   "outputs": [
    {
     "name": "stdout",
     "output_type": "stream",
     "text": [
      "<class 'dict_items'>\n"
     ]
    }
   ],
   "source": [
    "print(type(x))"
   ]
  },
  {
   "cell_type": "code",
   "execution_count": 57,
   "id": "f33896d7-3acf-446e-9d69-450c255e88fd",
   "metadata": {},
   "outputs": [
    {
     "name": "stdout",
     "output_type": "stream",
     "text": [
      "subject : None\n",
      "name : Modiji\n",
      "contact : None\n",
      "age : None\n",
      "rollno : None\n"
     ]
    }
   ],
   "source": [
    "for i in dict2:\n",
    "    print(i,':',dict2[i])"
   ]
  },
  {
   "cell_type": "code",
   "execution_count": 58,
   "id": "40bbdb46-345a-4af7-bdac-bb53778875af",
   "metadata": {},
   "outputs": [
    {
     "data": {
      "text/plain": [
       "{'name': 'Sahil Khatik',\n",
       " 'age': 24,\n",
       " 'email': 'sahil@234gmail.com',\n",
       " 'job': 'Learner'}"
      ]
     },
     "execution_count": 58,
     "metadata": {},
     "output_type": "execute_result"
    }
   ],
   "source": [
    "dict1"
   ]
  },
  {
   "cell_type": "code",
   "execution_count": 59,
   "id": "814bbf58-94d6-4664-bc4f-aab75aaad652",
   "metadata": {},
   "outputs": [
    {
     "ename": "TypeError",
     "evalue": "pop expected at least 1 argument, got 0",
     "output_type": "error",
     "traceback": [
      "\u001b[1;31m---------------------------------------------------------------------------\u001b[0m",
      "\u001b[1;31mTypeError\u001b[0m                                 Traceback (most recent call last)",
      "Cell \u001b[1;32mIn[59], line 1\u001b[0m\n\u001b[1;32m----> 1\u001b[0m \u001b[43mdict1\u001b[49m\u001b[38;5;241;43m.\u001b[39;49m\u001b[43mpop\u001b[49m\u001b[43m(\u001b[49m\u001b[43m)\u001b[49m\n",
      "\u001b[1;31mTypeError\u001b[0m: pop expected at least 1 argument, got 0"
     ]
    }
   ],
   "source": [
    "dict1.pop()"
   ]
  },
  {
   "cell_type": "code",
   "execution_count": null,
   "id": "0a36c42a-3756-4a23-9dcb-daa35b261f64",
   "metadata": {},
   "outputs": [],
   "source": []
  }
 ],
 "metadata": {
  "kernelspec": {
   "display_name": "Python 3 (ipykernel)",
   "language": "python",
   "name": "python3"
  },
  "language_info": {
   "codemirror_mode": {
    "name": "ipython",
    "version": 3
   },
   "file_extension": ".py",
   "mimetype": "text/x-python",
   "name": "python",
   "nbconvert_exporter": "python",
   "pygments_lexer": "ipython3",
   "version": "3.12.2"
  }
 },
 "nbformat": 4,
 "nbformat_minor": 5
}
