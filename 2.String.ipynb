{
 "cells": [
  {
   "cell_type": "code",
   "execution_count": 1,
   "id": "4d2b7d41-8644-4564-8726-735b1e5d8319",
   "metadata": {},
   "outputs": [
    {
     "name": "stdout",
     "output_type": "stream",
     "text": [
      "3.12.2 (tags/v3.12.2:6abddd9, Feb  6 2024, 21:26:36) [MSC v.1937 64 bit (AMD64)]\n"
     ]
    }
   ],
   "source": [
    "import sys\n",
    "print(sys.version)"
   ]
  },
  {
   "cell_type": "markdown",
   "id": "104b1983-f5a6-4a8f-855e-30ff3be44efd",
   "metadata": {},
   "source": [
    "# 2. String in Python"
   ]
  },
  {
   "cell_type": "code",
   "execution_count": 2,
   "id": "c1c7deed-8f18-49ae-8b24-b6e2566e1a26",
   "metadata": {},
   "outputs": [
    {
     "name": "stdout",
     "output_type": "stream",
     "text": [
      "Hello world\n",
      "Hi python\n",
      "what's your name?\n"
     ]
    }
   ],
   "source": [
    "# String\n",
    "# Quotes i).single quotes ii). double quotes.\n",
    "#-------------------------------------------------------------\n",
    "print(\"Hello world\")  # double quotes\n",
    "print('Hi python')   # single quotes.\n",
    "print(\"what's your name?\")"
   ]
  },
  {
   "cell_type": "code",
   "execution_count": 4,
   "id": "7c0f4cb7-a0af-4baf-9945-500dcd1a2441",
   "metadata": {},
   "outputs": [
    {
     "name": "stdout",
     "output_type": "stream",
     "text": [
      "3+3\n",
      "6\n"
     ]
    }
   ],
   "source": [
    "print('3+3')\n",
    "print(3+3)"
   ]
  },
  {
   "cell_type": "code",
   "execution_count": 7,
   "id": "00e14544-0319-40d3-a7a7-80cf577f0165",
   "metadata": {},
   "outputs": [
    {
     "ename": "NameError",
     "evalue": "name 'true' is not defined",
     "output_type": "error",
     "traceback": [
      "\u001b[1;31m---------------------------------------------------------------------------\u001b[0m",
      "\u001b[1;31mNameError\u001b[0m                                 Traceback (most recent call last)",
      "Cell \u001b[1;32mIn[7], line 1\u001b[0m\n\u001b[1;32m----> 1\u001b[0m \u001b[38;5;28mprint\u001b[39m(\u001b[43mtrue\u001b[49m\u001b[38;5;241m+\u001b[39m\u001b[38;5;241m2\u001b[39m)\n",
      "\u001b[1;31mNameError\u001b[0m: name 'true' is not defined"
     ]
    }
   ],
   "source": [
    "print(true+2)"
   ]
  },
  {
   "cell_type": "code",
   "execution_count": 6,
   "id": "1df849fa-a214-44ac-b74a-6bf08b789d2a",
   "metadata": {},
   "outputs": [
    {
     "name": "stdout",
     "output_type": "stream",
     "text": [
      "True+2\n"
     ]
    }
   ],
   "source": [
    "print('True+2')"
   ]
  },
  {
   "cell_type": "code",
   "execution_count": 8,
   "id": "c90c8d60-6e5a-43c6-b4a1-02a97abe0a8c",
   "metadata": {},
   "outputs": [
    {
     "name": "stdout",
     "output_type": "stream",
     "text": [
      "hello world\n"
     ]
    }
   ],
   "source": [
    "# Indexing in string\n",
    "\n",
    "print('hello world')"
   ]
  },
  {
   "cell_type": "code",
   "execution_count": 9,
   "id": "dfa3f62d-ac86-46b9-aa72-355457d5e4fe",
   "metadata": {},
   "outputs": [
    {
     "name": "stdout",
     "output_type": "stream",
     "text": [
      "Hello world\n"
     ]
    }
   ],
   "source": [
    "x='Hello world'\n",
    "print(x)"
   ]
  },
  {
   "cell_type": "code",
   "execution_count": 15,
   "id": "454929f7-77aa-43d0-8e5b-9f8cfee6764e",
   "metadata": {},
   "outputs": [
    {
     "name": "stdout",
     "output_type": "stream",
     "text": [
      "H\n",
      "e\n",
      "l\n",
      "l\n",
      "o\n",
      " \n",
      "w\n",
      "o\n",
      "r\n",
      "l\n",
      "d\n"
     ]
    }
   ],
   "source": [
    "# positive indexing\n",
    "print(x[0])\n",
    "print(x[1])\n",
    "print(x[2])\n",
    "print(x[3])\n",
    "print(x[4])\n",
    "print(x[5])\n",
    "print(x[6])\n",
    "print(x[7])\n",
    "print(x[8])\n",
    "print(x[9])\n",
    "print(x[10])\n"
   ]
  },
  {
   "cell_type": "code",
   "execution_count": 19,
   "id": "89ec4e06-1730-4d6b-a33c-21c483987ee8",
   "metadata": {},
   "outputs": [
    {
     "name": "stdout",
     "output_type": "stream",
     "text": [
      "d\n",
      "l\n",
      "r\n",
      "o\n",
      "w\n",
      " \n",
      "o\n",
      "l\n",
      "l\n",
      "e\n",
      "H\n"
     ]
    }
   ],
   "source": [
    "# Negative indexing\n",
    "print(x[-1])\n",
    "print(x[-2])\n",
    "print(x[-3])\n",
    "print(x[-4])\n",
    "print(x[-5])\n",
    "print(x[-6])\n",
    "print(x[-7])\n",
    "print(x[-8])\n",
    "print(x[-9])\n",
    "print(x[-10])\n",
    "print(x[-11])"
   ]
  },
  {
   "cell_type": "code",
   "execution_count": 1,
   "id": "417e80ae-867b-48fd-8443-5204edf10681",
   "metadata": {},
   "outputs": [
    {
     "name": "stdout",
     "output_type": "stream",
     "text": [
      "Hello world\n"
     ]
    }
   ],
   "source": [
    "# Striding of string. # skip value\n",
    "\n",
    "x=\"Hello world\"\n",
    "print(x)"
   ]
  },
  {
   "cell_type": "code",
   "execution_count": 2,
   "id": "cb1597aa-b569-4329-b519-87c1ff1fefa1",
   "metadata": {},
   "outputs": [
    {
     "data": {
      "text/plain": [
       "'Hello world'"
      ]
     },
     "execution_count": 2,
     "metadata": {},
     "output_type": "execute_result"
    }
   ],
   "source": [
    "x"
   ]
  },
  {
   "cell_type": "code",
   "execution_count": 3,
   "id": "6bc40275-89fa-411d-9b9e-7a27f7a3cae9",
   "metadata": {},
   "outputs": [
    {
     "data": {
      "text/plain": [
       "'Hello world'"
      ]
     },
     "execution_count": 3,
     "metadata": {},
     "output_type": "execute_result"
    }
   ],
   "source": [
    "x"
   ]
  },
  {
   "cell_type": "code",
   "execution_count": 4,
   "id": "739f7ae0-9742-45ad-9bdd-0960948b006a",
   "metadata": {},
   "outputs": [
    {
     "name": "stdout",
     "output_type": "stream",
     "text": [
      "H\n",
      "e\n"
     ]
    }
   ],
   "source": [
    "print(x[0])\n",
    "print(x[1])"
   ]
  },
  {
   "cell_type": "code",
   "execution_count": 5,
   "id": "d6266dbe-63ee-4803-aace-61100a050c55",
   "metadata": {},
   "outputs": [
    {
     "data": {
      "text/plain": [
       "'d'"
      ]
     },
     "execution_count": 5,
     "metadata": {},
     "output_type": "execute_result"
    }
   ],
   "source": [
    "x[-1]"
   ]
  },
  {
   "cell_type": "code",
   "execution_count": 6,
   "id": "3a01c088-372b-458e-b609-2af2f597c7a1",
   "metadata": {},
   "outputs": [
    {
     "data": {
      "text/plain": [
       "'l'"
      ]
     },
     "execution_count": 6,
     "metadata": {},
     "output_type": "execute_result"
    }
   ],
   "source": [
    "x[-2]"
   ]
  },
  {
   "cell_type": "code",
   "execution_count": 7,
   "id": "aefed56a-6671-4912-9bc2-e669666a302d",
   "metadata": {},
   "outputs": [
    {
     "name": "stdout",
     "output_type": "stream",
     "text": [
      "Hello world\n"
     ]
    }
   ],
   "source": [
    "print(x)"
   ]
  },
  {
   "cell_type": "code",
   "execution_count": 8,
   "id": "fcc34f14-b585-4192-8bb4-ab51891afda0",
   "metadata": {},
   "outputs": [
    {
     "ename": "TypeError",
     "evalue": "string indices must be integers, not 'tuple'",
     "output_type": "error",
     "traceback": [
      "\u001b[1;31m---------------------------------------------------------------------------\u001b[0m",
      "\u001b[1;31mTypeError\u001b[0m                                 Traceback (most recent call last)",
      "Cell \u001b[1;32mIn[8], line 1\u001b[0m\n\u001b[1;32m----> 1\u001b[0m \u001b[38;5;28mprint\u001b[39m(\u001b[43mx\u001b[49m\u001b[43m[\u001b[49m\u001b[38;5;241;43m0\u001b[39;49m\u001b[43m,\u001b[49m\u001b[38;5;241;43m2\u001b[39;49m\u001b[43m,\u001b[49m\u001b[38;5;241;43m4\u001b[39;49m\u001b[43m,\u001b[49m\u001b[38;5;241;43m6\u001b[39;49m\u001b[43m,\u001b[49m\u001b[38;5;241;43m8\u001b[39;49m\u001b[43m,\u001b[49m\u001b[38;5;241;43m10\u001b[39;49m\u001b[43m,\u001b[49m\u001b[38;5;241;43m12\u001b[39;49m\u001b[43m]\u001b[49m)\n",
      "\u001b[1;31mTypeError\u001b[0m: string indices must be integers, not 'tuple'"
     ]
    }
   ],
   "source": [
    "# prafulla logic\n",
    "print(x[0,2,4,6,8,10,12])"
   ]
  },
  {
   "cell_type": "code",
   "execution_count": 11,
   "id": "9a7ae31a-01d8-4519-b51e-512b5e95831f",
   "metadata": {},
   "outputs": [
    {
     "name": "stdout",
     "output_type": "stream",
     "text": [
      "Hello world\n"
     ]
    }
   ],
   "source": [
    "print(x[0:12])"
   ]
  },
  {
   "cell_type": "code",
   "execution_count": 12,
   "id": "1bcdc07f-129b-4aaa-85f3-143a02132777",
   "metadata": {},
   "outputs": [
    {
     "name": "stdout",
     "output_type": "stream",
     "text": [
      "Hello world\n"
     ]
    }
   ],
   "source": [
    "# slicing of string\n",
    "\n",
    "print(x)"
   ]
  },
  {
   "cell_type": "code",
   "execution_count": 14,
   "id": "59a6b2f9-a089-44fe-910f-bb7401390f09",
   "metadata": {},
   "outputs": [
    {
     "name": "stdout",
     "output_type": "stream",
     "text": [
      "Hello world\n",
      "Hello world\n",
      "Hello world\n"
     ]
    }
   ],
   "source": [
    "print(x[:])  # slicing\n",
    "print(x)   # using print keyword\n",
    "print(x[0:])   # using slicing."
   ]
  },
  {
   "cell_type": "code",
   "execution_count": 15,
   "id": "d0a85bf8-bbb9-4520-bb6d-b401eaf34ffc",
   "metadata": {},
   "outputs": [
    {
     "name": "stdout",
     "output_type": "stream",
     "text": [
      "Hello world\n"
     ]
    }
   ],
   "source": [
    "print(x[0:])  # slicing"
   ]
  },
  {
   "cell_type": "code",
   "execution_count": 16,
   "id": "d4001147-e850-4a75-a05f-56634de969f1",
   "metadata": {},
   "outputs": [
    {
     "name": "stdout",
     "output_type": "stream",
     "text": [
      "Hello\n"
     ]
    }
   ],
   "source": [
    "print(x[0:5])"
   ]
  },
  {
   "cell_type": "code",
   "execution_count": 18,
   "id": "a94aa398-b3b0-4617-be9e-6a7261766951",
   "metadata": {},
   "outputs": [
    {
     "name": "stdout",
     "output_type": "stream",
     "text": [
      "worl\n"
     ]
    }
   ],
   "source": [
    "print(x[6:10])"
   ]
  },
  {
   "cell_type": "code",
   "execution_count": 19,
   "id": "c58240a6-6a8d-4249-b1e1-8284ef72362e",
   "metadata": {},
   "outputs": [
    {
     "name": "stdout",
     "output_type": "stream",
     "text": [
      "Hello world\n"
     ]
    }
   ],
   "source": [
    "print(x)"
   ]
  },
  {
   "cell_type": "code",
   "execution_count": 22,
   "id": "e915cbdc-2a41-4361-b41f-5884c8cec333",
   "metadata": {},
   "outputs": [
    {
     "name": "stdout",
     "output_type": "stream",
     "text": [
      "llo\n"
     ]
    }
   ],
   "source": [
    "print(x[2:5])"
   ]
  },
  {
   "cell_type": "code",
   "execution_count": 23,
   "id": "3abbb7fe-e4a1-4174-bd9e-213b9b066906",
   "metadata": {},
   "outputs": [
    {
     "name": "stdout",
     "output_type": "stream",
     "text": [
      "orl\n"
     ]
    }
   ],
   "source": [
    "print(x[7:10])"
   ]
  },
  {
   "cell_type": "code",
   "execution_count": 25,
   "id": "93b7e130-ef2d-455a-9061-cc59e0cedea5",
   "metadata": {},
   "outputs": [
    {
     "name": "stdout",
     "output_type": "stream",
     "text": [
      "d\n"
     ]
    }
   ],
   "source": [
    "print(x[10:11])"
   ]
  },
  {
   "cell_type": "code",
   "execution_count": 26,
   "id": "11581e1f-d5b4-427d-a83e-9dc6a2056a62",
   "metadata": {},
   "outputs": [
    {
     "name": "stdout",
     "output_type": "stream",
     "text": [
      "o w\n"
     ]
    }
   ],
   "source": [
    "print(x[4:7])"
   ]
  },
  {
   "cell_type": "code",
   "execution_count": 29,
   "id": "1fd58bee-5bb8-435a-8a95-df41ead4ea06",
   "metadata": {},
   "outputs": [
    {
     "name": "stdout",
     "output_type": "stream",
     "text": [
      "Hello world\n"
     ]
    }
   ],
   "source": [
    "print(x[0:500])"
   ]
  },
  {
   "cell_type": "code",
   "execution_count": 30,
   "id": "f4e9b5dd-fefb-40c1-8bf9-e797a8e8cad6",
   "metadata": {},
   "outputs": [
    {
     "name": "stdout",
     "output_type": "stream",
     "text": [
      "Hello world\n"
     ]
    }
   ],
   "source": [
    "print(x[:500])"
   ]
  },
  {
   "cell_type": "code",
   "execution_count": 31,
   "id": "3ca0ea21-90bc-4194-997a-773440b893df",
   "metadata": {},
   "outputs": [
    {
     "name": "stdout",
     "output_type": "stream",
     "text": [
      "Hello world\n"
     ]
    }
   ],
   "source": [
    "print(x[0:])"
   ]
  },
  {
   "cell_type": "code",
   "execution_count": 32,
   "id": "6e358686-3d53-4b96-a13a-3c77f6ea2f0c",
   "metadata": {},
   "outputs": [
    {
     "name": "stdout",
     "output_type": "stream",
     "text": [
      "world\n"
     ]
    }
   ],
   "source": [
    "print(x[6:])"
   ]
  },
  {
   "cell_type": "markdown",
   "id": "17c1f8d7-731a-4447-bb05-370d462be1d2",
   "metadata": {},
   "source": [
    "# Striding of string [skip value]"
   ]
  },
  {
   "cell_type": "code",
   "execution_count": 33,
   "id": "ea9e25b8-813a-435b-adbe-1a9706f31a58",
   "metadata": {},
   "outputs": [
    {
     "name": "stdout",
     "output_type": "stream",
     "text": [
      "Hello world\n"
     ]
    }
   ],
   "source": [
    "print(x)"
   ]
  },
  {
   "cell_type": "code",
   "execution_count": 40,
   "id": "f20ea3ac-c119-4553-be48-3e67eb47d09f",
   "metadata": {},
   "outputs": [
    {
     "name": "stdout",
     "output_type": "stream",
     "text": [
      "Hello world\n"
     ]
    }
   ],
   "source": [
    "print(x[::1])"
   ]
  },
  {
   "cell_type": "code",
   "execution_count": 41,
   "id": "fd1a75de-c70a-4e7e-a1f2-98b47976cff9",
   "metadata": {},
   "outputs": [
    {
     "name": "stdout",
     "output_type": "stream",
     "text": [
      "Hlowrd\n"
     ]
    }
   ],
   "source": [
    "print(x[::2])"
   ]
  },
  {
   "cell_type": "code",
   "execution_count": 42,
   "id": "f2815aae-1fd2-4979-a27e-1a0003044323",
   "metadata": {},
   "outputs": [
    {
     "name": "stdout",
     "output_type": "stream",
     "text": [
      "Hlwl\n"
     ]
    }
   ],
   "source": [
    "print(x[::3])"
   ]
  },
  {
   "cell_type": "code",
   "execution_count": 43,
   "id": "e3a37077-0e34-4511-bd02-d5cd9e5358db",
   "metadata": {},
   "outputs": [
    {
     "name": "stdout",
     "output_type": "stream",
     "text": [
      "Hor\n"
     ]
    }
   ],
   "source": [
    "print(x[::4])"
   ]
  },
  {
   "cell_type": "code",
   "execution_count": 44,
   "id": "2799173b-6fe4-403b-b07e-19958ad468bc",
   "metadata": {},
   "outputs": [
    {
     "name": "stdout",
     "output_type": "stream",
     "text": [
      "H d\n"
     ]
    }
   ],
   "source": [
    "print(x[::5])"
   ]
  },
  {
   "cell_type": "code",
   "execution_count": 45,
   "id": "21aaa97c-3166-46a6-8df0-be88d774e3a7",
   "metadata": {},
   "outputs": [
    {
     "name": "stdout",
     "output_type": "stream",
     "text": [
      "Hw\n"
     ]
    }
   ],
   "source": [
    "print(x[::6])"
   ]
  },
  {
   "cell_type": "code",
   "execution_count": 46,
   "id": "35fe10c3-8877-47bd-b729-9e2ff898ffa2",
   "metadata": {},
   "outputs": [
    {
     "name": "stdout",
     "output_type": "stream",
     "text": [
      "Ho\n"
     ]
    }
   ],
   "source": [
    "print(x[::7])"
   ]
  },
  {
   "cell_type": "code",
   "execution_count": 59,
   "id": "0ffa5230-0af0-41c1-87c1-329250a58acd",
   "metadata": {},
   "outputs": [
    {
     "name": "stdout",
     "output_type": "stream",
     "text": [
      "dlrow olleH\n"
     ]
    }
   ],
   "source": [
    "print(x[::-1])"
   ]
  },
  {
   "cell_type": "code",
   "execution_count": 63,
   "id": "8f9db7ad-d1bc-44a3-a93e-6d946def988b",
   "metadata": {},
   "outputs": [
    {
     "name": "stdout",
     "output_type": "stream",
     "text": [
      "world\n"
     ]
    }
   ],
   "source": [
    "y=\"Hello world\"\n",
    "x=y[6:11]\n",
    "print(x)"
   ]
  },
  {
   "cell_type": "code",
   "execution_count": 64,
   "id": "bfb6a72b-4671-435a-a2ef-2e47efecdf88",
   "metadata": {},
   "outputs": [
    {
     "name": "stdout",
     "output_type": "stream",
     "text": [
      "world\n"
     ]
    }
   ],
   "source": [
    "print(x)"
   ]
  },
  {
   "cell_type": "code",
   "execution_count": 65,
   "id": "08cc0f20-76ac-47e3-b194-9c75dc9af973",
   "metadata": {},
   "outputs": [
    {
     "name": "stdout",
     "output_type": "stream",
     "text": [
      "dlrow\n"
     ]
    }
   ],
   "source": [
    "print(x[::-1])"
   ]
  },
  {
   "cell_type": "code",
   "execution_count": 66,
   "id": "595f54a9-8622-428e-a0c3-61aae1c80776",
   "metadata": {},
   "outputs": [
    {
     "data": {
      "text/plain": [
       "'The Quick brown fox jump over the lazy dog.'"
      ]
     },
     "execution_count": 66,
     "metadata": {},
     "output_type": "execute_result"
    }
   ],
   "source": [
    "x1=\"The Quick brown fox jump over the lazy dog.\"\n",
    "x1"
   ]
  },
  {
   "cell_type": "code",
   "execution_count": 68,
   "id": "9e0a0ebf-c6bb-4bce-aa76-975825230f25",
   "metadata": {},
   "outputs": [
    {
     "data": {
      "text/plain": [
       "'jump'"
      ]
     },
     "execution_count": 68,
     "metadata": {},
     "output_type": "execute_result"
    }
   ],
   "source": [
    "y=\"The Quick brown fox jump over the lazy dog.\"\n",
    "x=y[20:24]\n",
    "x"
   ]
  },
  {
   "cell_type": "code",
   "execution_count": 71,
   "id": "d66a686d-120e-422e-878f-e7a2584e9ff7",
   "metadata": {},
   "outputs": [
    {
     "data": {
      "text/plain": [
       "'pmuj'"
      ]
     },
     "execution_count": 71,
     "metadata": {},
     "output_type": "execute_result"
    }
   ],
   "source": [
    "x1=x[::-1]\n",
    "x1"
   ]
  },
  {
   "cell_type": "code",
   "execution_count": 72,
   "id": "f5aad4bb-ba33-4548-b4ca-80e7208314cb",
   "metadata": {},
   "outputs": [
    {
     "data": {
      "text/plain": [
       "'pmuj'"
      ]
     },
     "execution_count": 72,
     "metadata": {},
     "output_type": "execute_result"
    }
   ],
   "source": [
    "x1"
   ]
  },
  {
   "cell_type": "code",
   "execution_count": 73,
   "id": "cc08536c-7f71-4ffe-8eac-e21a56c7f13c",
   "metadata": {},
   "outputs": [
    {
     "data": {
      "text/plain": [
       "'pmuj'"
      ]
     },
     "execution_count": 73,
     "metadata": {},
     "output_type": "execute_result"
    }
   ],
   "source": [
    "x1"
   ]
  },
  {
   "cell_type": "code",
   "execution_count": 75,
   "id": "84536964-05ef-4df9-b72c-b730bef60650",
   "metadata": {},
   "outputs": [
    {
     "data": {
      "text/plain": [
       "'The Quick brown fox jump over the lazy dog.'"
      ]
     },
     "execution_count": 75,
     "metadata": {},
     "output_type": "execute_result"
    }
   ],
   "source": [
    "y=\"The Quick brown fox jump over the lazy dog.\"\n",
    "y"
   ]
  },
  {
   "cell_type": "code",
   "execution_count": 81,
   "id": "7cabc05f-5251-4996-8047-866d02d6a610",
   "metadata": {},
   "outputs": [
    {
     "data": {
      "text/plain": [
       "'The Quick brown fox '"
      ]
     },
     "execution_count": 81,
     "metadata": {},
     "output_type": "execute_result"
    }
   ],
   "source": [
    "y1=y[0:20]\n",
    "y1"
   ]
  },
  {
   "cell_type": "code",
   "execution_count": 86,
   "id": "c252694a-2ada-4165-a08b-55399e74b05d",
   "metadata": {},
   "outputs": [
    {
     "data": {
      "text/plain": [
       "' over the lazy dog.'"
      ]
     },
     "execution_count": 86,
     "metadata": {},
     "output_type": "execute_result"
    }
   ],
   "source": [
    "s1=y[24:]\n",
    "s1"
   ]
  },
  {
   "cell_type": "code",
   "execution_count": 87,
   "id": "c1f71f13-a30f-480d-821a-27f82298bd14",
   "metadata": {},
   "outputs": [
    {
     "name": "stdout",
     "output_type": "stream",
     "text": [
      "The Quick brown fox pmuj over the lazy dog.\n"
     ]
    }
   ],
   "source": [
    "print(y1+x1+s1)"
   ]
  },
  {
   "cell_type": "code",
   "execution_count": 93,
   "id": "fe8ad96a-33ac-4ac4-b665-3b81054af723",
   "metadata": {},
   "outputs": [
    {
     "name": "stdin",
     "output_type": "stream",
     "text": [
      "Enter your name: The quick brown fox jump over the lazy dog.\n"
     ]
    },
    {
     "name": "stdout",
     "output_type": "stream",
     "text": [
      "Welcome .god yzal eht revo pmuj xof nworb kciuq ehT\n"
     ]
    }
   ],
   "source": [
    "user1=input('Enter your name:')\n",
    "\n",
    "val1=user1[::-1]\n",
    "print(\"Welcome \"+val1)"
   ]
  },
  {
   "cell_type": "code",
   "execution_count": null,
   "id": "649a9ed1-c9b0-4dfd-9ca1-ffa0f86a10d3",
   "metadata": {},
   "outputs": [],
   "source": []
  }
 ],
 "metadata": {
  "kernelspec": {
   "display_name": "Python 3 (ipykernel)",
   "language": "python",
   "name": "python3"
  },
  "language_info": {
   "codemirror_mode": {
    "name": "ipython",
    "version": 3
   },
   "file_extension": ".py",
   "mimetype": "text/x-python",
   "name": "python",
   "nbconvert_exporter": "python",
   "pygments_lexer": "ipython3",
   "version": "3.12.2"
  }
 },
 "nbformat": 4,
 "nbformat_minor": 5
}
