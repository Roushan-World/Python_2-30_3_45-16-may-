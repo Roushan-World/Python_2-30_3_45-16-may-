{
 "cells": [
  {
   "cell_type": "markdown",
   "id": "354a2ce0-6c33-4f4f-8c2d-4014e496f17d",
   "metadata": {},
   "source": [
    "# 15. Decorators in Python\n",
    "\n",
    " * __Decorators provide a simple syntax for calling higher-order functions.__\n",
    " * __By definition, a decorator is a function that takes another function and extends their behaviour of the letter function without explicitly modifying it.__\n",
    " * __A decorator in python is a python function that takes another function as it's argument, and return yet another functions.__\n",
    " * __Decorators can extremely useful as they allow the extension of an existing functions, without modification to the original function source code.__\n",
    " * __Infact, there are two types of decorators in Python including class decorators and function decorators.__\n",
    " * __In application, decorators are majorly used in creating middle layer in the backend, it performs task like token authentication, validation, image compression and many more.__"
   ]
  },
  {
   "cell_type": "code",
   "execution_count": 1,
   "id": "243e361e-72ec-4eb2-a76d-8e7b903cec2f",
   "metadata": {},
   "outputs": [],
   "source": [
    "import decorator"
   ]
  },
  {
   "cell_type": "code",
   "execution_count": 2,
   "id": "e85febb3-abdf-47e9-9c93-72fa5cc52ea8",
   "metadata": {},
   "outputs": [],
   "source": [
    "from decorator import *"
   ]
  },
  {
   "cell_type": "code",
   "execution_count": 3,
   "id": "74b2d2bd-ed23-40fe-9e15-cce2dd71698c",
   "metadata": {},
   "outputs": [
    {
     "name": "stdout",
     "output_type": "stream",
     "text": [
      "hello world\n"
     ]
    }
   ],
   "source": [
    "def mytext(text):\n",
    "    print(text)\n",
    "\n",
    "x=mytext('hello world')\n",
    "x"
   ]
  },
  {
   "cell_type": "code",
   "execution_count": 5,
   "id": "1ca36aab-99a7-4e45-885a-c7862a11eddc",
   "metadata": {},
   "outputs": [
    {
     "data": {
      "text/plain": [
       "200"
      ]
     },
     "execution_count": 5,
     "metadata": {},
     "output_type": "execute_result"
    }
   ],
   "source": [
    "def multi(x):\n",
    "    return 10*x\n",
    "\n",
    "multi(20)"
   ]
  },
  {
   "cell_type": "code",
   "execution_count": 8,
   "id": "cfa90f4a-04c2-434a-8a93-dd1ef104ee13",
   "metadata": {},
   "outputs": [
    {
     "name": "stdout",
     "output_type": "stream",
     "text": [
      "Python is a programming language.\n",
      "Hello world\n",
      "Congratulations!\n"
     ]
    }
   ],
   "source": [
    "# nested function\n",
    "\n",
    "def mytext():\n",
    "    print('Python is a programming language.')\n",
    "    def new_text():\n",
    "        print(\"Hello world\")\n",
    "    def message():\n",
    "        print('Congratulations!')\n",
    "    new_text()\n",
    "    message()\n",
    "\n",
    "\n",
    "mytext()"
   ]
  },
  {
   "cell_type": "code",
   "execution_count": 9,
   "id": "580caf6b-6c3b-4acb-9be1-f1a839ff0e42",
   "metadata": {},
   "outputs": [
    {
     "data": {
      "text/plain": [
       "30"
      ]
     },
     "execution_count": 9,
     "metadata": {},
     "output_type": "execute_result"
    }
   ],
   "source": [
    "def add(x):\n",
    "    return 20+x\n",
    "\n",
    "def sub(x):\n",
    "    return 100-x\n",
    "\n",
    "def multi(x):\n",
    "    return 100*x\n",
    "\n",
    "def divide(x):\n",
    "    return 100/x\n",
    "\n",
    "def operator(func,y):\n",
    "    result=func(y)\n",
    "    return result\n",
    "\n",
    "obj1=operator(add,10)\n",
    "obj1"
   ]
  },
  {
   "cell_type": "code",
   "execution_count": 11,
   "id": "a2085bcd-a2af-461d-83b3-534eacbd5b50",
   "metadata": {},
   "outputs": [
    {
     "data": {
      "text/plain": [
       "2"
      ]
     },
     "execution_count": 11,
     "metadata": {},
     "output_type": "execute_result"
    }
   ],
   "source": [
    "obj2=operator(sub,98)\n",
    "obj2"
   ]
  },
  {
   "cell_type": "code",
   "execution_count": 12,
   "id": "647d15d0-86bf-4a40-a652-0d77896bf12c",
   "metadata": {},
   "outputs": [
    {
     "data": {
      "text/plain": [
       "200"
      ]
     },
     "execution_count": 12,
     "metadata": {},
     "output_type": "execute_result"
    }
   ],
   "source": [
    "obj3=operator(multi,2)\n",
    "obj3"
   ]
  },
  {
   "cell_type": "code",
   "execution_count": 14,
   "id": "caa35dbf-b9cc-42e4-8431-a08e84fa165b",
   "metadata": {},
   "outputs": [
    {
     "data": {
      "text/plain": [
       "'PRAFULLA'"
      ]
     },
     "execution_count": 14,
     "metadata": {},
     "output_type": "execute_result"
    }
   ],
   "source": [
    "# now creating decorator\n",
    "\n",
    "def decorated_upper_case(func):\n",
    "    def upper():\n",
    "        function=func()\n",
    "        text_upper=function.upper()\n",
    "        return text_upper\n",
    "    return upper\n",
    "\n",
    "\n",
    "def text():\n",
    "    y=\"prafulla\"\n",
    "    return y\n",
    "\n",
    "obj1=decorated_upper_case(text)\n",
    "obj1()"
   ]
  },
  {
   "cell_type": "code",
   "execution_count": 15,
   "id": "05b9f871-436e-49a1-b841-d23929ce1d9e",
   "metadata": {},
   "outputs": [
    {
     "name": "stdin",
     "output_type": "stream",
     "text": [
      "Enter Your Name: prafulla\n"
     ]
    },
    {
     "data": {
      "text/plain": [
       "'PRAFULLA'"
      ]
     },
     "execution_count": 15,
     "metadata": {},
     "output_type": "execute_result"
    }
   ],
   "source": [
    "# from user input\n",
    "\n",
    "def text1():\n",
    "    user1=input('Enter Your Name:')\n",
    "    return user1\n",
    "\n",
    "obj2=decorated_upper_case(text1)\n",
    "obj2()"
   ]
  },
  {
   "cell_type": "code",
   "execution_count": 16,
   "id": "f98ecd1d-5ce7-4abb-a22c-53c834f94043",
   "metadata": {},
   "outputs": [],
   "source": [
    "def text1():\n",
    "    user1=input('Enter Your Name:')\n",
    "    return user1\n",
    "\n"
   ]
  },
  {
   "cell_type": "code",
   "execution_count": null,
   "id": "0ba37c33-b755-4d11-b771-b7ab8df2b30a",
   "metadata": {},
   "outputs": [],
   "source": []
  }
 ],
 "metadata": {
  "kernelspec": {
   "display_name": "Python 3 (ipykernel)",
   "language": "python",
   "name": "python3"
  },
  "language_info": {
   "codemirror_mode": {
    "name": "ipython",
    "version": 3
   },
   "file_extension": ".py",
   "mimetype": "text/x-python",
   "name": "python",
   "nbconvert_exporter": "python",
   "pygments_lexer": "ipython3",
   "version": "3.12.2"
  }
 },
 "nbformat": 4,
 "nbformat_minor": 5
}
