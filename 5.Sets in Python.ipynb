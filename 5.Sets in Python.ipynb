{
 "cells": [
  {
   "cell_type": "markdown",
   "id": "a4457f4b-4382-401b-98ca-bd502aa13787",
   "metadata": {},
   "source": [
    "# 5. Sets in Python\n",
    "\n",
    " * __Set is one of the 4th built-in data types in Python used to store collections of data including List, Tuple, and Dictionary.__\n",
    " * __Sets are unordered, but you can remove items and add new items.__\n",
    " * __Set elements are unique, Duplicate elements are not allowed.__\n",
    " * __A set itself may be modified, but the elements contained in the set must be of an immutable type.__\n",
    " * __Sets are used to sore multiple items in a single variable.__\n",
    " * __You can denote a set with pair of curly brackets{}.__"
   ]
  },
  {
   "cell_type": "code",
   "execution_count": 9,
   "id": "1829e1d9-659e-4edd-b0e5-bedb16bf39c6",
   "metadata": {},
   "outputs": [
    {
     "name": "stdout",
     "output_type": "stream",
     "text": [
      "{'Hello'}\n"
     ]
    }
   ],
   "source": [
    "x={'Hello'}\n",
    "print(x)"
   ]
  },
  {
   "cell_type": "code",
   "execution_count": 10,
   "id": "07545293-d4b5-4457-ad95-d443aa9f35af",
   "metadata": {},
   "outputs": [
    {
     "data": {
      "text/plain": [
       "set"
      ]
     },
     "execution_count": 10,
     "metadata": {},
     "output_type": "execute_result"
    }
   ],
   "source": [
    "type(x)"
   ]
  },
  {
   "cell_type": "code",
   "execution_count": 11,
   "id": "320e7353-5e54-420f-91b1-6329b455c740",
   "metadata": {},
   "outputs": [
    {
     "name": "stdout",
     "output_type": "stream",
     "text": [
      "set()\n",
      "<class 'set'>\n"
     ]
    }
   ],
   "source": [
    "# how to create empty set in python\n",
    "\n",
    "set1=set()\n",
    "print(set1)\n",
    "print(type(set1))"
   ]
  },
  {
   "cell_type": "code",
   "execution_count": 13,
   "id": "8dd642fd-3941-4a1b-81e1-0db4cce63866",
   "metadata": {},
   "outputs": [
    {
     "name": "stdout",
     "output_type": "stream",
     "text": [
      "{'l', 'H', 'o', 'e'}\n"
     ]
    }
   ],
   "source": [
    "set1=set('Hello',)\n",
    "print(set1)"
   ]
  },
  {
   "cell_type": "code",
   "execution_count": 18,
   "id": "fe51e9da-104e-43ed-8274-1820e166580b",
   "metadata": {},
   "outputs": [
    {
     "name": "stdout",
     "output_type": "stream",
     "text": [
      "{False, True, 'Hey Google', 3.147, 'Hello world', 10, 20, ('Hello world', True, True, False, False, 10, 20)}\n"
     ]
    }
   ],
   "source": [
    "set1={'Hello world',\"Hey Google\",3.147,10,20,20,True,False,('Hello world',True,True,False,False,10,20)}\n",
    "print(set1)"
   ]
  },
  {
   "cell_type": "code",
   "execution_count": 19,
   "id": "09051b99-5f89-4e2b-922b-474229584522",
   "metadata": {},
   "outputs": [
    {
     "name": "stdout",
     "output_type": "stream",
     "text": [
      "['Hey Google', 'Hello world', 'Hey Google', 'Siri', 10, 20, True, False, True, False]\n"
     ]
    }
   ],
   "source": [
    "list1=['Hey Google','Hello world','Hey Google','Siri',10,20,True,False,True,False]\n",
    "print(list1)"
   ]
  },
  {
   "cell_type": "code",
   "execution_count": 20,
   "id": "dac4cd4c-3872-4af2-b375-1e4468646819",
   "metadata": {},
   "outputs": [
    {
     "name": "stdout",
     "output_type": "stream",
     "text": [
      "{False, True, 'Hey Google', 'Siri', 'Hello world', 10, 20}\n"
     ]
    }
   ],
   "source": [
    "# converting list into set\n",
    "set2=set(list1)\n",
    "print(set2)"
   ]
  },
  {
   "cell_type": "code",
   "execution_count": 21,
   "id": "e69e760a-eba6-476a-ad24-7d7816d49d18",
   "metadata": {},
   "outputs": [],
   "source": [
    "# set oprearations\n",
    "# add(): with the add() function you can able to add elements in the set."
   ]
  },
  {
   "cell_type": "code",
   "execution_count": 22,
   "id": "ff7a4629-7dfd-4090-adfa-c2ce1f72c9b5",
   "metadata": {},
   "outputs": [
    {
     "data": {
      "text/plain": [
       "{10, 20, False, 'Hello world', 'Hey Google', 'Siri', True}"
      ]
     },
     "execution_count": 22,
     "metadata": {},
     "output_type": "execute_result"
    }
   ],
   "source": [
    "set2"
   ]
  },
  {
   "cell_type": "code",
   "execution_count": 23,
   "id": "30058932-b1a1-4524-984c-89a4f55595e8",
   "metadata": {},
   "outputs": [
    {
     "name": "stdout",
     "output_type": "stream",
     "text": [
      "{False, True, 'Hey Google', 'Siri', 'Hello world', 10, 20, 'Shrinivas'}\n"
     ]
    }
   ],
   "source": [
    "set2.add('Shrinivas')\n",
    "print(set2)"
   ]
  },
  {
   "cell_type": "code",
   "execution_count": 24,
   "id": "e8e7fe2d-b860-47a9-8277-779f6ad5e922",
   "metadata": {},
   "outputs": [],
   "source": [
    "# how to update element in the set.\n",
    "# update()"
   ]
  },
  {
   "cell_type": "code",
   "execution_count": 25,
   "id": "dae867cd-3312-4761-a9e5-fd7b7bde5e2b",
   "metadata": {},
   "outputs": [
    {
     "name": "stdout",
     "output_type": "stream",
     "text": [
      "{False, True, 'Hey Google', 'Siri', 'Hello world', 40, 10, 20, 'Shrinivas', 30}\n"
     ]
    }
   ],
   "source": [
    "set2.update({False,True,'Hey Google',10,20,30,40})\n",
    "print(set2)"
   ]
  },
  {
   "cell_type": "code",
   "execution_count": 26,
   "id": "528c5afc-1ad9-45e5-8386-8b035a0e594e",
   "metadata": {},
   "outputs": [],
   "source": [
    "# how to remove the element in the set in python\n",
    "# remove() functions"
   ]
  },
  {
   "cell_type": "code",
   "execution_count": 27,
   "id": "80ba38c8-bf20-489c-a8ba-5164ccca5f2f",
   "metadata": {},
   "outputs": [
    {
     "name": "stdout",
     "output_type": "stream",
     "text": [
      "{False, True, 'Hey Google', 'Siri', 'Hello world', 40, 10, 20, 30}\n"
     ]
    }
   ],
   "source": [
    "set2.remove('Shrinivas')\n",
    "print(set2)"
   ]
  },
  {
   "cell_type": "code",
   "execution_count": 29,
   "id": "ddf49dbb-158f-4644-bdc8-eab857531d76",
   "metadata": {},
   "outputs": [
    {
     "name": "stdout",
     "output_type": "stream",
     "text": [
      "{False, True, 'Hey Google', 'Siri', 'Hello world', 40, 10, 20, 30}\n"
     ]
    },
    {
     "ename": "KeyError",
     "evalue": "'Shrinivas'",
     "output_type": "error",
     "traceback": [
      "\u001b[1;31m---------------------------------------------------------------------------\u001b[0m",
      "\u001b[1;31mKeyError\u001b[0m                                  Traceback (most recent call last)",
      "Cell \u001b[1;32mIn[29], line 2\u001b[0m\n\u001b[0;32m      1\u001b[0m \u001b[38;5;28mprint\u001b[39m(set2)\n\u001b[1;32m----> 2\u001b[0m \u001b[43mset2\u001b[49m\u001b[38;5;241;43m.\u001b[39;49m\u001b[43mremove\u001b[49m\u001b[43m(\u001b[49m\u001b[38;5;124;43m'\u001b[39;49m\u001b[38;5;124;43mShrinivas\u001b[39;49m\u001b[38;5;124;43m'\u001b[39;49m\u001b[43m)\u001b[49m\n\u001b[0;32m      3\u001b[0m \u001b[38;5;28mprint\u001b[39m(set2)\n",
      "\u001b[1;31mKeyError\u001b[0m: 'Shrinivas'"
     ]
    }
   ],
   "source": [
    "print(set2)\n",
    "set2.remove('Shrinivas')\n",
    "print(set2)"
   ]
  },
  {
   "cell_type": "markdown",
   "id": "c8f7202e-3040-4efa-a680-43279c6d26f4",
   "metadata": {},
   "source": [
    "# discard() function"
   ]
  },
  {
   "cell_type": "code",
   "execution_count": 34,
   "id": "48b0fb96-cbce-45dd-ab7e-c7661b6e1250",
   "metadata": {},
   "outputs": [
    {
     "name": "stdout",
     "output_type": "stream",
     "text": [
      "{False, True, 'Hey Google', 'Siri', 'Hello world', 40, 10, 20, 30}\n",
      "{False, True, 'Hey Google', 'Siri', 'Hello world', 40, 10, 20, 30}\n"
     ]
    }
   ],
   "source": [
    "print(set2)\n",
    "set2.discard('Shrinivas')\n",
    "print(set2)"
   ]
  },
  {
   "cell_type": "code",
   "execution_count": 37,
   "id": "d2cbe6c2-bdfb-4b56-91b1-f6c383b1e84a",
   "metadata": {},
   "outputs": [
    {
     "data": {
      "text/plain": [
       "{10, 20, 30, 40, False, 'Hello world', 'Hey Google', 'Siri', True}"
      ]
     },
     "execution_count": 37,
     "metadata": {},
     "output_type": "execute_result"
    }
   ],
   "source": [
    "set2.discard('Python')\n",
    "set2"
   ]
  },
  {
   "cell_type": "code",
   "execution_count": 38,
   "id": "141bcaa1-cb4e-4c58-a6ec-200ac3e9f901",
   "metadata": {},
   "outputs": [
    {
     "data": {
      "text/plain": [
       "{2, 4, 6, 8, 10, 12}"
      ]
     },
     "execution_count": 38,
     "metadata": {},
     "output_type": "execute_result"
    }
   ],
   "source": [
    "# Logic operations\n",
    "# union between two sets.\n",
    "x={2,4,6,8}\n",
    "y={4,6,8,10,12}\n",
    "x.union(y)"
   ]
  },
  {
   "cell_type": "code",
   "execution_count": 40,
   "id": "450580c2-a9af-4af5-9846-d8a8c23412d4",
   "metadata": {},
   "outputs": [
    {
     "name": "stdout",
     "output_type": "stream",
     "text": [
      "{1.618, 3.14, 'Hello world'}\n",
      "{False, 1.618, True, 3.14, 2024}\n"
     ]
    },
    {
     "data": {
      "text/plain": [
       "({1.618, 3.14, 'Hello world'}, {False, True, 1.618, 3.14, 2024})"
      ]
     },
     "execution_count": 40,
     "metadata": {},
     "output_type": "execute_result"
    }
   ],
   "source": [
    "# Intersection between two sets.\n",
    "set4=set(['Hello world',3.14,1.618,'Hello world'])\n",
    "set5=set([3.14,1.618,True,False,2024])\n",
    "print(set4)\n",
    "print(set5)\n",
    "\n",
    "# other method to print two sets.\n",
    "set4,set5"
   ]
  },
  {
   "cell_type": "code",
   "execution_count": 41,
   "id": "f9b7e993-47ff-4a8b-86e6-10bda2d14f3e",
   "metadata": {},
   "outputs": [
    {
     "name": "stdout",
     "output_type": "stream",
     "text": [
      "{1.618, 3.14}\n"
     ]
    }
   ],
   "source": [
    "intersection= set4&set5\n",
    "print(intersection)"
   ]
  },
  {
   "cell_type": "code",
   "execution_count": 42,
   "id": "d67ffd3d-36d0-468f-9cba-be39ecfe9db5",
   "metadata": {},
   "outputs": [
    {
     "data": {
      "text/plain": [
       "{1.618, 3.14}"
      ]
     },
     "execution_count": 42,
     "metadata": {},
     "output_type": "execute_result"
    }
   ],
   "source": [
    "# other method of printing the intersection\n",
    "set5=set4.intersection(set5)\n",
    "set5"
   ]
  },
  {
   "cell_type": "code",
   "execution_count": 45,
   "id": "af506450-b2ca-4a04-9276-445d99405c98",
   "metadata": {},
   "outputs": [
    {
     "name": "stdout",
     "output_type": "stream",
     "text": [
      "{'Hello world'}\n",
      "{False, True, 2024}\n"
     ]
    }
   ],
   "source": [
    "# Difference between two sets.\n",
    "set4=set(['Hello world',3.14,1.618,'Hello world'])\n",
    "set5=set([3.14,1.618,True,False,2024])\n",
    "\n",
    "val1=set4-set5\n",
    "print(val1)\n",
    "val2=set5-set4\n",
    "print(val2)"
   ]
  },
  {
   "cell_type": "code",
   "execution_count": 48,
   "id": "e16c1f45-3bcb-4973-932c-87c4449cb4c6",
   "metadata": {},
   "outputs": [
    {
     "name": "stdout",
     "output_type": "stream",
     "text": [
      "{'Hello world'}\n",
      "{False, True, 2024}\n"
     ]
    }
   ],
   "source": [
    "# other method to perform difference in sets\n",
    "value1=set4.difference(set5)\n",
    "print(value1)\n",
    "value2=set5.difference(set4)\n",
    "print(value2)"
   ]
  },
  {
   "cell_type": "code",
   "execution_count": 50,
   "id": "e41f2ea5-d54f-4699-859c-3fff4bbe0cc7",
   "metadata": {},
   "outputs": [
    {
     "data": {
      "text/plain": [
       "{2024, False, 'Hello world', True}"
      ]
     },
     "execution_count": 50,
     "metadata": {},
     "output_type": "execute_result"
    }
   ],
   "source": [
    "# Symmetric Difference\n",
    "symmetric1=set4.symmetric_difference(set5)\n",
    "symmetric1"
   ]
  },
  {
   "cell_type": "code",
   "execution_count": 51,
   "id": "5fe898da-7808-4753-9b23-7efdbd234848",
   "metadata": {},
   "outputs": [
    {
     "data": {
      "text/plain": [
       "{10, 20, 30, 40, 50, 60, 70, 80, 90}"
      ]
     },
     "execution_count": 51,
     "metadata": {},
     "output_type": "execute_result"
    }
   ],
   "source": [
    "set_1={10,20,30,40,50,60,70,80,90}\n",
    "set_1"
   ]
  },
  {
   "cell_type": "code",
   "execution_count": 52,
   "id": "bc2753cc-1044-4ab3-9e39-1dd059eeb45f",
   "metadata": {},
   "outputs": [
    {
     "ename": "TypeError",
     "evalue": "'set' object is not subscriptable",
     "output_type": "error",
     "traceback": [
      "\u001b[1;31m---------------------------------------------------------------------------\u001b[0m",
      "\u001b[1;31mTypeError\u001b[0m                                 Traceback (most recent call last)",
      "Cell \u001b[1;32mIn[52], line 1\u001b[0m\n\u001b[1;32m----> 1\u001b[0m \u001b[43mset_1\u001b[49m\u001b[43m[\u001b[49m\u001b[38;5;241;43m0\u001b[39;49m\u001b[43m]\u001b[49m\n",
      "\u001b[1;31mTypeError\u001b[0m: 'set' object is not subscriptable"
     ]
    }
   ],
   "source": [
    "set_1[0]"
   ]
  },
  {
   "cell_type": "code",
   "execution_count": 57,
   "id": "07a2e576-74e7-4325-8518-fb8b6db02652",
   "metadata": {},
   "outputs": [
    {
     "data": {
      "text/plain": [
       "{10, 20, 30, 40, 50, 60, 70, 80, 90}"
      ]
     },
     "execution_count": 57,
     "metadata": {},
     "output_type": "execute_result"
    }
   ],
   "source": [
    "# some calculations in set\n",
    "# Aggrigate function: Numerical set performa numercal calculations\n",
    "# min,max,sum,avg,len\n",
    "\n",
    "set_1"
   ]
  },
  {
   "cell_type": "code",
   "execution_count": 58,
   "id": "8a8f6b81-c28e-4e1d-b748-1ba8122a710a",
   "metadata": {},
   "outputs": [
    {
     "name": "stdout",
     "output_type": "stream",
     "text": [
      "Total of the set: 450\n",
      "Total lenght of the set: 9\n",
      "Minimum value of the set: 10\n",
      "Maximum value of the set: 90\n",
      "Average of the set: 50.0\n"
     ]
    }
   ],
   "source": [
    "print(\"Total of the set:\",sum(set_1))\n",
    "print('Total lenght of the set:',len(set_1))\n",
    "print('Minimum value of the set:',min(set_1))\n",
    "print('Maximum value of the set:',max(set_1))\n",
    "print('Average of the set:',sum(set_1)/len(set_1))"
   ]
  },
  {
   "cell_type": "code",
   "execution_count": null,
   "id": "d2132d94-a4f0-4ee5-8fcb-72790f2825e5",
   "metadata": {},
   "outputs": [],
   "source": []
  },
  {
   "cell_type": "code",
   "execution_count": null,
   "id": "c4107cdc-9601-4b48-85d4-31e56122bf73",
   "metadata": {},
   "outputs": [],
   "source": []
  }
 ],
 "metadata": {
  "kernelspec": {
   "display_name": "Python 3 (ipykernel)",
   "language": "python",
   "name": "python3"
  },
  "language_info": {
   "codemirror_mode": {
    "name": "ipython",
    "version": 3
   },
   "file_extension": ".py",
   "mimetype": "text/x-python",
   "name": "python",
   "nbconvert_exporter": "python",
   "pygments_lexer": "ipython3",
   "version": "3.12.2"
  }
 },
 "nbformat": 4,
 "nbformat_minor": 5
}
