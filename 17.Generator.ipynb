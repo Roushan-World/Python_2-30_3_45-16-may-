{
 "cells": [
  {
   "cell_type": "markdown",
   "id": "653259ca-fcc3-4e14-b99e-8cf677754b0f",
   "metadata": {},
   "source": [
    "# 17. Generator"
   ]
  },
  {
   "cell_type": "code",
   "execution_count": 5,
   "id": "9d4c8dd5-b5be-43c7-bc1d-dd91efab5bd6",
   "metadata": {},
   "outputs": [
    {
     "name": "stdout",
     "output_type": "stream",
     "text": [
      "Hello world\n",
      "Congratulations!\n",
      "Sahil\n",
      "prafulla\n"
     ]
    }
   ],
   "source": [
    "def msg_1():\n",
    "    return \"Hello world\"\n",
    "\n",
    "def msg_2():\n",
    "    return 'Congratulations!'\n",
    "\n",
    "def msg_3():\n",
    "    return \"Sahil\"\n",
    "\n",
    "def msg_4():\n",
    "    return \"prafulla\"\n",
    "\n",
    "\n",
    "print(msg_1())\n",
    "print(msg_2())\n",
    "print(msg_3())\n",
    "print(msg_4())"
   ]
  },
  {
   "cell_type": "code",
   "execution_count": 8,
   "id": "3a623d17-6e5c-4405-948f-27f406ae714f",
   "metadata": {},
   "outputs": [
    {
     "name": "stdout",
     "output_type": "stream",
     "text": [
      "Parafulla\n"
     ]
    }
   ],
   "source": [
    "def msg_details():\n",
    "    one_msg=\"Parafulla\"\n",
    "    yield one_msg\n",
    "\n",
    "    two_msg=\"Good Morning\"\n",
    "    yield two_msg\n",
    "\n",
    "    three_msg=\"Afternoon\"\n",
    "    yield three_msg\n",
    "\n",
    "    four_msg=\"Evening\"\n",
    "    yield four_msg\n",
    "\n",
    "    five_msg=\"Night\"\n",
    "    yield five_msg\n",
    "\n",
    "\n",
    "obj1=msg_details()\n",
    "print(next(obj1))"
   ]
  },
  {
   "cell_type": "code",
   "execution_count": 9,
   "id": "e49e1959-9efd-4293-b21b-556cc30eff4f",
   "metadata": {},
   "outputs": [
    {
     "name": "stdout",
     "output_type": "stream",
     "text": [
      "Good Morning\n"
     ]
    }
   ],
   "source": [
    "print(next(obj1))"
   ]
  },
  {
   "cell_type": "code",
   "execution_count": 10,
   "id": "79a71a5a-e08e-4adf-b5e6-e8b160e016d5",
   "metadata": {},
   "outputs": [
    {
     "name": "stdout",
     "output_type": "stream",
     "text": [
      "Afternoon\n"
     ]
    }
   ],
   "source": [
    "print(next(obj1))"
   ]
  },
  {
   "cell_type": "code",
   "execution_count": 11,
   "id": "92f9343c-9903-45eb-9a3d-e3f7873cc025",
   "metadata": {},
   "outputs": [
    {
     "name": "stdout",
     "output_type": "stream",
     "text": [
      "Evening\n"
     ]
    }
   ],
   "source": [
    "print(next(obj1))"
   ]
  },
  {
   "cell_type": "code",
   "execution_count": 12,
   "id": "11bbf479-2a65-4792-a8a6-f191fad7d369",
   "metadata": {},
   "outputs": [
    {
     "name": "stdout",
     "output_type": "stream",
     "text": [
      "Night\n"
     ]
    }
   ],
   "source": [
    "print(next(obj1))"
   ]
  },
  {
   "cell_type": "code",
   "execution_count": 13,
   "id": "9160b120-2760-48a9-b4bf-b656521271f2",
   "metadata": {},
   "outputs": [
    {
     "ename": "StopIteration",
     "evalue": "",
     "output_type": "error",
     "traceback": [
      "\u001b[1;31m---------------------------------------------------------------------------\u001b[0m",
      "\u001b[1;31mStopIteration\u001b[0m                             Traceback (most recent call last)",
      "Cell \u001b[1;32mIn[13], line 1\u001b[0m\n\u001b[1;32m----> 1\u001b[0m \u001b[38;5;28mprint\u001b[39m(\u001b[38;5;28;43mnext\u001b[39;49m\u001b[43m(\u001b[49m\u001b[43mobj1\u001b[49m\u001b[43m)\u001b[49m)\n",
      "\u001b[1;31mStopIteration\u001b[0m: "
     ]
    }
   ],
   "source": [
    "print(next(obj1))"
   ]
  },
  {
   "cell_type": "code",
   "execution_count": null,
   "id": "ee0154f0-943a-4ab4-8b9b-cd33e427bf3e",
   "metadata": {},
   "outputs": [],
   "source": []
  }
 ],
 "metadata": {
  "kernelspec": {
   "display_name": "Python 3 (ipykernel)",
   "language": "python",
   "name": "python3"
  },
  "language_info": {
   "codemirror_mode": {
    "name": "ipython",
    "version": 3
   },
   "file_extension": ".py",
   "mimetype": "text/x-python",
   "name": "python",
   "nbconvert_exporter": "python",
   "pygments_lexer": "ipython3",
   "version": "3.12.2"
  }
 },
 "nbformat": 4,
 "nbformat_minor": 5
}
