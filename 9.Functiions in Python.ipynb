{
 "cells": [
  {
   "cell_type": "markdown",
   "id": "e2f48fd8-f776-4021-9a03-7ab6d8ed2af4",
   "metadata": {},
   "source": [
    "# 9. Functins in Python\n",
    "\n",
    " * __In python, a function is a group related statements that perform a specific task.__\n",
    " * __Functions help break out program into smaller and modular chunks. As our program grows larger and larger, functions make it more organized and manageable.__\n",
    " * __Furthermore, it avoids repetition and makes the code reusable.__\n",
    " * __There are two types of functions.__\n",
    " * __1.Pre-defined functions.__\n",
    " * __2.User-defined functions.__\n",
    " * __In python, a function is defined using the def keyword followed by the function name and parenthesis().__\n",
    " * __keyword def that marks the start of the function header.__\n",
    " * __A function name to uniquely identify the functions.__\n",
    " * __Function naming follows the same rule of writing identifiers in Python.__\n",
    " * __Parameters(arguments) through which we pass values to a function. They are optional.__\n",
    " * __Optional documentation string(docstring) to describe what the function does.__\n",
    " * __One or more valid python statements that make up the funciton body.__\n",
    " * __Statements must have the same indentation level(usually 4 spaces).__\n",
    " * __An optional return statement to return a value from the functions.__\n",
    "\n",
    "# User Defined- function types\n",
    " * __1.nullable function.__\n",
    " * __2.Parameterized function.__\n",
    " * __3.Default argument function.__"
   ]
  },
  {
   "cell_type": "code",
   "execution_count": 1,
   "id": "54872b59-540b-4370-86ce-2f18d6b560d0",
   "metadata": {},
   "outputs": [
    {
     "name": "stdout",
     "output_type": "stream",
     "text": [
      "Congratulation!\n"
     ]
    }
   ],
   "source": [
    "def prafulla():   # nullable function\n",
    "    print('Congratulation!')\n",
    "\n",
    "prafulla()"
   ]
  },
  {
   "cell_type": "code",
   "execution_count": 2,
   "id": "aa2e1506-0277-4a0a-8156-ffca96894a67",
   "metadata": {},
   "outputs": [
    {
     "data": {
      "text/plain": [
       "(20, 30, 40, 50)"
      ]
     },
     "execution_count": 2,
     "metadata": {},
     "output_type": "execute_result"
    }
   ],
   "source": [
    "# function with argument.   # funtion with return value.\n",
    "\n",
    "def sum1(x):   # x is argument\n",
    "    t1=10+x\n",
    "    t2=20+x\n",
    "    t3=30+x\n",
    "    t4=40+x\n",
    "    return(t1,t2,t3,t4)\n",
    "sum1(10)     #10 parameter."
   ]
  },
  {
   "cell_type": "code",
   "execution_count": 3,
   "id": "52c7048c-58cd-4135-a9ab-1881ed5ec5a7",
   "metadata": {},
   "outputs": [
    {
     "name": "stdout",
     "output_type": "stream",
     "text": [
      "20 30 40 50\n"
     ]
    }
   ],
   "source": [
    "# function with argument.   # funtion without return value.\n",
    "\n",
    "def sum1(x):   # x is argument\n",
    "    t1=10+x\n",
    "    t2=20+x\n",
    "    t3=30+x\n",
    "    t4=40+x\n",
    "    print(t1,t2,t3,t4)\n",
    "sum1(10)     #10 parameter."
   ]
  },
  {
   "cell_type": "code",
   "execution_count": 4,
   "id": "8e332e7f-3503-4e7e-a1a6-ce921bffe4a7",
   "metadata": {},
   "outputs": [
    {
     "name": "stdout",
     "output_type": "stream",
     "text": [
      "Hello world\n"
     ]
    }
   ],
   "source": [
    "print('Hello world')"
   ]
  },
  {
   "cell_type": "code",
   "execution_count": 5,
   "id": "f509ad3a-7ca9-49ac-93ad-581d87eb283c",
   "metadata": {},
   "outputs": [
    {
     "ename": "SyntaxError",
     "evalue": "'return' outside function (473039771.py, line 1)",
     "output_type": "error",
     "traceback": [
      "\u001b[1;36m  Cell \u001b[1;32mIn[5], line 1\u001b[1;36m\u001b[0m\n\u001b[1;33m    return('Hello world')\u001b[0m\n\u001b[1;37m    ^\u001b[0m\n\u001b[1;31mSyntaxError\u001b[0m\u001b[1;31m:\u001b[0m 'return' outside function\n"
     ]
    }
   ],
   "source": [
    "return('Hello world')"
   ]
  },
  {
   "cell_type": "code",
   "execution_count": 11,
   "id": "c965494c-b7d6-4b96-9071-25465d8c22b9",
   "metadata": {},
   "outputs": [
    {
     "name": "stdin",
     "output_type": "stream",
     "text": [
      "Enter your firstname: a\n",
      "Enter your last name: b\n"
     ]
    },
    {
     "data": {
      "text/plain": [
       "'a b'"
      ]
     },
     "execution_count": 11,
     "metadata": {},
     "output_type": "execute_result"
    }
   ],
   "source": [
    "# nullable function\n",
    "\n",
    "def fullname():\n",
    "    first_name=input('Enter your firstname:')\n",
    "    last_name=input('Enter your last name:')\n",
    "    return first_name+' '+last_name\n",
    "\n",
    "fullname()"
   ]
  },
  {
   "cell_type": "code",
   "execution_count": 9,
   "id": "3a3355c9-6dae-41bf-9580-2363e7c8321a",
   "metadata": {},
   "outputs": [
    {
     "name": "stdin",
     "output_type": "stream",
     "text": [
      "Enter First Name: sahil\n",
      "Enter Last Name: khatik\n"
     ]
    },
    {
     "data": {
      "text/plain": [
       "'sahil khatik'"
      ]
     },
     "execution_count": 9,
     "metadata": {},
     "output_type": "execute_result"
    }
   ],
   "source": [
    "# Parameterized function\n",
    "\n",
    "def fullname1(first_name,lastname):\n",
    "    return first_name+' '+lastname\n",
    "\n",
    "x=input('Enter First Name:')\n",
    "y=input('Enter Last Name:')\n",
    "fullname1(x,y)"
   ]
  },
  {
   "cell_type": "code",
   "execution_count": 12,
   "id": "b1e21f7f-54f1-4963-bda4-84aef3be52fd",
   "metadata": {},
   "outputs": [
    {
     "name": "stdin",
     "output_type": "stream",
     "text": [
      "Enter your firstname: Prafulla\n",
      "Enter your last name: Dhage\n"
     ]
    },
    {
     "data": {
      "text/plain": [
       "'Prafulla Dhage'"
      ]
     },
     "execution_count": 12,
     "metadata": {},
     "output_type": "execute_result"
    }
   ],
   "source": [
    "fullname()"
   ]
  },
  {
   "cell_type": "code",
   "execution_count": 13,
   "id": "afc4303a-783f-48b3-9847-c78b9b62b359",
   "metadata": {},
   "outputs": [
    {
     "name": "stdin",
     "output_type": "stream",
     "text": [
      "Enter your firstname: Shri\n",
      "Enter your last name: Nivash\n"
     ]
    },
    {
     "data": {
      "text/plain": [
       "'Shri Nivash'"
      ]
     },
     "execution_count": 13,
     "metadata": {},
     "output_type": "execute_result"
    }
   ],
   "source": [
    "fullname()"
   ]
  },
  {
   "cell_type": "code",
   "execution_count": 16,
   "id": "9b819776-da4b-45db-bb04-cc786a106569",
   "metadata": {},
   "outputs": [
    {
     "name": "stdin",
     "output_type": "stream",
     "text": [
      "Enter First Name: sahil\n",
      "Enter Last Name: Babu\n"
     ]
    },
    {
     "data": {
      "text/plain": [
       "'sahil Babu'"
      ]
     },
     "execution_count": 16,
     "metadata": {},
     "output_type": "execute_result"
    }
   ],
   "source": [
    "x=input('Enter First Name:')\n",
    "y=input('Enter Last Name:')\n",
    "fullname1(x,y)"
   ]
  },
  {
   "cell_type": "code",
   "execution_count": 17,
   "id": "dd0499c3-2ecf-4cbf-9844-31f6f2fcbfe5",
   "metadata": {},
   "outputs": [
    {
     "name": "stdin",
     "output_type": "stream",
     "text": [
      "Enter First Number: 40\n",
      "Enter Second Number: 10\n"
     ]
    },
    {
     "name": "stdout",
     "output_type": "stream",
     "text": [
      "The sum of two number is: 50\n"
     ]
    }
   ],
   "source": [
    "# wap to take two input from user and find their sum using function.\n",
    "\n",
    "def sum_two():\n",
    "    x=int(input('Enter First Number:'))\n",
    "    y=int(input('Enter Second Number:'))\n",
    "    z=x+y\n",
    "    print('The sum of two number is:',z)\n",
    "\n",
    "sum_two()"
   ]
  },
  {
   "cell_type": "code",
   "execution_count": 22,
   "id": "8838dfc2-7682-4fb9-931a-aac9bf165865",
   "metadata": {},
   "outputs": [
    {
     "name": "stdout",
     "output_type": "stream",
     "text": [
      "Hello world\n"
     ]
    }
   ],
   "source": [
    "def function():\n",
    "    print('Hello world')\n",
    "    return None\n",
    "\n",
    "function()"
   ]
  },
  {
   "cell_type": "code",
   "execution_count": 23,
   "id": "8645dde5-b473-4286-a3eb-702a64342b74",
   "metadata": {},
   "outputs": [
    {
     "data": {
      "text/plain": [
       "'Hello world'"
      ]
     },
     "execution_count": 23,
     "metadata": {},
     "output_type": "execute_result"
    }
   ],
   "source": [
    "def function1():\n",
    "    return 'Hello world'\n",
    "\n",
    "function1()"
   ]
  },
  {
   "cell_type": "code",
   "execution_count": 24,
   "id": "20e71d55-ea47-4607-8809-95d6451d5dc1",
   "metadata": {},
   "outputs": [
    {
     "name": "stdout",
     "output_type": "stream",
     "text": [
      "Hello world\n",
      "None\n"
     ]
    }
   ],
   "source": [
    "print(function())"
   ]
  },
  {
   "cell_type": "code",
   "execution_count": 25,
   "id": "1a64c357-eabd-4b10-9590-4ba68c854709",
   "metadata": {},
   "outputs": [
    {
     "name": "stdout",
     "output_type": "stream",
     "text": [
      "Hello world\n"
     ]
    }
   ],
   "source": [
    "print(function1())"
   ]
  },
  {
   "cell_type": "code",
   "execution_count": 26,
   "id": "e6907488-bcc5-4903-818c-7d38877e8fd2",
   "metadata": {},
   "outputs": [
    {
     "name": "stdin",
     "output_type": "stream",
     "text": [
      "Enter first number: 10\n",
      "Eneter second number: 20\n"
     ]
    },
    {
     "name": "stdout",
     "output_type": "stream",
     "text": [
      "Sum is: 30 \n",
      "Subtract is: -10 \n",
      "Multiplication is: 200 \n",
      "Division is: 0.5 \n",
      "Modulus is: 10\n"
     ]
    }
   ],
   "source": [
    "# wap to calculate the value from input user.\n",
    "\n",
    "def calculate():\n",
    "    x=int(input('Enter first number:'))\n",
    "    y=int(input('Eneter second number:'))\n",
    "    sum1=x+y\n",
    "    sub=x-y\n",
    "    mult=x*y\n",
    "    div=x/y\n",
    "    mod=x%y\n",
    "    print('Sum is:',sum1,'\\nSubtract is:',sub,'\\nMultiplication is:',mult,'\\nDivision is:',div,'\\nModulus is:',mod)\n",
    "\n",
    "\n",
    "obj=calculate()\n",
    "obj"
   ]
  },
  {
   "cell_type": "code",
   "execution_count": 33,
   "id": "66963e54-599f-49d1-b83d-83c2bd034d7b",
   "metadata": {},
   "outputs": [
    {
     "name": "stdin",
     "output_type": "stream",
     "text": [
      "Enter your range: 10\n"
     ]
    },
    {
     "name": "stdout",
     "output_type": "stream",
     "text": [
      "List of elements is: [1, 2, 3, 4, 5, 6, 7, 8, 9, 10] \n",
      "The Sum of the value is 55\n"
     ]
    }
   ],
   "source": [
    "# wap to take range from find the sum and average using function.\n",
    "\n",
    "def func():\n",
    "    num=int(input('Enter your range:'))\n",
    "    sum1=0\n",
    "    list_1=[]\n",
    "    for i in range(1,num+1):\n",
    "        sum1+=i\n",
    "        list_1.append(i)\n",
    "    print('List of elements is:',list_1,'\\nThe Sum of the value is',sum1)\n",
    "\n",
    "x=func()\n",
    "x"
   ]
  },
  {
   "cell_type": "code",
   "execution_count": 4,
   "id": "580e9ed2-50e2-49a1-b39f-f270adf4bd58",
   "metadata": {},
   "outputs": [
    {
     "name": "stdin",
     "output_type": "stream",
     "text": [
      "Enter your age: 10\n"
     ]
    },
    {
     "name": "stdout",
     "output_type": "stream",
     "text": [
      "10 is not elegible for voting.\n"
     ]
    }
   ],
   "source": [
    "# default parameter\n",
    "\n",
    "def check_age(age):\n",
    "    if age>=18:\n",
    "        print(f'{age} is elegible for voting.')\n",
    "    else:\n",
    "        print(f'{age} is not elegible for voting.')\n",
    "x=int(input('Enter your age:'))\n",
    "\n",
    "check_age(x)"
   ]
  },
  {
   "cell_type": "code",
   "execution_count": 12,
   "id": "a0449973-13b3-492f-8be0-f55cc2efb73d",
   "metadata": {},
   "outputs": [
    {
     "data": {
      "text/plain": [
       "30"
      ]
     },
     "execution_count": 12,
     "metadata": {},
     "output_type": "execute_result"
    }
   ],
   "source": [
    "def sum(x=10,y=20):   #default argument.\n",
    "    z=x+y\n",
    "    return z\n",
    "sum()"
   ]
  },
  {
   "cell_type": "markdown",
   "id": "a8bf68ae-cb97-4a18-92e2-e826ef020343",
   "metadata": {},
   "source": [
    "# Assignment (function)\n",
    "\n",
    " * __1. Write a program that checks if a given number is positive, negative or zero__\n",
    " * __2. Create a function that print 10 even numbers.__\n",
    " * __3. Implement a program that finds the largest numebr in a list.__\n",
    " * __4. Create a program that takes a year as input and checks if it is a leap year or not.__\n",
    " * __5. Given a list of integers, find all the even numbers and store them in a new list.__\n",
    " * __6. Given a list of names, print all the names starting with the letter 'A'.__\n",
    " * __7. Write a program that calculates the factorial of a given number.__\n",
    " * __8. Given a list of words, count the number of words with more than five characters.__\n",
    " * __9. Calculate the sum of digits of a given numbers.__\n",
    " * __10. Write a function to calculate the area of a circle given its radius.__\n",
    " * __11. Create a function to check if a number is prime.__\n",
    " * __12. Implement a function that reverses a given string.__\n",
    " * __13. Given a list of numbers, create a function to find the sum of all positive numbers.__\n",
    " * __14. Write a python function to check if a given string is a palindrome.__\n",
    " * __15. Implement a function that returns the factorial of a given numebrs using recursion.__\n",
    " * __16. Create a function to find the square of each element in a given list.__\n",
    " * __17. Write a function to check if a number is even or odd and return \"Even\" or \"Odd\" accordingly.__\n",
    " * __18. Calculate the area of triangle given its base and height using function.__\n",
    " * __19. Create a function that takes a list of strings and returns the list sorted alphabetically.__\n",
    " * __20. Write a function that takes two lists and returns their intersection (common elements).__\n",
    " * __21. Implement a function to check if a given year is a leap year or not.__\n",
    " * __21. Create a function that takes a number as input and prints it's multiplication table.__\n",
    " * __22. write a function to count he number of vowels in a given string.__\n",
    " * __23. Given a list of words, concatenate them into a single string separated by spaces.__\n",
    " * __24. Create a function to reverse a given string.__\n",
    " * __25. Write a program that takes sentence as input and counts the number of words in it.__\n",
    " * __26. Implement a function that checks if a given string is a pangram (contains all letters of the alphabets.)__\n",
    " * __27. Given a string, write a function to remove all vowels from it and return the modified string.__\n",
    " * __28. Write a function that takes a sentence as input and returns the sentence in reverse order.__\n",
    " * __29. Given a list of names, count  the number of names that starts with a vowel.__\n",
    " * __30. Implement a program that takes a sentence and a word as input and check if the word is present in the senctence or not.__"
   ]
  },
  {
   "cell_type": "code",
   "execution_count": 15,
   "id": "bb981591-7f9c-46d8-b958-40a496280950",
   "metadata": {},
   "outputs": [
    {
     "name": "stdin",
     "output_type": "stream",
     "text": [
      "Enter any number: 0\n"
     ]
    },
    {
     "name": "stdout",
     "output_type": "stream",
     "text": [
      "0 is equal to Zero.\n"
     ]
    }
   ],
   "source": [
    "# 1. Write a program that checks if a given number is positive, negative or zero\n",
    "\n",
    "def check_num():\n",
    "    num=int(input('Enter any number:'))\n",
    "    if num>0:\n",
    "        print(f'{num} is Positive.')\n",
    "    elif num<0:\n",
    "        print(f'{num} is Negtive.')\n",
    "    else:\n",
    "        print(f'{num} is equal to Zero.')\n",
    "check_num()"
   ]
  },
  {
   "cell_type": "code",
   "execution_count": 19,
   "id": "a5176fd8-2f35-4652-b0c1-babfe7a62a35",
   "metadata": {},
   "outputs": [
    {
     "name": "stdin",
     "output_type": "stream",
     "text": [
      "Enter Radius of cirlce: 10\n"
     ]
    },
    {
     "name": "stdout",
     "output_type": "stream",
     "text": [
      "Area of Circle of Radius 10 is: 314.1592653589793 cm²\n",
      "Circumference of Circle of Radius 10 is: 62.83185307179586 cm\n"
     ]
    }
   ],
   "source": [
    "import math\n",
    "def circle_area():\n",
    "    radius=int(input('Enter Radius of cirlce:'))\n",
    "    area=math.pi*radius*radius\n",
    "    circum= 2*math.pi*radius\n",
    "    print(f'Area of Circle of Radius {radius} is: {area} cm²')\n",
    "    print(f'Circumference of Circle of Radius {radius} is: {circum} cm')\n",
    "\n",
    "circle_area()"
   ]
  },
  {
   "cell_type": "code",
   "execution_count": null,
   "id": "be467f34-cccc-42f1-bee2-d84fdb9c4db0",
   "metadata": {},
   "outputs": [],
   "source": []
  }
 ],
 "metadata": {
  "kernelspec": {
   "display_name": "Python 3 (ipykernel)",
   "language": "python",
   "name": "python3"
  },
  "language_info": {
   "codemirror_mode": {
    "name": "ipython",
    "version": 3
   },
   "file_extension": ".py",
   "mimetype": "text/x-python",
   "name": "python",
   "nbconvert_exporter": "python",
   "pygments_lexer": "ipython3",
   "version": "3.12.2"
  }
 },
 "nbformat": 4,
 "nbformat_minor": 5
}
