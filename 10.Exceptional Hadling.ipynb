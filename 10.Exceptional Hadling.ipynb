{
 "cells": [
  {
   "cell_type": "markdown",
   "id": "3d4ff5bd-efe5-4319-92be-095de1a2f84b",
   "metadata": {},
   "source": [
    "# 11. Exceptional Handling in Python\n",
    "\n",
    " * __An exception is an event, which occurs during the excecution of a program that disrupts the normal flow of the program instructions.__\n",
    " * __In general, when a Python script encounters a situation that it cannot cope with, it raises an exception.__\n",
    " * __An exception is a python object that represents an error.__\n",
    " * __When a Python script raises an exception, it must either handle the exception immediately otherwise, it terminates and quites.__\n",
    " * __If you have some suspicious code that may raise an exception, you can defend your program by placing the suspicious code in try:block.__\n",
    " * __After the try:block, include an except: statement, followed by a block of code which handles the problem as elegantly as possible.__\n",
    "\n",
    "# Common Exceptions:\n",
    " * __ZeroDivisionError__\n",
    " * __NameError__\n",
    " * __ValueError__\n",
    " * __IOError__\n",
    " * __EOFError__\n",
    " * __IndentationError__"
   ]
  },
  {
   "cell_type": "code",
   "execution_count": 1,
   "id": "0ac5966f-015a-4ce7-b901-32da908f8482",
   "metadata": {},
   "outputs": [
    {
     "ename": "ZeroDivisionError",
     "evalue": "division by zero",
     "output_type": "error",
     "traceback": [
      "\u001b[1;31m---------------------------------------------------------------------------\u001b[0m",
      "\u001b[1;31mZeroDivisionError\u001b[0m                         Traceback (most recent call last)",
      "Cell \u001b[1;32mIn[1], line 1\u001b[0m\n\u001b[1;32m----> 1\u001b[0m \u001b[38;5;241;43m1\u001b[39;49m\u001b[38;5;241;43m/\u001b[39;49m\u001b[38;5;241;43m0\u001b[39;49m\n",
      "\u001b[1;31mZeroDivisionError\u001b[0m: division by zero"
     ]
    }
   ],
   "source": [
    "1/0"
   ]
  },
  {
   "cell_type": "code",
   "execution_count": 5,
   "id": "4cc1f073-0fd8-49d8-9dab-8eccb8cb6553",
   "metadata": {},
   "outputs": [
    {
     "name": "stdin",
     "output_type": "stream",
     "text": [
      "Enter Any number: 10\n",
      "Enter Second Number 0\n"
     ]
    },
    {
     "ename": "ZeroDivisionError",
     "evalue": "division by zero",
     "output_type": "error",
     "traceback": [
      "\u001b[1;31m---------------------------------------------------------------------------\u001b[0m",
      "\u001b[1;31mZeroDivisionError\u001b[0m                         Traceback (most recent call last)",
      "Cell \u001b[1;32mIn[5], line 4\u001b[0m\n\u001b[0;32m      1\u001b[0m x\u001b[38;5;241m=\u001b[39m\u001b[38;5;28mint\u001b[39m(\u001b[38;5;28minput\u001b[39m(\u001b[38;5;124m'\u001b[39m\u001b[38;5;124mEnter Any number:\u001b[39m\u001b[38;5;124m'\u001b[39m))\n\u001b[0;32m      2\u001b[0m y\u001b[38;5;241m=\u001b[39m\u001b[38;5;28mint\u001b[39m(\u001b[38;5;28minput\u001b[39m(\u001b[38;5;124m'\u001b[39m\u001b[38;5;124mEnter Second Number\u001b[39m\u001b[38;5;124m'\u001b[39m))\n\u001b[1;32m----> 4\u001b[0m z\u001b[38;5;241m=\u001b[39m\u001b[43mx\u001b[49m\u001b[38;5;241;43m/\u001b[39;49m\u001b[43my\u001b[49m\n\u001b[0;32m      5\u001b[0m z\n\u001b[0;32m      6\u001b[0m \u001b[38;5;28mprint\u001b[39m(\u001b[38;5;124m'\u001b[39m\u001b[38;5;124mHello world\u001b[39m\u001b[38;5;124m'\u001b[39m)\n",
      "\u001b[1;31mZeroDivisionError\u001b[0m: division by zero"
     ]
    }
   ],
   "source": [
    "x=int(input('Enter Any number:'))\n",
    "y=int(input('Enter Second Number'))\n",
    "\n",
    "z=x/y\n",
    "z\n",
    "print('Hello world')"
   ]
  },
  {
   "cell_type": "code",
   "execution_count": 10,
   "id": "13b011fc-ece7-4ed0-aa5a-c561e9bb8078",
   "metadata": {},
   "outputs": [
    {
     "name": "stdin",
     "output_type": "stream",
     "text": [
      "Enter Any number: 10\n",
      "Enter Second Number 0\n"
     ]
    },
    {
     "name": "stdout",
     "output_type": "stream",
     "text": [
      "It gives ZeroDivisionError\n",
      "Hello world\n"
     ]
    }
   ],
   "source": [
    "try:\n",
    "    x=int(input('Enter Any number:'))\n",
    "    y=int(input('Enter Second Number'))\n",
    "\n",
    "    z=x/y\n",
    "    print(z)\n",
    "except ZeroDivisionError:\n",
    "    print('It gives ZeroDivisionError')\n",
    "\n",
    "print('Hello world')"
   ]
  },
  {
   "cell_type": "code",
   "execution_count": 11,
   "id": "2e1e541c-687c-4b4d-969e-0fbaf7e84089",
   "metadata": {},
   "outputs": [
    {
     "ename": "NameError",
     "evalue": "name 'list2' is not defined",
     "output_type": "error",
     "traceback": [
      "\u001b[1;31m---------------------------------------------------------------------------\u001b[0m",
      "\u001b[1;31mNameError\u001b[0m                                 Traceback (most recent call last)",
      "Cell \u001b[1;32mIn[11], line 4\u001b[0m\n\u001b[0;32m      1\u001b[0m \u001b[38;5;66;03m# name Error\u001b[39;00m\n\u001b[0;32m      3\u001b[0m list1\u001b[38;5;241m=\u001b[39m[\u001b[38;5;241m10\u001b[39m,\u001b[38;5;241m20\u001b[39m]\n\u001b[1;32m----> 4\u001b[0m \u001b[38;5;28mprint\u001b[39m(\u001b[43mlist2\u001b[49m)\n",
      "\u001b[1;31mNameError\u001b[0m: name 'list2' is not defined"
     ]
    }
   ],
   "source": [
    "# name Error\n",
    "\n",
    "list1=[10,20]\n",
    "print(list2)"
   ]
  },
  {
   "cell_type": "code",
   "execution_count": 14,
   "id": "63eb6389-cbe9-44ba-8301-5958b23650d9",
   "metadata": {},
   "outputs": [
    {
     "name": "stdout",
     "output_type": "stream",
     "text": [
      "It given a NameError\n"
     ]
    }
   ],
   "source": [
    "try:\n",
    "    list1=[10,20,30]\n",
    "    print(list5)\n",
    "except NameError:\n",
    "    print('It given a NameError')"
   ]
  },
  {
   "cell_type": "code",
   "execution_count": 15,
   "id": "40f317e6-ab8b-4403-90d9-b42a9fb7ba4e",
   "metadata": {},
   "outputs": [
    {
     "ename": "IndexError",
     "evalue": "list index out of range",
     "output_type": "error",
     "traceback": [
      "\u001b[1;31m---------------------------------------------------------------------------\u001b[0m",
      "\u001b[1;31mIndexError\u001b[0m                                Traceback (most recent call last)",
      "Cell \u001b[1;32mIn[15], line 4\u001b[0m\n\u001b[0;32m      1\u001b[0m \u001b[38;5;66;03m# indexerror\u001b[39;00m\n\u001b[0;32m      3\u001b[0m list1\u001b[38;5;241m=\u001b[39m[\u001b[38;5;124m'\u001b[39m\u001b[38;5;124mHello world\u001b[39m\u001b[38;5;124m'\u001b[39m,\u001b[38;5;124m'\u001b[39m\u001b[38;5;124mHey Prafulla\u001b[39m\u001b[38;5;124m'\u001b[39m,\u001b[38;5;124m'\u001b[39m\u001b[38;5;124mCongratulations\u001b[39m\u001b[38;5;124m'\u001b[39m]\n\u001b[1;32m----> 4\u001b[0m \u001b[43mlist1\u001b[49m\u001b[43m[\u001b[49m\u001b[38;5;241;43m5\u001b[39;49m\u001b[43m]\u001b[49m\n",
      "\u001b[1;31mIndexError\u001b[0m: list index out of range"
     ]
    }
   ],
   "source": [
    "# indexerror\n",
    "\n",
    "list1=['Hello world','Hey Prafulla','Congratulations']\n",
    "list1[5]"
   ]
  },
  {
   "cell_type": "code",
   "execution_count": 20,
   "id": "d7a7f25f-77b8-49c3-8c45-379cf36dcecc",
   "metadata": {},
   "outputs": [
    {
     "name": "stdout",
     "output_type": "stream",
     "text": [
      "It gives IndexError\n"
     ]
    }
   ],
   "source": [
    "try:\n",
    "    list1=['Hello world','Hey Prafulla','Congratulations']\n",
    "    print(list1[3])\n",
    "except IndexError:\n",
    "    print('It gives IndexError')"
   ]
  },
  {
   "cell_type": "code",
   "execution_count": 21,
   "id": "04a8278f-ff7d-447e-82bc-1140ce8f2179",
   "metadata": {},
   "outputs": [
    {
     "name": "stdin",
     "output_type": "stream",
     "text": [
      "Enter Integer value hello\n"
     ]
    },
    {
     "ename": "ValueError",
     "evalue": "invalid literal for int() with base 10: 'hello'",
     "output_type": "error",
     "traceback": [
      "\u001b[1;31m---------------------------------------------------------------------------\u001b[0m",
      "\u001b[1;31mValueError\u001b[0m                                Traceback (most recent call last)",
      "Cell \u001b[1;32mIn[21], line 1\u001b[0m\n\u001b[1;32m----> 1\u001b[0m x\u001b[38;5;241m=\u001b[39m\u001b[38;5;28;43mint\u001b[39;49m\u001b[43m(\u001b[49m\u001b[38;5;28;43minput\u001b[39;49m\u001b[43m(\u001b[49m\u001b[38;5;124;43m'\u001b[39;49m\u001b[38;5;124;43mEnter Integer value\u001b[39;49m\u001b[38;5;124;43m'\u001b[39;49m\u001b[43m)\u001b[49m\u001b[43m)\u001b[49m\n\u001b[0;32m      2\u001b[0m \u001b[38;5;28mprint\u001b[39m(x)\n",
      "\u001b[1;31mValueError\u001b[0m: invalid literal for int() with base 10: 'hello'"
     ]
    }
   ],
   "source": [
    "x=int(input('Enter Integer value'))\n",
    "print(x)"
   ]
  },
  {
   "cell_type": "code",
   "execution_count": 23,
   "id": "96f35622-0878-4878-902b-808be14c51bc",
   "metadata": {},
   "outputs": [
    {
     "name": "stdin",
     "output_type": "stream",
     "text": [
      "Enter any value: hello\n"
     ]
    },
    {
     "name": "stdout",
     "output_type": "stream",
     "text": [
      "It gives ValueError\n"
     ]
    }
   ],
   "source": [
    "try:\n",
    "    x=int(input('Enter any value:'))\n",
    "    print(x)\n",
    "\n",
    "except ValueError:\n",
    "    print('It gives ValueError')"
   ]
  },
  {
   "cell_type": "code",
   "execution_count": 26,
   "id": "8b77d81d-d7eb-4336-894d-0a278e3e1aad",
   "metadata": {},
   "outputs": [
    {
     "name": "stdin",
     "output_type": "stream",
     "text": [
      "Enter any number: 10\n",
      "Enter second number: 5\n"
     ]
    },
    {
     "name": "stdout",
     "output_type": "stream",
     "text": [
      "Result is: 2.0\n"
     ]
    }
   ],
   "source": [
    "# multiple exception handling in one program\n",
    "\n",
    "try:\n",
    "    x=int(input('Enter any number:'))\n",
    "    y=int(input('Enter second number:'))\n",
    "    z=x/y\n",
    "except ZeroDivisionError:\n",
    "    print('You cannot divide any number with denominator Zero.')\n",
    "except ValueError:\n",
    "    print('Invalid Value You Can enter only integervalue.')\n",
    "\n",
    "else:\n",
    "    print(f'Result is: {z}')"
   ]
  },
  {
   "cell_type": "markdown",
   "id": "a2fa790e-fbc6-4491-84dc-66be6a8df9dc",
   "metadata": {},
   "source": [
    "# KeyError"
   ]
  },
  {
   "cell_type": "code",
   "execution_count": 27,
   "id": "1c2e276b-8977-4bee-9659-7bff2d614cb0",
   "metadata": {},
   "outputs": [
    {
     "ename": "KeyError",
     "evalue": "'address'",
     "output_type": "error",
     "traceback": [
      "\u001b[1;31m---------------------------------------------------------------------------\u001b[0m",
      "\u001b[1;31mKeyError\u001b[0m                                  Traceback (most recent call last)",
      "Cell \u001b[1;32mIn[27], line 2\u001b[0m\n\u001b[0;32m      1\u001b[0m dictionary\u001b[38;5;241m=\u001b[39m{\u001b[38;5;124m'\u001b[39m\u001b[38;5;124mname\u001b[39m\u001b[38;5;124m'\u001b[39m:\u001b[38;5;124m'\u001b[39m\u001b[38;5;124mSahild\u001b[39m\u001b[38;5;124m'\u001b[39m,\u001b[38;5;124m'\u001b[39m\u001b[38;5;124mage\u001b[39m\u001b[38;5;124m'\u001b[39m:\u001b[38;5;241m45\u001b[39m}\n\u001b[1;32m----> 2\u001b[0m \u001b[38;5;28mprint\u001b[39m(\u001b[43mdictionary\u001b[49m\u001b[43m[\u001b[49m\u001b[38;5;124;43m'\u001b[39;49m\u001b[38;5;124;43maddress\u001b[39;49m\u001b[38;5;124;43m'\u001b[39;49m\u001b[43m]\u001b[49m)\n",
      "\u001b[1;31mKeyError\u001b[0m: 'address'"
     ]
    }
   ],
   "source": [
    "dictionary={'name':'Sahild','age':45}\n",
    "print(dictionary['address'])"
   ]
  },
  {
   "cell_type": "code",
   "execution_count": 28,
   "id": "90bbf9d5-8fb0-4d27-b7ed-21f103965e5e",
   "metadata": {},
   "outputs": [
    {
     "name": "stdout",
     "output_type": "stream",
     "text": [
      "It gives KeyError\n"
     ]
    }
   ],
   "source": [
    "try:\n",
    "    dictionary={'name':'Sahild','age':45}\n",
    "    print(dictionary['address'])\n",
    "except KeyError:\n",
    "    print('It gives KeyError')"
   ]
  },
  {
   "cell_type": "markdown",
   "id": "7dcead7e-6451-449b-a989-fba18f5d1b4b",
   "metadata": {},
   "source": [
    "# try:except:else:finally"
   ]
  },
  {
   "cell_type": "code",
   "execution_count": 31,
   "id": "d7d67293-2d3c-4097-8d49-a5e61aa95a21",
   "metadata": {},
   "outputs": [
    {
     "name": "stdin",
     "output_type": "stream",
     "text": [
      "Enter First number: 10\n",
      "Enter Second Number 5\n"
     ]
    },
    {
     "name": "stdout",
     "output_type": "stream",
     "text": [
      "Your Result is: 2.0\n",
      "Your Programm is Running Successfully.\n"
     ]
    }
   ],
   "source": [
    "try:\n",
    "    x=int(input('Enter First number:'))\n",
    "    y=int(input('Enter Second Number'))\n",
    "    result=x/y\n",
    "except ZeroDivisionError:\n",
    "    print('It gives a ZeroDivisonError')\n",
    "except ValueError:\n",
    "    print('It gives ValueError')\n",
    "else:\n",
    "    print('Your Result is:',result)\n",
    "finally:\n",
    "    print('Your Programm is Running Successfully.')"
   ]
  },
  {
   "cell_type": "code",
   "execution_count": 42,
   "id": "7ddc1c63-2e9a-46e3-bdc3-9d3963cf4419",
   "metadata": {},
   "outputs": [
    {
     "name": "stdin",
     "output_type": "stream",
     "text": [
      "Enter your range to find sum: 10\n"
     ]
    },
    {
     "name": "stdout",
     "output_type": "stream",
     "text": [
      "Total Sum of your Range is: 55\n",
      "Your Programme Running Successfully\n"
     ]
    }
   ],
   "source": [
    "# write a function that takes range from the user and find their sum.\n",
    "try:\n",
    "    user=int(input('Enter your range to find sum:'))\n",
    "    def calc_sum():\n",
    "        \n",
    "        sum1=0\n",
    "        for i in range(1,user+1):\n",
    "            sum1=sum1+i\n",
    "        print('Total Sum of your Range is:',sum1)\n",
    "    \n",
    "    calc_sum()\n",
    "except ValueError:\n",
    "    print('Enter a Valid Input of Number only')\n",
    "except KeyboardInterrupt:\n",
    "    print('KeyboardInterrupt')\n",
    "finally:\n",
    "    print('Your Programme Running Successfully')"
   ]
  },
  {
   "cell_type": "code",
   "execution_count": null,
   "id": "1b6937c4-f796-4a72-bb90-c122468fa445",
   "metadata": {},
   "outputs": [],
   "source": [
    "# try: wap to take range from user and display even or odd of range and their sum of even or odd."
   ]
  }
 ],
 "metadata": {
  "kernelspec": {
   "display_name": "Python 3 (ipykernel)",
   "language": "python",
   "name": "python3"
  },
  "language_info": {
   "codemirror_mode": {
    "name": "ipython",
    "version": 3
   },
   "file_extension": ".py",
   "mimetype": "text/x-python",
   "name": "python",
   "nbconvert_exporter": "python",
   "pygments_lexer": "ipython3",
   "version": "3.12.2"
  }
 },
 "nbformat": 4,
 "nbformat_minor": 5
}
