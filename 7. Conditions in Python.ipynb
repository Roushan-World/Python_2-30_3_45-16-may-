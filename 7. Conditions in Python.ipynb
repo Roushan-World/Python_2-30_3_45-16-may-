{
 "cells": [
  {
   "cell_type": "markdown",
   "id": "dad9b90b-0da5-4f72-9dcf-30afae5d54fd",
   "metadata": {},
   "source": [
    "# 7. Conditions in Python\n",
    "\n",
    " * __Comparison Operatos__\n",
    " * __Comparison operators compare some valur or operands and based on a condtions, produce a Boolean. Python has six comparison Operators as below:__\n",
    " * __Less than(<)__\n",
    " * __Less than or equal to(<=)__\n",
    " * __Greater than(>)__\n",
    " * __Greater than or equal to(>=)__\n",
    " * __Equal to(==)__\n",
    " * __Not equal to(!=)__"
   ]
  },
  {
   "cell_type": "code",
   "execution_count": 4,
   "id": "e9690331-114c-4f72-84ba-0a42d8b8c8ea",
   "metadata": {},
   "outputs": [
    {
     "name": "stdout",
     "output_type": "stream",
     "text": [
      "False\n",
      "True\n",
      "True\n",
      "True\n"
     ]
    }
   ],
   "source": [
    "number=1.618\n",
    "\n",
    "print(number>2)\n",
    "print(number<2)\n",
    "print(number<=2)  #True,\n",
    "print(number!=2)"
   ]
  },
  {
   "cell_type": "markdown",
   "id": "2cf56f00-cc15-41f9-b33b-b82eabc230b0",
   "metadata": {},
   "source": [
    "# Branching (if,elif,else)\n",
    "\n",
    " * __Decision making is required when we want to execute a code only if a certain condition is satisfied.__\n",
    " * __The if/elif/else statement is used in Python for decision making.__\n",
    " * __An else statement can be combined with an if statement.__\n",
    " * __An else statement contains the block of code that executed if the condiitional expression in the if statement resolves to 0 or a False value.__\n",
    " * __The else statement is an optional statement and there could be at most only else statement following if.__\n",
    " * __The elif statement allows you to check multiple expressions for True and execute a block of code as soon as one of the conditions evaluates to True.__\n",
    " * __Similar to the else, the elif statement is optional.__\n",
    " * __However, unlike else, for which there can be at most one statement, ther ecan be an arbitrary number of elif statment following an if.__"
   ]
  },
  {
   "cell_type": "code",
   "execution_count": 8,
   "id": "6f2d4e12-aa79-41f3-9d5b-886ff28bf147",
   "metadata": {},
   "outputs": [
    {
     "name": "stdout",
     "output_type": "stream",
     "text": [
      "Babu chhota hai\n"
     ]
    }
   ],
   "source": [
    "age=5\n",
    "\n",
    "if age==5:\n",
    "    print('Babu chhota hai')\n",
    "else:\n",
    "    print('Babu Bada ho gaya.')"
   ]
  },
  {
   "cell_type": "code",
   "execution_count": 10,
   "id": "fe40d799-949f-4028-a329-1cbc08b37eb0",
   "metadata": {},
   "outputs": [
    {
     "name": "stdin",
     "output_type": "stream",
     "text": [
      "Enter your child age: 10\n"
     ]
    },
    {
     "name": "stdout",
     "output_type": "stream",
     "text": [
      "Babu Bada ho gaya.\n"
     ]
    }
   ],
   "source": [
    "age=int(input('Enter your child age:'))\n",
    "\n",
    "if age==5:\n",
    "    print('Babu chhota hai')\n",
    "else:\n",
    "    print('Babu Bada ho gaya.')"
   ]
  },
  {
   "cell_type": "code",
   "execution_count": 25,
   "id": "fd1486b2-6e54-44d9-b12a-d954d122fb23",
   "metadata": {},
   "outputs": [
    {
     "name": "stdin",
     "output_type": "stream",
     "text": [
      "Enter your Baby age: 101\n"
     ]
    },
    {
     "name": "stdout",
     "output_type": "stream",
     "text": [
      "Age is Invalid\n"
     ]
    }
   ],
   "source": [
    "# \n",
    "age=int(input('Enter your Baby age:'))\n",
    "if age<100:\n",
    "    if age>18 and age<40:\n",
    "        print('Your Child is Adult')\n",
    "    elif age>13 and age<18:\n",
    "        print('Your child is Teenager.')\n",
    "    elif age>40 and age<100:\n",
    "        print('You are Senior Citizen.')\n",
    "    else:\n",
    "        print('Your child is Baby')\n",
    "else:\n",
    "    print('Age is Invalid')"
   ]
  },
  {
   "cell_type": "code",
   "execution_count": 30,
   "id": "a792e778-00d6-4687-908f-1bade474aa02",
   "metadata": {},
   "outputs": [
    {
     "name": "stdin",
     "output_type": "stream",
     "text": [
      "Enter your movie rating: 4.0\n"
     ]
    },
    {
     "name": "stdout",
     "output_type": "stream",
     "text": [
      "Invalid Rating Input 4.0\n"
     ]
    }
   ],
   "source": [
    "# Wap to check input user age is elegible for voting or not.\n",
    "\n",
    "# wap to take rating of the movie and display the criteria according to the rating.\n",
    "\n",
    "# rating -------------------------> Feedback\n",
    "# 8-10.0 -------------------------> You can watch this movie in the theater.\n",
    "# 6-8.0 --------------------------> You can watch this movie as per your interest.\n",
    "# 5 - 6---------------------------> You can watch this movie at your home.\n",
    "# 4.0-5.0 ------------------------> You can wath this movie at your own risk.\n",
    "# below 4 ------------------------> You can't watch this movie.\n",
    "\n",
    "rating=float(input('Enter your movie rating:'))\n",
    "\n",
    "if rating>8.0 and rating<=10.0:\n",
    "    print(f'You can watch this movie in the Theater with rating {rating}.')\n",
    "elif rating>6.0 and rating<=8.0:\n",
    "    print(f'You can watch this movie as per your interest with rating {rating}.')\n",
    "elif rating>5.0 and rating<=6.0:\n",
    "    print(f'You can watch this movie at your home with rating {rating}.')\n",
    "elif rating>4.0 and rating<=5.0:\n",
    "    print(f'You can watch this movie at your own risk with rating {rating}.')\n",
    "elif rating<4.0:\n",
    "    print(f\"You Can't watch this movie with rating below rating {rating}.\")\n",
    "else:\n",
    "    print(f'Invalid Rating Input {rating}')"
   ]
  },
  {
   "cell_type": "code",
   "execution_count": null,
   "id": "a04e1489-cdeb-4bdd-acd9-d6a4d2d29326",
   "metadata": {},
   "outputs": [],
   "source": [
    "# Assignment\n",
    "\n",
    "# wap to find the even or odd number form user input.\n",
    "# wap to to check user input number is divisible by 7,8.\n",
    "# wap to find the divisiblity rule of 3,5 and 7.\n",
    "# wap to take three age from input and display the youngest one of these.\n",
    "\n",
    "# wap to find the sum of three number from user input.\n",
    "\n",
    "# wap to find the sum of three numbers if all number are less than 20 and if numbers is greater than 20 then find the subtract \n",
    "# or all number is greater than 30 then multiply all numbers.\n",
    "\n",
    "# Given a list =[10,20,30,40,50,60,70,80,90,100]\n",
    "# first reverse the value only 40 to 80 now your product is 80,70,60,50,40\n",
    "# second  reverse the whole list=[100,90,80,70,60,50,40,30,20,10]\n",
    "\n",
    "# wap to find the exponent of user input number.\n",
    "\n",
    "# wap to display the months name according to the user input number 1='January', 2='February'--------13='Invalid input'\n",
    "\n",
    "#wap to display the weekdays name according to the user input number 1='Monday', 2='Tuesday' ---------8=\"Invalid input\""
   ]
  }
 ],
 "metadata": {
  "kernelspec": {
   "display_name": "Python 3 (ipykernel)",
   "language": "python",
   "name": "python3"
  },
  "language_info": {
   "codemirror_mode": {
    "name": "ipython",
    "version": 3
   },
   "file_extension": ".py",
   "mimetype": "text/x-python",
   "name": "python",
   "nbconvert_exporter": "python",
   "pygments_lexer": "ipython3",
   "version": "3.12.2"
  }
 },
 "nbformat": 4,
 "nbformat_minor": 5
}
