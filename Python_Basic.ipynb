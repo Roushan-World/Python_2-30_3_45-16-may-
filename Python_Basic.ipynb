{
 "cells": [
  {
   "cell_type": "markdown",
   "id": "9189b7f2-b975-4b77-aca2-ff69e2540070",
   "metadata": {},
   "source": [
    "# 1. Python Basic"
   ]
  },
  {
   "cell_type": "code",
   "execution_count": 11,
   "id": "68f30769-390d-4c4a-89b9-709e9dfa01c4",
   "metadata": {},
   "outputs": [
    {
     "name": "stdout",
     "output_type": "stream",
     "text": [
      "Modi\n"
     ]
    }
   ],
   "source": [
    "print(\"Modi\")     #print-->> display the output"
   ]
  },
  {
   "cell_type": "code",
   "execution_count": 3,
   "id": "5ba6d548-82a6-435a-9132-2d555228859c",
   "metadata": {},
   "outputs": [
    {
     "name": "stdout",
     "output_type": "stream",
     "text": [
      "a\n"
     ]
    }
   ],
   "source": [
    "# quotes  1. ''  2. \"\"   3. ''''''   4. \"\"\"\"\"\"\n",
    "\n",
    "# string--> combindation of alphabetical words.\n",
    "\n",
    "print('a')"
   ]
  },
  {
   "cell_type": "code",
   "execution_count": 4,
   "id": "63c96c4f-2ce6-4f7d-9252-948fb2f1304f",
   "metadata": {},
   "outputs": [
    {
     "name": "stdout",
     "output_type": "stream",
     "text": [
      "a\n"
     ]
    }
   ],
   "source": [
    "print(\"a\")"
   ]
  },
  {
   "cell_type": "code",
   "execution_count": 5,
   "id": "6a3b148b-4fde-4eb9-b62a-d296cb21bdaf",
   "metadata": {},
   "outputs": [
    {
     "ename": "NameError",
     "evalue": "name 'a' is not defined",
     "output_type": "error",
     "traceback": [
      "\u001b[1;31m---------------------------------------------------------------------------\u001b[0m",
      "\u001b[1;31mNameError\u001b[0m                                 Traceback (most recent call last)",
      "Cell \u001b[1;32mIn[5], line 1\u001b[0m\n\u001b[1;32m----> 1\u001b[0m \u001b[38;5;28mprint\u001b[39m(\u001b[43ma\u001b[49m)\n",
      "\u001b[1;31mNameError\u001b[0m: name 'a' is not defined"
     ]
    }
   ],
   "source": [
    "print(a)"
   ]
  },
  {
   "cell_type": "code",
   "execution_count": 9,
   "id": "2e82b2b1-5984-4d91-b339-b925e79c7b52",
   "metadata": {},
   "outputs": [
    {
     "name": "stdout",
     "output_type": "stream",
     "text": [
      "siddharth\n"
     ]
    }
   ],
   "source": [
    "print('siddharth')"
   ]
  },
  {
   "cell_type": "code",
   "execution_count": 10,
   "id": "ec78bfda-a361-4be7-a2ac-d541d267c37f",
   "metadata": {},
   "outputs": [
    {
     "name": "stdout",
     "output_type": "stream",
     "text": [
      "Siddharth\n"
     ]
    }
   ],
   "source": [
    "print(\"Siddharth\")"
   ]
  },
  {
   "cell_type": "code",
   "execution_count": 15,
   "id": "46ba00a3-6019-48e4-a9ed-3c2a723dc182",
   "metadata": {},
   "outputs": [
    {
     "name": "stdout",
     "output_type": "stream",
     "text": [
      "Modi\n",
      "Siddharth\n",
      "Hello world\n"
     ]
    },
    {
     "ename": "NameError",
     "evalue": "name 'frint' is not defined",
     "output_type": "error",
     "traceback": [
      "\u001b[1;31m---------------------------------------------------------------------------\u001b[0m",
      "\u001b[1;31mNameError\u001b[0m                                 Traceback (most recent call last)",
      "Cell \u001b[1;32mIn[15], line 4\u001b[0m\n\u001b[0;32m      2\u001b[0m \u001b[38;5;28mprint\u001b[39m(\u001b[38;5;124m'\u001b[39m\u001b[38;5;124mSiddharth\u001b[39m\u001b[38;5;124m'\u001b[39m)\n\u001b[0;32m      3\u001b[0m \u001b[38;5;28mprint\u001b[39m(\u001b[38;5;124m'\u001b[39m\u001b[38;5;124mHello world\u001b[39m\u001b[38;5;124m'\u001b[39m)\n\u001b[1;32m----> 4\u001b[0m \u001b[43mfrint\u001b[49m(\u001b[38;5;124m'\u001b[39m\u001b[38;5;124mHello\u001b[39m\u001b[38;5;124m'\u001b[39m)\n\u001b[0;32m      5\u001b[0m \u001b[38;5;28mprint\u001b[39m(\u001b[38;5;124m'\u001b[39m\u001b[38;5;124mcongratulation!\u001b[39m\u001b[38;5;124m'\u001b[39m)\n",
      "\u001b[1;31mNameError\u001b[0m: name 'frint' is not defined"
     ]
    }
   ],
   "source": [
    "print('Modi')\n",
    "print('Siddharth')\n",
    "print('Hello world')\n",
    "frint('Hello')\n",
    "print('congratulation!')"
   ]
  },
  {
   "cell_type": "code",
   "execution_count": 21,
   "id": "8049f4d6-f444-43a2-9fae-cd6c99412adb",
   "metadata": {},
   "outputs": [
    {
     "name": "stdout",
     "output_type": "stream",
     "text": [
      "What's your name?\n"
     ]
    }
   ],
   "source": [
    "# ''  \"\"\n",
    "\n",
    "print(\"What's your name?\")"
   ]
  },
  {
   "cell_type": "code",
   "execution_count": 22,
   "id": "4baa750b-f666-45a9-bcd3-082edc572cfc",
   "metadata": {},
   "outputs": [
    {
     "name": "stdout",
     "output_type": "stream",
     "text": [
      "What\"s your name?\n"
     ]
    }
   ],
   "source": [
    "print('What\"s your name?')"
   ]
  },
  {
   "cell_type": "code",
   "execution_count": 24,
   "id": "24a44412-9e10-44bb-a51a-8daf359debb0",
   "metadata": {},
   "outputs": [
    {
     "name": "stdout",
     "output_type": "stream",
     "text": [
      "cat\n"
     ]
    }
   ],
   "source": [
    "print('cat')"
   ]
  },
  {
   "cell_type": "code",
   "execution_count": 25,
   "id": "75ca478c-46a1-440c-888c-d2a1b6a46352",
   "metadata": {},
   "outputs": [
    {
     "data": {
      "text/plain": [
       "11"
      ]
     },
     "execution_count": 25,
     "metadata": {},
     "output_type": "execute_result"
    }
   ],
   "source": [
    "5+6"
   ]
  },
  {
   "cell_type": "code",
   "execution_count": 26,
   "id": "55cf0c4b-1bd2-46d4-8808-6254a569f679",
   "metadata": {},
   "outputs": [
    {
     "name": "stdout",
     "output_type": "stream",
     "text": [
      "BODMAS\n"
     ]
    }
   ],
   "source": [
    "print(\"BODMAS\")"
   ]
  },
  {
   "cell_type": "code",
   "execution_count": 1,
   "id": "66230425-e7aa-403d-bb56-f7330cc1ed26",
   "metadata": {},
   "outputs": [
    {
     "data": {
      "text/plain": [
       "83"
      ]
     },
     "execution_count": 1,
     "metadata": {},
     "output_type": "execute_result"
    }
   ],
   "source": [
    "78*2-98+25"
   ]
  },
  {
   "cell_type": "code",
   "execution_count": null,
   "id": "9b2a40fc-95f4-4ff7-8f17-b67f41cffef8",
   "metadata": {},
   "outputs": [],
   "source": []
  },
  {
   "cell_type": "code",
   "execution_count": 2,
   "id": "eb0720e2-6293-4381-b9b4-a5e3c9e76bd3",
   "metadata": {},
   "outputs": [
    {
     "data": {
      "text/plain": [
       "83"
      ]
     },
     "execution_count": 2,
     "metadata": {},
     "output_type": "execute_result"
    }
   ],
   "source": [
    "78*2-98+25"
   ]
  },
  {
   "cell_type": "markdown",
   "id": "b7316668-5c4b-4209-97d8-a02ea41a14dd",
   "metadata": {},
   "source": [
    "# Python basic"
   ]
  },
  {
   "cell_type": "code",
   "execution_count": 10,
   "id": "72b75f2d-a826-46ba-ada9-054544b9765e",
   "metadata": {},
   "outputs": [],
   "source": [
    "# Comment line"
   ]
  },
  {
   "cell_type": "code",
   "execution_count": 8,
   "id": "bf1f4714-187b-41e3-8bbc-ef79f236df11",
   "metadata": {},
   "outputs": [
    {
     "name": "stdout",
     "output_type": "stream",
     "text": [
      "Prafulla\n"
     ]
    }
   ],
   "source": [
    "print('Prafulla')"
   ]
  },
  {
   "cell_type": "code",
   "execution_count": 12,
   "id": "2db7d6f8-0f6a-4ad3-854d-66b806854dfe",
   "metadata": {},
   "outputs": [
    {
     "name": "stdout",
     "output_type": "stream",
     "text": [
      "Prafulla\n"
     ]
    }
   ],
   "source": [
    "# print is a keyword which display the output.\n",
    "print(\"Prafulla\")"
   ]
  },
  {
   "cell_type": "code",
   "execution_count": 13,
   "id": "b6a4878b-34f2-442c-8594-67db3a2c145b",
   "metadata": {},
   "outputs": [],
   "source": [
    "# ''   <- single quotes\n",
    "# \"\"   <- double quotes\n",
    "# \"\"\" \"\"\"  <-triple double quotes.\n",
    "# ''' ''' <- triple sing quotes.  f-string function"
   ]
  },
  {
   "cell_type": "code",
   "execution_count": 15,
   "id": "0815cabb-4297-4c66-9796-cac928027cea",
   "metadata": {},
   "outputs": [
    {
     "name": "stdout",
     "output_type": "stream",
     "text": [
      "Prafulla\n",
      "Prafulla\n"
     ]
    }
   ],
   "source": [
    "print('Prafulla')\n",
    "print(\"Prafulla\")"
   ]
  },
  {
   "cell_type": "code",
   "execution_count": 18,
   "id": "0160f9ae-a89d-4802-99a0-1381fdd359fc",
   "metadata": {},
   "outputs": [
    {
     "name": "stdout",
     "output_type": "stream",
     "text": [
      "What's your name?\n"
     ]
    }
   ],
   "source": [
    "print(\"What's your name?\")\n",
    "\n",
    "#' <--------- Open single quote || close single quote.------------>' \n"
   ]
  },
  {
   "cell_type": "code",
   "execution_count": 19,
   "id": "10e3687b-442a-476e-ab18-2083bceb368a",
   "metadata": {},
   "outputs": [
    {
     "name": "stdout",
     "output_type": "stream",
     "text": [
      "What\"s your name\n"
     ]
    }
   ],
   "source": [
    "print('What\"s your name')   # right"
   ]
  },
  {
   "cell_type": "code",
   "execution_count": 34,
   "id": "68d890fe-7d41-4401-b09b-467922c0e1ee",
   "metadata": {},
   "outputs": [
    {
     "name": "stdout",
     "output_type": "stream",
     "text": [
      "10\n"
     ]
    }
   ],
   "source": [
    "print(10)  # numeric"
   ]
  },
  {
   "cell_type": "code",
   "execution_count": 35,
   "id": "75a8644c-f7b6-44d2-974a-6352a480fb85",
   "metadata": {},
   "outputs": [
    {
     "ename": "NameError",
     "evalue": "name 'prafulla' is not defined",
     "output_type": "error",
     "traceback": [
      "\u001b[1;31m---------------------------------------------------------------------------\u001b[0m",
      "\u001b[1;31mNameError\u001b[0m                                 Traceback (most recent call last)",
      "Cell \u001b[1;32mIn[35], line 1\u001b[0m\n\u001b[1;32m----> 1\u001b[0m \u001b[38;5;28mprint\u001b[39m(\u001b[43mprafulla\u001b[49m)\n",
      "\u001b[1;31mNameError\u001b[0m: name 'prafulla' is not defined"
     ]
    }
   ],
   "source": [
    "print(prafulla)"
   ]
  },
  {
   "cell_type": "code",
   "execution_count": 36,
   "id": "a237c54a-7315-4388-8110-e1e9e114807b",
   "metadata": {},
   "outputs": [
    {
     "name": "stdout",
     "output_type": "stream",
     "text": [
      "10\n"
     ]
    }
   ],
   "source": [
    "print(\"10\")"
   ]
  },
  {
   "cell_type": "code",
   "execution_count": 37,
   "id": "54855ef1-359e-44a1-91a9-44b5a978d716",
   "metadata": {},
   "outputs": [
    {
     "name": "stdout",
     "output_type": "stream",
     "text": [
      "10\n"
     ]
    }
   ],
   "source": [
    "print(10)"
   ]
  },
  {
   "cell_type": "code",
   "execution_count": 38,
   "id": "10407729-aa7e-4f6c-964c-f14027a486a6",
   "metadata": {},
   "outputs": [
    {
     "ename": "NameError",
     "evalue": "name 'a' is not defined",
     "output_type": "error",
     "traceback": [
      "\u001b[1;31m---------------------------------------------------------------------------\u001b[0m",
      "\u001b[1;31mNameError\u001b[0m                                 Traceback (most recent call last)",
      "Cell \u001b[1;32mIn[38], line 1\u001b[0m\n\u001b[1;32m----> 1\u001b[0m \u001b[38;5;28mprint\u001b[39m(\u001b[43ma\u001b[49m)\n",
      "\u001b[1;31mNameError\u001b[0m: name 'a' is not defined"
     ]
    }
   ],
   "source": [
    "print(a)"
   ]
  },
  {
   "cell_type": "code",
   "execution_count": 40,
   "id": "d07fbd07-e8e8-45fa-bca2-cbb93d1a0740",
   "metadata": {},
   "outputs": [
    {
     "name": "stdout",
     "output_type": "stream",
     "text": [
      "a\n"
     ]
    }
   ],
   "source": [
    "print(\"a\")"
   ]
  },
  {
   "cell_type": "code",
   "execution_count": 41,
   "id": "f399dd33-003b-41f9-b820-d5754c6a454d",
   "metadata": {},
   "outputs": [
    {
     "name": "stdout",
     "output_type": "stream",
     "text": [
      "a+10\n"
     ]
    }
   ],
   "source": [
    "print('a+10')"
   ]
  },
  {
   "cell_type": "code",
   "execution_count": 42,
   "id": "6e4bfbfe-9683-45bf-bc3c-8b84fd2a1cf0",
   "metadata": {},
   "outputs": [
    {
     "name": "stdout",
     "output_type": "stream",
     "text": [
      "10+10\n"
     ]
    }
   ],
   "source": [
    "print(\"10+10\")"
   ]
  },
  {
   "cell_type": "code",
   "execution_count": 43,
   "id": "61ae8f16-ff69-483e-8b27-4b8e317362bf",
   "metadata": {},
   "outputs": [
    {
     "name": "stdout",
     "output_type": "stream",
     "text": [
      "20\n"
     ]
    }
   ],
   "source": [
    "print(10+10)"
   ]
  },
  {
   "cell_type": "code",
   "execution_count": 44,
   "id": "9b686da0-5070-43bb-96eb-31571684874b",
   "metadata": {},
   "outputs": [],
   "source": [
    "import sys"
   ]
  },
  {
   "cell_type": "code",
   "execution_count": 46,
   "id": "297aaed1-b6f2-4c6a-9d73-befd1bba0c68",
   "metadata": {},
   "outputs": [
    {
     "name": "stdout",
     "output_type": "stream",
     "text": [
      "3.12.2 (tags/v3.12.2:6abddd9, Feb  6 2024, 21:26:36) [MSC v.1937 64 bit (AMD64)]\n"
     ]
    }
   ],
   "source": [
    "print(sys.version)"
   ]
  },
  {
   "cell_type": "code",
   "execution_count": null,
   "id": "b5faac3f-d51a-458d-9cc2-e9e8147c7d22",
   "metadata": {},
   "outputs": [],
   "source": [
    "# Data types of python"
   ]
  }
 ],
 "metadata": {
  "kernelspec": {
   "display_name": "Python 3 (ipykernel)",
   "language": "python",
   "name": "python3"
  },
  "language_info": {
   "codemirror_mode": {
    "name": "ipython",
    "version": 3
   },
   "file_extension": ".py",
   "mimetype": "text/x-python",
   "name": "python",
   "nbconvert_exporter": "python",
   "pygments_lexer": "ipython3",
   "version": "3.12.2"
  }
 },
 "nbformat": 4,
 "nbformat_minor": 5
}
