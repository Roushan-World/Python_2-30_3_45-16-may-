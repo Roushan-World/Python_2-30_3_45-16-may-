{
 "cells": [
  {
   "cell_type": "markdown",
   "id": "9189b7f2-b975-4b77-aca2-ff69e2540070",
   "metadata": {},
   "source": [
    "# 1. Python Basic"
   ]
  },
  {
   "cell_type": "code",
   "execution_count": 11,
   "id": "68f30769-390d-4c4a-89b9-709e9dfa01c4",
   "metadata": {},
   "outputs": [
    {
     "name": "stdout",
     "output_type": "stream",
     "text": [
      "Modi\n"
     ]
    }
   ],
   "source": [
    "print(\"Modi\")     #print-->> display the output"
   ]
  },
  {
   "cell_type": "code",
   "execution_count": 3,
   "id": "5ba6d548-82a6-435a-9132-2d555228859c",
   "metadata": {},
   "outputs": [
    {
     "name": "stdout",
     "output_type": "stream",
     "text": [
      "a\n"
     ]
    }
   ],
   "source": [
    "# quotes  1. ''  2. \"\"   3. ''''''   4. \"\"\"\"\"\"\n",
    "\n",
    "# string--> combindation of alphabetical words.\n",
    "\n",
    "print('a')"
   ]
  },
  {
   "cell_type": "code",
   "execution_count": 4,
   "id": "63c96c4f-2ce6-4f7d-9252-948fb2f1304f",
   "metadata": {},
   "outputs": [
    {
     "name": "stdout",
     "output_type": "stream",
     "text": [
      "a\n"
     ]
    }
   ],
   "source": [
    "print(\"a\")"
   ]
  },
  {
   "cell_type": "code",
   "execution_count": 5,
   "id": "6a3b148b-4fde-4eb9-b62a-d296cb21bdaf",
   "metadata": {},
   "outputs": [
    {
     "ename": "NameError",
     "evalue": "name 'a' is not defined",
     "output_type": "error",
     "traceback": [
      "\u001b[1;31m---------------------------------------------------------------------------\u001b[0m",
      "\u001b[1;31mNameError\u001b[0m                                 Traceback (most recent call last)",
      "Cell \u001b[1;32mIn[5], line 1\u001b[0m\n\u001b[1;32m----> 1\u001b[0m \u001b[38;5;28mprint\u001b[39m(\u001b[43ma\u001b[49m)\n",
      "\u001b[1;31mNameError\u001b[0m: name 'a' is not defined"
     ]
    }
   ],
   "source": [
    "print(a)"
   ]
  },
  {
   "cell_type": "code",
   "execution_count": 9,
   "id": "2e82b2b1-5984-4d91-b339-b925e79c7b52",
   "metadata": {},
   "outputs": [
    {
     "name": "stdout",
     "output_type": "stream",
     "text": [
      "siddharth\n"
     ]
    }
   ],
   "source": [
    "print('siddharth')"
   ]
  },
  {
   "cell_type": "code",
   "execution_count": 10,
   "id": "ec78bfda-a361-4be7-a2ac-d541d267c37f",
   "metadata": {},
   "outputs": [
    {
     "name": "stdout",
     "output_type": "stream",
     "text": [
      "Siddharth\n"
     ]
    }
   ],
   "source": [
    "print(\"Siddharth\")"
   ]
  },
  {
   "cell_type": "code",
   "execution_count": 15,
   "id": "46ba00a3-6019-48e4-a9ed-3c2a723dc182",
   "metadata": {},
   "outputs": [
    {
     "name": "stdout",
     "output_type": "stream",
     "text": [
      "Modi\n",
      "Siddharth\n",
      "Hello world\n"
     ]
    },
    {
     "ename": "NameError",
     "evalue": "name 'frint' is not defined",
     "output_type": "error",
     "traceback": [
      "\u001b[1;31m---------------------------------------------------------------------------\u001b[0m",
      "\u001b[1;31mNameError\u001b[0m                                 Traceback (most recent call last)",
      "Cell \u001b[1;32mIn[15], line 4\u001b[0m\n\u001b[0;32m      2\u001b[0m \u001b[38;5;28mprint\u001b[39m(\u001b[38;5;124m'\u001b[39m\u001b[38;5;124mSiddharth\u001b[39m\u001b[38;5;124m'\u001b[39m)\n\u001b[0;32m      3\u001b[0m \u001b[38;5;28mprint\u001b[39m(\u001b[38;5;124m'\u001b[39m\u001b[38;5;124mHello world\u001b[39m\u001b[38;5;124m'\u001b[39m)\n\u001b[1;32m----> 4\u001b[0m \u001b[43mfrint\u001b[49m(\u001b[38;5;124m'\u001b[39m\u001b[38;5;124mHello\u001b[39m\u001b[38;5;124m'\u001b[39m)\n\u001b[0;32m      5\u001b[0m \u001b[38;5;28mprint\u001b[39m(\u001b[38;5;124m'\u001b[39m\u001b[38;5;124mcongratulation!\u001b[39m\u001b[38;5;124m'\u001b[39m)\n",
      "\u001b[1;31mNameError\u001b[0m: name 'frint' is not defined"
     ]
    }
   ],
   "source": [
    "print('Modi')\n",
    "print('Siddharth')\n",
    "print('Hello world')\n",
    "frint('Hello')\n",
    "print('congratulation!')"
   ]
  },
  {
   "cell_type": "code",
   "execution_count": 21,
   "id": "8049f4d6-f444-43a2-9fae-cd6c99412adb",
   "metadata": {},
   "outputs": [
    {
     "name": "stdout",
     "output_type": "stream",
     "text": [
      "What's your name?\n"
     ]
    }
   ],
   "source": [
    "# ''  \"\"\n",
    "\n",
    "print(\"What's your name?\")"
   ]
  },
  {
   "cell_type": "code",
   "execution_count": 22,
   "id": "4baa750b-f666-45a9-bcd3-082edc572cfc",
   "metadata": {},
   "outputs": [
    {
     "name": "stdout",
     "output_type": "stream",
     "text": [
      "What\"s your name?\n"
     ]
    }
   ],
   "source": [
    "print('What\"s your name?')"
   ]
  },
  {
   "cell_type": "code",
   "execution_count": 24,
   "id": "24a44412-9e10-44bb-a51a-8daf359debb0",
   "metadata": {},
   "outputs": [
    {
     "name": "stdout",
     "output_type": "stream",
     "text": [
      "cat\n"
     ]
    }
   ],
   "source": [
    "print('cat')"
   ]
  },
  {
   "cell_type": "code",
   "execution_count": 25,
   "id": "75ca478c-46a1-440c-888c-d2a1b6a46352",
   "metadata": {},
   "outputs": [
    {
     "data": {
      "text/plain": [
       "11"
      ]
     },
     "execution_count": 25,
     "metadata": {},
     "output_type": "execute_result"
    }
   ],
   "source": [
    "5+6"
   ]
  },
  {
   "cell_type": "code",
   "execution_count": 26,
   "id": "55cf0c4b-1bd2-46d4-8808-6254a569f679",
   "metadata": {},
   "outputs": [
    {
     "name": "stdout",
     "output_type": "stream",
     "text": [
      "BODMAS\n"
     ]
    }
   ],
   "source": [
    "print(\"BODMAS\")"
   ]
  },
  {
   "cell_type": "code",
   "execution_count": 1,
   "id": "66230425-e7aa-403d-bb56-f7330cc1ed26",
   "metadata": {},
   "outputs": [
    {
     "data": {
      "text/plain": [
       "83"
      ]
     },
     "execution_count": 1,
     "metadata": {},
     "output_type": "execute_result"
    }
   ],
   "source": [
    "78*2-98+25"
   ]
  },
  {
   "cell_type": "code",
   "execution_count": null,
   "id": "9b2a40fc-95f4-4ff7-8f17-b67f41cffef8",
   "metadata": {},
   "outputs": [],
   "source": []
  },
  {
   "cell_type": "code",
   "execution_count": 2,
   "id": "eb0720e2-6293-4381-b9b4-a5e3c9e76bd3",
   "metadata": {},
   "outputs": [
    {
     "data": {
      "text/plain": [
       "83"
      ]
     },
     "execution_count": 2,
     "metadata": {},
     "output_type": "execute_result"
    }
   ],
   "source": [
    "78*2-98+25"
   ]
  },
  {
   "cell_type": "markdown",
   "id": "b7316668-5c4b-4209-97d8-a02ea41a14dd",
   "metadata": {},
   "source": [
    "# Python basic"
   ]
  },
  {
   "cell_type": "code",
   "execution_count": 10,
   "id": "72b75f2d-a826-46ba-ada9-054544b9765e",
   "metadata": {},
   "outputs": [],
   "source": [
    "# Comment line"
   ]
  },
  {
   "cell_type": "code",
   "execution_count": 8,
   "id": "bf1f4714-187b-41e3-8bbc-ef79f236df11",
   "metadata": {},
   "outputs": [
    {
     "name": "stdout",
     "output_type": "stream",
     "text": [
      "Prafulla\n"
     ]
    }
   ],
   "source": [
    "print('Prafulla')"
   ]
  },
  {
   "cell_type": "code",
   "execution_count": 12,
   "id": "2db7d6f8-0f6a-4ad3-854d-66b806854dfe",
   "metadata": {},
   "outputs": [
    {
     "name": "stdout",
     "output_type": "stream",
     "text": [
      "Prafulla\n"
     ]
    }
   ],
   "source": [
    "# print is a keyword which display the output.\n",
    "print(\"Prafulla\")"
   ]
  },
  {
   "cell_type": "code",
   "execution_count": 13,
   "id": "b6a4878b-34f2-442c-8594-67db3a2c145b",
   "metadata": {},
   "outputs": [],
   "source": [
    "# ''   <- single quotes\n",
    "# \"\"   <- double quotes\n",
    "# \"\"\" \"\"\"  <-triple double quotes.\n",
    "# ''' ''' <- triple sing quotes.  f-string function"
   ]
  },
  {
   "cell_type": "code",
   "execution_count": 15,
   "id": "0815cabb-4297-4c66-9796-cac928027cea",
   "metadata": {},
   "outputs": [
    {
     "name": "stdout",
     "output_type": "stream",
     "text": [
      "Prafulla\n",
      "Prafulla\n"
     ]
    }
   ],
   "source": [
    "print('Prafulla')\n",
    "print(\"Prafulla\")"
   ]
  },
  {
   "cell_type": "code",
   "execution_count": 18,
   "id": "0160f9ae-a89d-4802-99a0-1381fdd359fc",
   "metadata": {},
   "outputs": [
    {
     "name": "stdout",
     "output_type": "stream",
     "text": [
      "What's your name?\n"
     ]
    }
   ],
   "source": [
    "print(\"What's your name?\")\n",
    "\n",
    "#' <--------- Open single quote || close single quote.------------>' \n"
   ]
  },
  {
   "cell_type": "code",
   "execution_count": 19,
   "id": "10e3687b-442a-476e-ab18-2083bceb368a",
   "metadata": {},
   "outputs": [
    {
     "name": "stdout",
     "output_type": "stream",
     "text": [
      "What\"s your name\n"
     ]
    }
   ],
   "source": [
    "print('What\"s your name')   # right"
   ]
  },
  {
   "cell_type": "code",
   "execution_count": 34,
   "id": "68d890fe-7d41-4401-b09b-467922c0e1ee",
   "metadata": {},
   "outputs": [
    {
     "name": "stdout",
     "output_type": "stream",
     "text": [
      "10\n"
     ]
    }
   ],
   "source": [
    "print(10)  # numeric"
   ]
  },
  {
   "cell_type": "code",
   "execution_count": 35,
   "id": "75a8644c-f7b6-44d2-974a-6352a480fb85",
   "metadata": {},
   "outputs": [
    {
     "ename": "NameError",
     "evalue": "name 'prafulla' is not defined",
     "output_type": "error",
     "traceback": [
      "\u001b[1;31m---------------------------------------------------------------------------\u001b[0m",
      "\u001b[1;31mNameError\u001b[0m                                 Traceback (most recent call last)",
      "Cell \u001b[1;32mIn[35], line 1\u001b[0m\n\u001b[1;32m----> 1\u001b[0m \u001b[38;5;28mprint\u001b[39m(\u001b[43mprafulla\u001b[49m)\n",
      "\u001b[1;31mNameError\u001b[0m: name 'prafulla' is not defined"
     ]
    }
   ],
   "source": [
    "print(prafulla)"
   ]
  },
  {
   "cell_type": "code",
   "execution_count": 36,
   "id": "a237c54a-7315-4388-8110-e1e9e114807b",
   "metadata": {},
   "outputs": [
    {
     "name": "stdout",
     "output_type": "stream",
     "text": [
      "10\n"
     ]
    }
   ],
   "source": [
    "print(\"10\")"
   ]
  },
  {
   "cell_type": "code",
   "execution_count": 37,
   "id": "54855ef1-359e-44a1-91a9-44b5a978d716",
   "metadata": {},
   "outputs": [
    {
     "name": "stdout",
     "output_type": "stream",
     "text": [
      "10\n"
     ]
    }
   ],
   "source": [
    "print(10)"
   ]
  },
  {
   "cell_type": "code",
   "execution_count": 38,
   "id": "10407729-aa7e-4f6c-964c-f14027a486a6",
   "metadata": {},
   "outputs": [
    {
     "ename": "NameError",
     "evalue": "name 'a' is not defined",
     "output_type": "error",
     "traceback": [
      "\u001b[1;31m---------------------------------------------------------------------------\u001b[0m",
      "\u001b[1;31mNameError\u001b[0m                                 Traceback (most recent call last)",
      "Cell \u001b[1;32mIn[38], line 1\u001b[0m\n\u001b[1;32m----> 1\u001b[0m \u001b[38;5;28mprint\u001b[39m(\u001b[43ma\u001b[49m)\n",
      "\u001b[1;31mNameError\u001b[0m: name 'a' is not defined"
     ]
    }
   ],
   "source": [
    "print(a)"
   ]
  },
  {
   "cell_type": "code",
   "execution_count": 40,
   "id": "d07fbd07-e8e8-45fa-bca2-cbb93d1a0740",
   "metadata": {},
   "outputs": [
    {
     "name": "stdout",
     "output_type": "stream",
     "text": [
      "a\n"
     ]
    }
   ],
   "source": [
    "print(\"a\")"
   ]
  },
  {
   "cell_type": "code",
   "execution_count": 41,
   "id": "f399dd33-003b-41f9-b820-d5754c6a454d",
   "metadata": {},
   "outputs": [
    {
     "name": "stdout",
     "output_type": "stream",
     "text": [
      "a+10\n"
     ]
    }
   ],
   "source": [
    "print('a+10')"
   ]
  },
  {
   "cell_type": "code",
   "execution_count": 42,
   "id": "6e4bfbfe-9683-45bf-bc3c-8b84fd2a1cf0",
   "metadata": {},
   "outputs": [
    {
     "name": "stdout",
     "output_type": "stream",
     "text": [
      "10+10\n"
     ]
    }
   ],
   "source": [
    "print(\"10+10\")"
   ]
  },
  {
   "cell_type": "code",
   "execution_count": 43,
   "id": "61ae8f16-ff69-483e-8b27-4b8e317362bf",
   "metadata": {},
   "outputs": [
    {
     "name": "stdout",
     "output_type": "stream",
     "text": [
      "20\n"
     ]
    }
   ],
   "source": [
    "print(10+10)"
   ]
  },
  {
   "cell_type": "code",
   "execution_count": 44,
   "id": "9b686da0-5070-43bb-96eb-31571684874b",
   "metadata": {},
   "outputs": [],
   "source": [
    "import sys"
   ]
  },
  {
   "cell_type": "code",
   "execution_count": 46,
   "id": "297aaed1-b6f2-4c6a-9d73-befd1bba0c68",
   "metadata": {},
   "outputs": [
    {
     "name": "stdout",
     "output_type": "stream",
     "text": [
      "3.12.2 (tags/v3.12.2:6abddd9, Feb  6 2024, 21:26:36) [MSC v.1937 64 bit (AMD64)]\n"
     ]
    }
   ],
   "source": [
    "print(sys.version)"
   ]
  },
  {
   "cell_type": "code",
   "execution_count": 9,
   "id": "b5faac3f-d51a-458d-9cc2-e9e8147c7d22",
   "metadata": {},
   "outputs": [
    {
     "name": "stdout",
     "output_type": "stream",
     "text": [
      "Hello world\n",
      "Hello world\n",
      "100\n",
      "100.23\n",
      "True\n",
      "False\n",
      "-------------------------------------------------\n",
      "100\n",
      "78\n",
      "79\n",
      "-------------------------------------------------\n",
      "123.02\n",
      "100.23\n",
      "100.0\n",
      "45.26\n",
      "1.0\n",
      "-------------------------------------------------\n",
      "True\n",
      "False\n"
     ]
    }
   ],
   "source": [
    "# Data types of python\n",
    "\n",
    "# Sequence   1.String, 2.List, 3.Tuples   [4.set and 5. Dictionary]\n",
    "print('Hello world')\n",
    "print(\"Hello world\")\n",
    "print(\"100\")\n",
    "print(\"100.23\")\n",
    "print(\"True\")\n",
    "print('False')\n",
    "\n",
    "\n",
    "#Number [integer,float]\n",
    "\n",
    "#1.Integer\n",
    "print('-------------------------------------------------')\n",
    "print(100)\n",
    "print(78)\n",
    "print(79)\n",
    "\n",
    "print('-------------------------------------------------')\n",
    "#2.float It contains a decimal value\n",
    "print(123.02)\n",
    "print(100.23)\n",
    "print(100.00)\n",
    "print(45.26)\n",
    "print(1.0)\n",
    "print('-------------------------------------------------')\n",
    "#Boolean\n",
    "print(True)\n",
    "print(False)\n"
   ]
  },
  {
   "cell_type": "code",
   "execution_count": 10,
   "id": "21a9671f-39dc-4f4f-b371-786e6f8b1abc",
   "metadata": {},
   "outputs": [],
   "source": [
    "# Data typecasting\n",
    "# variable and expression"
   ]
  },
  {
   "cell_type": "code",
   "execution_count": 11,
   "id": "a1430dc9-6f5f-43af-8d30-7230156f5882",
   "metadata": {},
   "outputs": [
    {
     "name": "stdout",
     "output_type": "stream",
     "text": [
      "10\n"
     ]
    }
   ],
   "source": [
    "# variable: Those number which has not fixed value.\n",
    "# constant: those number which as fixed value: Ex:- \n",
    "\n",
    "x=10\n",
    "print(x)"
   ]
  },
  {
   "cell_type": "code",
   "execution_count": 13,
   "id": "903ad9c0-6175-492c-aca0-8ae148f09f0b",
   "metadata": {},
   "outputs": [
    {
     "name": "stdout",
     "output_type": "stream",
     "text": [
      "string\n"
     ]
    }
   ],
   "source": [
    "x=\"string\"\n",
    "print(x)"
   ]
  },
  {
   "cell_type": "code",
   "execution_count": 14,
   "id": "f4682315-ef07-4bf2-ad8b-a57a8191b0c5",
   "metadata": {},
   "outputs": [
    {
     "name": "stdout",
     "output_type": "stream",
     "text": [
      "1.23\n"
     ]
    }
   ],
   "source": [
    "x=1.23\n",
    "print(x)"
   ]
  },
  {
   "cell_type": "code",
   "execution_count": 15,
   "id": "57c8cae0-c698-4686-aaea-9b8f39806dfd",
   "metadata": {},
   "outputs": [
    {
     "name": "stdout",
     "output_type": "stream",
     "text": [
      "True\n"
     ]
    }
   ],
   "source": [
    "x=True\n",
    "print(x)"
   ]
  },
  {
   "cell_type": "code",
   "execution_count": 17,
   "id": "6b089a49-1479-4c63-89a2-36d7080274df",
   "metadata": {},
   "outputs": [
    {
     "name": "stdout",
     "output_type": "stream",
     "text": [
      "False\n"
     ]
    }
   ],
   "source": [
    "a=False\n",
    "print(a)"
   ]
  },
  {
   "cell_type": "code",
   "execution_count": 20,
   "id": "8c3bbf0f-7f3d-4bb1-b396-4d4632f43de7",
   "metadata": {},
   "outputs": [],
   "source": [
    "y=10"
   ]
  },
  {
   "cell_type": "code",
   "execution_count": 21,
   "id": "fa87f04a-089f-48b2-ba9a-70b2e246f2f4",
   "metadata": {},
   "outputs": [
    {
     "data": {
      "text/plain": [
       "10"
      ]
     },
     "execution_count": 21,
     "metadata": {},
     "output_type": "execute_result"
    }
   ],
   "source": [
    "y"
   ]
  },
  {
   "cell_type": "code",
   "execution_count": 22,
   "id": "5b288377-18dc-46e8-9d9a-a1dc43b7db73",
   "metadata": {},
   "outputs": [
    {
     "data": {
      "text/plain": [
       "10"
      ]
     },
     "execution_count": 22,
     "metadata": {},
     "output_type": "execute_result"
    }
   ],
   "source": [
    "y"
   ]
  },
  {
   "cell_type": "code",
   "execution_count": 23,
   "id": "8e1d2ac9-25bf-4a87-a481-979bb4a00fc6",
   "metadata": {},
   "outputs": [
    {
     "data": {
      "text/plain": [
       "10"
      ]
     },
     "execution_count": 23,
     "metadata": {},
     "output_type": "execute_result"
    }
   ],
   "source": [
    "y"
   ]
  },
  {
   "cell_type": "code",
   "execution_count": 24,
   "id": "4cb0e063-cfe1-4563-ad4f-10f57b3511a2",
   "metadata": {},
   "outputs": [
    {
     "data": {
      "text/plain": [
       "10"
      ]
     },
     "execution_count": 24,
     "metadata": {},
     "output_type": "execute_result"
    }
   ],
   "source": [
    "y"
   ]
  },
  {
   "cell_type": "code",
   "execution_count": 27,
   "id": "801398e3-631c-4c96-94c0-e1af63a90210",
   "metadata": {},
   "outputs": [
    {
     "name": "stdout",
     "output_type": "stream",
     "text": [
      "<class 'str'>\n",
      "10\n"
     ]
    }
   ],
   "source": [
    "x=\"Hello world\"\n",
    "print(type(x))\n",
    "# string\n",
    "print('10')\n",
    "# integer\n",
    "\n",
    "#float\n"
   ]
  },
  {
   "cell_type": "code",
   "execution_count": 34,
   "id": "f5feb128-c1c0-446b-8879-1dd72781c6d6",
   "metadata": {},
   "outputs": [
    {
     "name": "stdout",
     "output_type": "stream",
     "text": [
      "Hello world\n",
      "<class 'str'>\n",
      "Hello world\n",
      "100\n",
      "<class 'str'>\n",
      "100.23\n",
      "<class 'str'>\n",
      "True\n",
      "False\n",
      "-------------------------------------------------\n",
      "100\n",
      "<class 'int'>\n",
      "78\n",
      "79\n",
      "-------------------------------------------------\n",
      "123.02\n",
      "<class 'float'>\n",
      "100.23\n",
      "100.0\n",
      "45.26\n",
      "1.0\n",
      "-------------------------------------------------\n",
      "True\n",
      "<class 'bool'>\n",
      "False\n"
     ]
    }
   ],
   "source": [
    "# Data types of python\n",
    "\n",
    "# Sequence   1.String, 2.List, 3.Tuples   [4.set and 5. Dictionary]\n",
    "print('Hello world')\n",
    "print(type('Hello world'))\n",
    "print(\"Hello world\")\n",
    "print(\"100\")\n",
    "print(type(\"100\"))\n",
    "print(\"100.23\")\n",
    "print(type(\"100.23\"))\n",
    "print(\"True\")\n",
    "print('False')\n",
    "\n",
    "\n",
    "#Number [integer,float]\n",
    "\n",
    "#1.Integer\n",
    "print('-------------------------------------------------')\n",
    "print(100)\n",
    "print(type(100))\n",
    "print(78)\n",
    "print(79)\n",
    "\n",
    "print('-------------------------------------------------')\n",
    "#2.float It contains a decimal value\n",
    "print(123.02)\n",
    "print(type(123.02))\n",
    "print(100.23)\n",
    "print(100.00)\n",
    "print(45.26)\n",
    "print(1.0)\n",
    "print('-------------------------------------------------')\n",
    "#Boolean\n",
    "print(True)\n",
    "print(type(True))\n",
    "print(False)\n"
   ]
  },
  {
   "cell_type": "code",
   "execution_count": 37,
   "id": "4fdbe5da-26dc-4267-8ce5-5ba259ef04b9",
   "metadata": {},
   "outputs": [
    {
     "name": "stdout",
     "output_type": "stream",
     "text": [
      "10\n",
      "<class 'int'>\n",
      "10\n",
      "<class 'str'>\n",
      "10.0\n",
      "<class 'float'>\n"
     ]
    }
   ],
   "source": [
    "# data typecasting\n",
    "\n",
    "x=10\n",
    "print(x)\n",
    "print(type(x))\n",
    "\n",
    "#string\n",
    "print(str(x))\n",
    "print(type(str(x)))\n",
    "\n",
    "\n",
    "#floata\n",
    "\n",
    "print(float(x))\n",
    "print(type(float(x)))"
   ]
  },
  {
   "cell_type": "code",
   "execution_count": 38,
   "id": "1f8a5ea8-fdc8-44b6-8b4e-eee2876e809b",
   "metadata": {},
   "outputs": [
    {
     "name": "stdout",
     "output_type": "stream",
     "text": [
      "10.23\n",
      "<class 'float'>\n"
     ]
    }
   ],
   "source": [
    "y=10.23\n",
    "print(y)\n",
    "print(type(y))\n",
    "# string\n",
    "\n",
    "\n",
    "#integer\n",
    "\n"
   ]
  },
  {
   "cell_type": "code",
   "execution_count": 43,
   "id": "541ad98f-2bb9-4f70-8ebe-f3c6c529f8d7",
   "metadata": {},
   "outputs": [
    {
     "name": "stdout",
     "output_type": "stream",
     "text": [
      "True\n",
      "<class 'bool'>\n",
      "True\n",
      "<class 'str'>\n",
      "1\n",
      "<class 'int'>\n",
      "1.0\n",
      "<class 'float'>\n"
     ]
    }
   ],
   "source": [
    "bool_1=True\n",
    "\n",
    "print(bool_1)\n",
    "print(type(bool_1))\n",
    "\n",
    "\n",
    "# string\n",
    "print(str(bool_1))\n",
    "print(type(str(bool_1)))\n",
    "\n",
    "# integer\n",
    "print(int(bool_1))\n",
    "print(type(int(bool_1)))\n",
    "\n",
    "# float\n",
    "print(float(bool_1))\n",
    "print(type(float(bool_1)))\n"
   ]
  },
  {
   "cell_type": "code",
   "execution_count": 44,
   "id": "85b54386-c3f6-4ef6-9896-9bcf8cf05fda",
   "metadata": {},
   "outputs": [],
   "source": [
    "bool_2=False\n"
   ]
  },
  {
   "cell_type": "markdown",
   "id": "16b99d86-170c-4200-91d1-30b2f44599d3",
   "metadata": {},
   "source": [
    "# Python Operators"
   ]
  },
  {
   "cell_type": "code",
   "execution_count": 45,
   "id": "8646f82c-a473-4f52-8d42-c622691b4443",
   "metadata": {},
   "outputs": [
    {
     "name": "stdout",
     "output_type": "stream",
     "text": [
      "286\n"
     ]
    }
   ],
   "source": [
    "x=56+89+78+63\n",
    "print(x)"
   ]
  },
  {
   "cell_type": "code",
   "execution_count": 46,
   "id": "b5683e2e-3db2-4ab0-8c2c-3626118a741e",
   "metadata": {},
   "outputs": [
    {
     "data": {
      "text/plain": [
       "-144"
      ]
     },
     "execution_count": 46,
     "metadata": {},
     "output_type": "execute_result"
    }
   ],
   "source": [
    "# Substraction\n",
    "\n",
    "y=45-89-100\n",
    "y"
   ]
  },
  {
   "cell_type": "code",
   "execution_count": 47,
   "id": "ee7f328d-dc9a-4fea-bf56-1ba9edf09ce9",
   "metadata": {},
   "outputs": [
    {
     "name": "stdout",
     "output_type": "stream",
     "text": [
      "6084\n"
     ]
    }
   ],
   "source": [
    "# Multiplication\n",
    "\n",
    "y1=78*78\n",
    "\n",
    "print(y1)"
   ]
  },
  {
   "cell_type": "code",
   "execution_count": 49,
   "id": "afc5ad60-7913-483d-820a-c39a57ec6ef8",
   "metadata": {},
   "outputs": [
    {
     "data": {
      "text/plain": [
       "19.5"
      ]
     },
     "execution_count": 49,
     "metadata": {},
     "output_type": "execute_result"
    }
   ],
   "source": [
    "# Division\n",
    "\n",
    "y2=78/4  \n",
    "y2"
   ]
  },
  {
   "cell_type": "code",
   "execution_count": 50,
   "id": "a5e69c55-c8fd-4c52-b587-11740e29d0ce",
   "metadata": {},
   "outputs": [
    {
     "data": {
      "text/plain": [
       "19"
      ]
     },
     "execution_count": 50,
     "metadata": {},
     "output_type": "execute_result"
    }
   ],
   "source": [
    "y3=78//4  # floor\n",
    "y3"
   ]
  },
  {
   "cell_type": "code",
   "execution_count": 51,
   "id": "a3300858-58ca-45cb-bb1d-9cd48a818003",
   "metadata": {},
   "outputs": [
    {
     "data": {
      "text/plain": [
       "0"
      ]
     },
     "execution_count": 51,
     "metadata": {},
     "output_type": "execute_result"
    }
   ],
   "source": [
    "# Modulus\n",
    "\n",
    "x=4%2\n",
    "x"
   ]
  },
  {
   "cell_type": "code",
   "execution_count": 52,
   "id": "14c96c67-3878-436c-8924-77ab6b89381c",
   "metadata": {},
   "outputs": [
    {
     "data": {
      "text/plain": [
       "1"
      ]
     },
     "execution_count": 52,
     "metadata": {},
     "output_type": "execute_result"
    }
   ],
   "source": [
    "x=3%2\n",
    "x"
   ]
  },
  {
   "cell_type": "code",
   "execution_count": 3,
   "id": "0b4c5602-423e-4dd1-a3de-2b083337ab28",
   "metadata": {},
   "outputs": [
    {
     "name": "stdout",
     "output_type": "stream",
     "text": [
      "2400 minutes\n"
     ]
    }
   ],
   "source": [
    "# An Example: Let's calculate how many minutes there are in 40 hrs? solve it using variable and expression\n",
    "one_hour=60  # mint\n",
    "hours=40    # A/q given\n",
    "\n",
    "minutes=one_hour*hours\n",
    "print(minutes ,\"minutes\")"
   ]
  },
  {
   "cell_type": "code",
   "execution_count": 5,
   "id": "4c230451-7bd0-4a47-b3a3-90b4357b8d9f",
   "metadata": {},
   "outputs": [
    {
     "name": "stdin",
     "output_type": "stream",
     "text": [
      "Enter your Hours:  120\n"
     ]
    },
    {
     "name": "stdout",
     "output_type": "stream",
     "text": [
      "7200 minutes\n"
     ]
    }
   ],
   "source": [
    "# An Example: Let's calculate how many minutes there are in 40 hrs? solve it using variable and expression\n",
    "one_hour=60  # mint\n",
    "hours=int(input('Enter your Hours: '))   # A/q given\n",
    "\n",
    "minutes=one_hour*hours\n",
    "print(minutes ,\"minutes\")"
   ]
  },
  {
   "cell_type": "code",
   "execution_count": 7,
   "id": "ea1c6c4d-9e4b-46cc-b083-d7cd806c3592",
   "metadata": {},
   "outputs": [
    {
     "name": "stdout",
     "output_type": "stream",
     "text": [
      "9.133333333333333 hours\n"
     ]
    }
   ],
   "source": [
    "# Calculate how many hours are there in 548 minutes.\n",
    "one_hours= 60  # mint\n",
    "minutes=548   # given\n",
    "\n",
    "hours=minutes/one_hour\n",
    "print(hours,\"hours\")"
   ]
  },
  {
   "cell_type": "code",
   "execution_count": 8,
   "id": "1399cd01-8efc-4fc7-9cc0-7d8c11592673",
   "metadata": {},
   "outputs": [],
   "source": [
    "# How many data types in python\n",
    "\n",
    "# 1. Number  i).Integer,ii).float,ii).Complex\n",
    "# 2. Dictionary\n",
    "# 3. Set , i).Union ii).Intersection iii).Difference iv).Symmetric Difference\n",
    "# 4. Boolean (True/False)\n",
    "# 5. Sequence  [List,string,tuple]"
   ]
  },
  {
   "cell_type": "code",
   "execution_count": null,
   "id": "9eb03432-f58a-487c-a636-f1fe82658359",
   "metadata": {},
   "outputs": [],
   "source": []
  }
 ],
 "metadata": {
  "kernelspec": {
   "display_name": "Python 3 (ipykernel)",
   "language": "python",
   "name": "python3"
  },
  "language_info": {
   "codemirror_mode": {
    "name": "ipython",
    "version": 3
   },
   "file_extension": ".py",
   "mimetype": "text/x-python",
   "name": "python",
   "nbconvert_exporter": "python",
   "pygments_lexer": "ipython3",
   "version": "3.12.2"
  }
 },
 "nbformat": 4,
 "nbformat_minor": 5
}
