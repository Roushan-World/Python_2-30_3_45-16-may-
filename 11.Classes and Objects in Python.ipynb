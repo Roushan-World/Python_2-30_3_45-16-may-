{
 "cells": [
  {
   "cell_type": "markdown",
   "id": "27086797-b576-4c96-93f0-46ff12a96b10",
   "metadata": {},
   "source": [
    "# 11. Classes and Objects in Python\n",
    "\n",
    " * __Python is an object-oriented programming language.__\n",
    " * __Unlike procedure-oriented programming, where the main emphasis is on functions, object-oriented programmin stresses on object.__\n",
    " * __An object is simply a collection of data(variables) and methods(functions) that act on those data.__\n",
    " * __Similarly, a class is a blueprint for that object.__\n",
    " * __Like function definitions begin with the def keyword in Python, class definitions begin with a class keyword.__\n",
    " * __The first string inside the class is called docstring and has s bried description of the class.__\n",
    " * __Although not mandatory, this highly recommended.__"
   ]
  },
  {
   "cell_type": "code",
   "execution_count": 3,
   "id": "49deda1a-0d9e-4b03-81a8-4ca518d049d4",
   "metadata": {},
   "outputs": [
    {
     "name": "stdout",
     "output_type": "stream",
     "text": [
      "Sahil\n",
      "55\n",
      "Pune\n",
      "101\n"
     ]
    }
   ],
   "source": [
    "class student:\n",
    "    def __init__(self,name,age,address,rollno): \n",
    "        self.name=name\n",
    "        self.age=age\n",
    "        self.address=address\n",
    "        self.rollno=rollno\n",
    "\n",
    "\n",
    "obj=student('Sahil',55,'Pune',101)\n",
    "print(obj.name)\n",
    "print(obj.age)\n",
    "print(obj.address)\n",
    "print(obj.rollno)"
   ]
  },
  {
   "cell_type": "code",
   "execution_count": 6,
   "id": "06ceb4ec-92ec-4682-8f93-cb3fe05ccabb",
   "metadata": {},
   "outputs": [
    {
     "name": "stdout",
     "output_type": "stream",
     "text": [
      "Prafulla\n",
      "62\n",
      "pune\n",
      "105\n"
     ]
    }
   ],
   "source": [
    "obj2=student('Prafulla',62,'pune',105)\n",
    "print(obj2.name)\n",
    "print(obj2.age)\n",
    "print(obj2.address)\n",
    "print(obj2.rollno)"
   ]
  },
  {
   "cell_type": "code",
   "execution_count": 7,
   "id": "636dd977-88c4-411a-9604-e38d140178a9",
   "metadata": {},
   "outputs": [
    {
     "data": {
      "text/plain": [
       "'Sahil'"
      ]
     },
     "execution_count": 7,
     "metadata": {},
     "output_type": "execute_result"
    }
   ],
   "source": [
    "obj.name"
   ]
  },
  {
   "cell_type": "code",
   "execution_count": 11,
   "id": "addbd013-212d-4ccc-a394-2c4d0378710f",
   "metadata": {},
   "outputs": [
    {
     "name": "stdout",
     "output_type": "stream",
     "text": [
      "Mahindra\n",
      "Thar4x4\n",
      "350000\n",
      "Black\n"
     ]
    }
   ],
   "source": [
    "class car:\n",
    "    def __init__(self,company,model,price,color):\n",
    "        self.company=company\n",
    "        self.model=model\n",
    "        self.price=price\n",
    "        self.color=color\n",
    "\n",
    "obj1=car(\"Mahindra\",\"Thar4x4\",\"350000\",'Black')\n",
    "print(obj1.company)\n",
    "print(obj1.model)\n",
    "print(obj1.price)\n",
    "print(obj1.color)"
   ]
  },
  {
   "cell_type": "code",
   "execution_count": 13,
   "id": "6cc009b7-8b60-4897-af05-32eb4d847d73",
   "metadata": {},
   "outputs": [
    {
     "name": "stdout",
     "output_type": "stream",
     "text": [
      "Audi\n",
      "A8\n",
      "450000\n",
      "Black\n"
     ]
    }
   ],
   "source": [
    "obj2=car('Audi','A8',\"450000\",'Black')\n",
    "print(obj2.company)\n",
    "print(obj2.model)\n",
    "print(obj2.price)\n",
    "print(obj2.color)"
   ]
  },
  {
   "cell_type": "code",
   "execution_count": 16,
   "id": "103d82ee-f0b0-47f0-9405-77a1e0cebdc9",
   "metadata": {},
   "outputs": [
    {
     "name": "stdout",
     "output_type": "stream",
     "text": [
      "The Company of your car is:Mahindra\n",
      "The Model of your car is:Thar 4x4\n",
      "The price of your car is:350000\n",
      "The color of your car is:Black\n"
     ]
    }
   ],
   "source": [
    "class car:\n",
    "    def __init__(self,company,model,price,color):\n",
    "        self.company=company\n",
    "        self.model=model\n",
    "        self.price=price\n",
    "        self.color=color\n",
    "\n",
    "    def car_details(self):\n",
    "        print(f'The Company of your car is:{self.company}')\n",
    "        print(f'The Model of your car is:{self.model}')\n",
    "        print(f'The price of your car is:{self.price}')\n",
    "        print(f'The color of your car is:{self.color}')\n",
    "\n",
    "obj1=car('Mahindra',\"Thar 4x4\",350000,'Black')\n",
    "obj1.car_details()       "
   ]
  },
  {
   "cell_type": "code",
   "execution_count": 17,
   "id": "b983631e-297d-4591-bf0e-8a2dc09302d7",
   "metadata": {},
   "outputs": [
    {
     "name": "stdout",
     "output_type": "stream",
     "text": [
      "The Company of your car is:Audi\n",
      "The Model of your car is:A8\n",
      "The price of your car is:450000\n",
      "The color of your car is:Black\n"
     ]
    }
   ],
   "source": [
    "obj2=car('Audi',\"A8\",450000,'Black')\n",
    "obj2.car_details()"
   ]
  },
  {
   "cell_type": "markdown",
   "id": "99f5ce38-ae0d-421c-915f-208372caf5df",
   "metadata": {},
   "source": [
    "# Self Parameter\n",
    "\n",
    " *__The self parameter is a reference to the current instance of the class, and is used to access variable that belongs to the class.__\n",
    " __It does not have to be named self, your can call it whatever you like, but it has to be the first parameter of any function in the class.__\n"
   ]
  },
  {
   "cell_type": "code",
   "execution_count": 18,
   "id": "8546892e-97d6-4227-be72-b942128d7329",
   "metadata": {},
   "outputs": [
    {
     "data": {
      "text/plain": [
       "3.14"
      ]
     },
     "execution_count": 18,
     "metadata": {},
     "output_type": "execute_result"
    }
   ],
   "source": [
    "class Data:\n",
    "    num=3.14\n",
    "\n",
    "obj=Data()\n",
    "obj.num"
   ]
  },
  {
   "cell_type": "code",
   "execution_count": 19,
   "id": "47b26833-c2c0-4ca3-b7da-33919312be80",
   "metadata": {},
   "outputs": [
    {
     "name": "stdin",
     "output_type": "stream",
     "text": [
      "Enter your name: Sahil\n",
      "Enter your age: 55\n",
      "Enter your rollno: 101\n",
      "Enter your subject: Math\n",
      "Enter your address: Lucknow\n"
     ]
    },
    {
     "name": "stdout",
     "output_type": "stream",
     "text": [
      "Your name is:Sahil\n",
      "Your Age is:55\n",
      "Your Rollno is:101\n",
      "Subject is:Math\n",
      "Your Address is:Lucknow\n"
     ]
    }
   ],
   "source": [
    "class student:\n",
    "    def __init__(x,name,age,rollno,subject,address):\n",
    "        x.name=name\n",
    "        x.age=age\n",
    "        x.rollno=rollno\n",
    "        x.subject=subject\n",
    "        x.address=address\n",
    "    def student_details(x):\n",
    "        print(f'Your name is:{x.name}')\n",
    "        print(f'Your Age is:{x.age}')\n",
    "        print(f'Your Rollno is:{x.rollno}')\n",
    "        print(f'Subject is:{x.subject}')\n",
    "        print(f'Your Address is:{x.address}')\n",
    "\n",
    "n=input('Enter your name:')\n",
    "a=input('Enter your age:')\n",
    "r=input('Enter your rollno:')\n",
    "s=input('Enter your subject:')\n",
    "a1=input('Enter your address:')\n",
    "obj=student(n,a,r,s,a1)\n",
    "obj.student_details()"
   ]
  },
  {
   "cell_type": "code",
   "execution_count": 21,
   "id": "efe741b4-9b02-46b2-a30d-c67abc22ecc0",
   "metadata": {},
   "outputs": [
    {
     "name": "stdout",
     "output_type": "stream",
     "text": [
      "The are of Rectangle is:20 cm²\n",
      "The Perimeter of Rectangle is:40 cm\n"
     ]
    }
   ],
   "source": [
    "class Rectangle: # name of class is Rectangle\n",
    "    def __init__(self,length,breadth):  # length and breadth is argument\n",
    "        self.length=length   # object instance\n",
    "        self.breadth=breadth  # object instance\n",
    "\n",
    "    def area_rect(self):  # function\n",
    "        area=self.length*self.breadth\n",
    "        print(f'The are of Rectangle is:{area} cm²')\n",
    "        perimeter=2*(self.length*self.breadth)\n",
    "        print(f'The Perimeter of Rectangle is:{perimeter} cm')\n",
    "        \n",
    "\n",
    "rect1=Rectangle(4,5)  # 4,5 is object parameter, rect1 is object, Rectangle is callback function.\n",
    "rect1.area_rect()"
   ]
  },
  {
   "cell_type": "code",
   "execution_count": 22,
   "id": "b860bc70-c114-4ed5-8e0a-2a4ca96c842d",
   "metadata": {},
   "outputs": [
    {
     "name": "stdout",
     "output_type": "stream",
     "text": [
      "The are of Rectangle is:200 cm²\n",
      "The Perimeter of Rectangle is:400 cm\n"
     ]
    }
   ],
   "source": [
    "rect2=Rectangle(10,20)\n",
    "rect2.area_rect()"
   ]
  },
  {
   "cell_type": "code",
   "execution_count": 25,
   "id": "d5f02efb-8a5c-4cc5-9907-0c0f401411da",
   "metadata": {},
   "outputs": [
    {
     "name": "stdout",
     "output_type": "stream",
     "text": [
      "The Area of Circle is:5026.548245743669 cm²\n",
      "The perimeter of Circle is:251.32741228718345 cm\n",
      "The circumference of Circle is:251.32741228718345 cm\n"
     ]
    }
   ],
   "source": [
    "import math\n",
    "class circle:\n",
    "    def __init__(self,radius):\n",
    "        self.radius=radius\n",
    "    def details_circle(self):\n",
    "        area=math.pi*self.radius*self.radius\n",
    "        print(f'The Area of Circle is:{area} cm²')\n",
    "        perimeter=2*math.pi*self.radius\n",
    "        print(f'The perimeter of Circle is:{perimeter} cm')\n",
    "        circumference=2*math.pi*self.radius\n",
    "        print(f'The circumference of Circle is:{circumference} cm')\n",
    "\n",
    "\n",
    "obj=circle(40)\n",
    "obj.details_circle()"
   ]
  },
  {
   "cell_type": "code",
   "execution_count": 26,
   "id": "348fc15f-f576-4243-a7e4-6c9817ae72a7",
   "metadata": {},
   "outputs": [
    {
     "name": "stdout",
     "output_type": "stream",
     "text": [
      "The Area of Circle is:31415.926535897932 cm²\n",
      "The perimeter of Circle is:628.3185307179587 cm\n",
      "The circumference of Circle is:628.3185307179587 cm\n"
     ]
    }
   ],
   "source": [
    "obj2=circle(100)\n",
    "obj2.details_circle()"
   ]
  },
  {
   "cell_type": "code",
   "execution_count": 28,
   "id": "0cfd63b2-1f5e-4efb-9a8d-f5eb1c333f83",
   "metadata": {},
   "outputs": [
    {
     "name": "stdout",
     "output_type": "stream",
     "text": [
      "The Area of Circle is:5026.548245743669 cm²\n",
      "The perimeter of Circle is:251.32741228718345 cm\n",
      "The circumference of Circle is:251.32741228718345 cm\n"
     ]
    }
   ],
   "source": [
    "obj.details_circle()"
   ]
  },
  {
   "cell_type": "code",
   "execution_count": 29,
   "id": "29384194-401f-45c0-b52e-0787f01b0186",
   "metadata": {},
   "outputs": [
    {
     "name": "stdout",
     "output_type": "stream",
     "text": [
      "The Area of Circle is:31415.926535897932 cm²\n",
      "The perimeter of Circle is:628.3185307179587 cm\n",
      "The circumference of Circle is:628.3185307179587 cm\n"
     ]
    }
   ],
   "source": [
    "obj2.details_circle()"
   ]
  },
  {
   "cell_type": "code",
   "execution_count": 30,
   "id": "c9642bc8-4962-4846-b9d9-f94254d454f4",
   "metadata": {},
   "outputs": [
    {
     "name": "stdout",
     "output_type": "stream",
     "text": [
      "The area of square is:2500 cm²\n",
      "The perimeter of square is:200 cm\n"
     ]
    }
   ],
   "source": [
    "# square of area,perimeter.\n",
    "\n",
    "class square:\n",
    "    def __init__(self,side):\n",
    "        self.side=side\n",
    "\n",
    "    def sqr_details(self):\n",
    "        area=self.side*self.side\n",
    "        print(f'The area of square is:{area} cm²')\n",
    "        perimeter=4*self.side\n",
    "        print(f'The perimeter of square is:{perimeter} cm')\n",
    "\n",
    "\n",
    "sqr1=square(50)\n",
    "sqr1.sqr_details()"
   ]
  },
  {
   "cell_type": "code",
   "execution_count": 31,
   "id": "3360fdaa-56cb-4ec7-b12d-b2eeb44baa8b",
   "metadata": {},
   "outputs": [
    {
     "name": "stdout",
     "output_type": "stream",
     "text": [
      "The area of square is:400 cm²\n",
      "The perimeter of square is:80 cm\n"
     ]
    }
   ],
   "source": [
    "sqr2=square(20)\n",
    "sqr2.sqr_details()"
   ]
  },
  {
   "cell_type": "markdown",
   "id": "37f04058-b5af-4521-a721-77e3477fcb83",
   "metadata": {},
   "source": [
    "# child class"
   ]
  },
  {
   "cell_type": "code",
   "execution_count": 33,
   "id": "a7805d05-99bb-4a96-8eba-394a2bf2dd7a",
   "metadata": {},
   "outputs": [
    {
     "name": "stdout",
     "output_type": "stream",
     "text": [
      "The area of square is:2500 cm²\n",
      "The perimeter of square is:200 cm\n"
     ]
    }
   ],
   "source": [
    "\n",
    "class square:\n",
    "    def __init__(self,side):\n",
    "        self.side=side\n",
    "\n",
    "    def sqr_details(self):\n",
    "        area=self.side*self.side\n",
    "        print(f'The area of square is:{area} cm²')\n",
    "        perimeter=4*self.side\n",
    "        print(f'The perimeter of square is:{perimeter} cm')\n",
    "\n",
    "\n",
    "# child class\n",
    "class Square1(square):\n",
    "    pass\n",
    "\n",
    "\n",
    "sqr2=Square1(50)\n",
    "sqr2.sqr_details()"
   ]
  },
  {
   "cell_type": "markdown",
   "id": "7dc3b6e7-f5b6-4162-b9b4-6c45f1d49134",
   "metadata": {},
   "source": [
    "# Inheritance\n",
    "\n",
    " * __1.Simple(Single) Inheritance:(Parent class/child class)__\n",
    " * __2.Multilevel Inheritance: (Parent/Child class-child child)__\n",
    " * __3. Multiple Inheritance: (Parent class/Parent class-Child class)__\n",
    " * __4. Hierarchical Inheritance:(Parent class/child class /child class)__\n",
    " * __5. Hybrid Inheritance:__"
   ]
  },
  {
   "cell_type": "code",
   "execution_count": 5,
   "id": "7d385536-38bf-4404-8ad5-0f77fe083c6f",
   "metadata": {},
   "outputs": [
    {
     "name": "stdout",
     "output_type": "stream",
     "text": [
      "Amazon is an Online Commerce Store\n"
     ]
    }
   ],
   "source": [
    "# single inheritance\n",
    "class a:   # parent\n",
    "    brand_name_1=\"Amazon\"\n",
    "    brand_name_2=\"Flipkart\"\n",
    "    brand_name_3=\"Myntra\"\n",
    "class b(a):  # child\n",
    "    prod_1=\"Online Commerce Store\"\n",
    "    prod_2=\"Online Store\"\n",
    "    prod_3=\"E-commerce Store.\"\n",
    "\n",
    "obj1=b()\n",
    "print(obj1.brand_name_1+' is an '+obj1.prod_1)"
   ]
  },
  {
   "cell_type": "code",
   "execution_count": 8,
   "id": "f2fd5044-5130-44f9-8c0c-7aaecac6f9bb",
   "metadata": {},
   "outputs": [
    {
     "name": "stdout",
     "output_type": "stream",
     "text": [
      "Amazon is an Online Commerce Store and It's popularity is 100\n"
     ]
    }
   ],
   "source": [
    "# Multilevel Inheritance\n",
    "\n",
    "class a:   # parent\n",
    "    brand_name_1=\"Amazon\"\n",
    "    brand_name_2=\"Flipkart\"\n",
    "    brand_name_3=\"Myntra\"\n",
    "class b(a):  # child\n",
    "    prod_1=\"Online Commerce Store\"\n",
    "    prod_2=\"Online Store\"\n",
    "    prod_3=\"E-commerce Store.\"\n",
    "\n",
    "\n",
    "class c(b):\n",
    "    popularity_1=\"100\"\n",
    "    popularity_2=\"500\"\n",
    "    populairty_3=\"1000\"\n",
    "\n",
    "\n",
    "obj1=c()\n",
    "print(obj1.brand_name_1+' is an '+obj1.prod_1+\" and It's popularity is \"+obj1.popularity_1)"
   ]
  },
  {
   "cell_type": "code",
   "execution_count": 9,
   "id": "9025c419-b07a-4694-9405-e40c12bc4fc3",
   "metadata": {},
   "outputs": [
    {
     "name": "stdout",
     "output_type": "stream",
     "text": [
      "Amazon is an Online Commerce Store and its popularity is 100\n"
     ]
    }
   ],
   "source": [
    "# Multiple Inheritance\n",
    "class a:   # parent\n",
    "    brand_name_1=\"Amazon\"\n",
    "    brand_name_2=\"Flipkart\"\n",
    "    brand_name_3=\"Myntra\"\n",
    "class b:  # parent\n",
    "    prod_1=\"Online Commerce Store\"\n",
    "    prod_2=\"Online Store\"\n",
    "    prod_3=\"E-commerce Store.\"\n",
    "\n",
    "\n",
    "class c(a,b):  #child\n",
    "    popularity_1=\"100\"\n",
    "    popularity_2=\"500\"\n",
    "    populairty_3=\"1000\"\n",
    "\n",
    "\n",
    "obj1=c()\n",
    "print(obj1.brand_name_1+' is an '+obj1.prod_1+\" and its popularity is \"+obj1.popularity_1)"
   ]
  },
  {
   "cell_type": "code",
   "execution_count": 12,
   "id": "ba1f8bc9-ee51-465a-91e2-c9603356d9aa",
   "metadata": {},
   "outputs": [
    {
     "name": "stdout",
     "output_type": "stream",
     "text": [
      "Amazon is an Online Commerce Store and its value is 100 and value is Best Value\n"
     ]
    }
   ],
   "source": [
    "# Hierarchical Inheritance\n",
    "\n",
    "\n",
    "class a:   # parent\n",
    "    brand_name_1=\"Amazon\"\n",
    "    brand_name_2=\"Flipkart\"\n",
    "    brand_name_3=\"Myntra\"\n",
    "class b(a):  # parent\n",
    "    prod_1=\"Online Commerce Store\"\n",
    "    prod_2=\"Online Store\"\n",
    "    prod_3=\"E-commerce Store.\"\n",
    "\n",
    "\n",
    "class c(a):  #child\n",
    "    popularity_1=\"100\"\n",
    "    popularity_2=\"500\"\n",
    "    populairty_3=\"1000\"\n",
    "\n",
    "class d(a):\n",
    "    prod_value_1=\"Best Value\"\n",
    "    prod_value_2=\"Good Value\"\n",
    "    prod_value_3=\"Better value\"\n",
    "\n",
    "\n",
    "obj1=b()\n",
    "obj2=c()\n",
    "obj3=d()\n",
    "\n",
    "print(obj1.brand_name_1+' is an '+obj1.prod_1+' and its value is '+obj2.popularity_1+ ' and value is '+obj3.prod_value_1)"
   ]
  },
  {
   "cell_type": "code",
   "execution_count": 21,
   "id": "f00d1b5f-f95c-4eb4-b77a-adbf37711795",
   "metadata": {},
   "outputs": [
    {
     "name": "stdout",
     "output_type": "stream",
     "text": [
      "Grand Father: Karan Johan\n",
      "Father Name: Orry\n",
      "Mohter name: Roohi\n",
      "Self name: New Baby\n"
     ]
    }
   ],
   "source": [
    "# Hybrid inheritance\n",
    "\n",
    "class a:\n",
    "    def name_a(self):\n",
    "        return('Karan Johan')\n",
    "\n",
    "class b:\n",
    "    def name_b(self):\n",
    "        return('Orry')\n",
    "\n",
    "\n",
    "class c(a):\n",
    "    def name_c(self):\n",
    "        return('Roohi')\n",
    "\n",
    "\n",
    "class d(b,c):\n",
    "    def name_d(self):\n",
    "        return('New Baby')\n",
    "\n",
    "\n",
    "obj1=d()\n",
    "print(\"Grand Father:\",obj1.name_a())\n",
    "print(\"Father Name:\",obj1.name_b())\n",
    "print('Mohter name:',obj1.name_c())\n",
    "print('Self name:',obj1.name_d())"
   ]
  },
  {
   "cell_type": "markdown",
   "id": "d3f99cd6-0bea-4b33-b519-5c676855ac5d",
   "metadata": {},
   "source": [
    "# 4 Concept of OOPS (Object oriented programming structure)\n",
    "\n",
    " * __1. Inheritance__\n",
    " * __2.Polymorphism__\n",
    " * __3.Encapsulation__\n",
    " * __4.Data Abstractions__\n",
    "\n",
    " * __1.Inheritance(Mom and Daughter):Some property of mom inherits by her daughter.__\n",
    " * __2.Polymorphism(child): In school behave like a student, In Bus behave like passenger,In shop behave like a customer, In Company Behave like employee, In hospital behave like patients.__\n",
    " * __3.Encapsulation: School bag can keep book,pencil,pen,sharpner,eraser,Lunchbox,(protecting our data).__\n",
    " * __Data Abstraction: ATM, check balance,deposite cash,withdraw cash,print statement,update pin(Hidding our irravalent data).__"
   ]
  },
  {
   "cell_type": "code",
   "execution_count": 23,
   "id": "804f7f2c-d4fd-4492-99bc-3fba0c968cfd",
   "metadata": {},
   "outputs": [
    {
     "name": "stdout",
     "output_type": "stream",
     "text": [
      "Hello i am calling child\n",
      "None\n"
     ]
    }
   ],
   "source": [
    "class parent:\n",
    "    def parent_method(self):\n",
    "        print('Hello world')\n",
    "        print('Hi,python')\n",
    "\n",
    "\n",
    "class child(parent):\n",
    "    def parent_method(self):\n",
    "        print('Hello i am calling child')\n",
    "x=child()\n",
    "print(x.parent_method())"
   ]
  },
  {
   "cell_type": "code",
   "execution_count": 24,
   "id": "ad39af81-9eea-4e78-9259-f3f7a52e9d5a",
   "metadata": {},
   "outputs": [
    {
     "name": "stdout",
     "output_type": "stream",
     "text": [
      "Hello world\n",
      "Hi,python\n"
     ]
    }
   ],
   "source": [
    "y=parent()\n",
    "y.parent_method()"
   ]
  },
  {
   "cell_type": "code",
   "execution_count": 32,
   "id": "3e2abcb3-3651-46f3-9f19-0f4848b47322",
   "metadata": {},
   "outputs": [
    {
     "name": "stdout",
     "output_type": "stream",
     "text": [
      "Gurav\n",
      "26\n",
      "Pune\n"
     ]
    }
   ],
   "source": [
    "class person:\n",
    "    def __init__(self,name,age):\n",
    "        self.name=name\n",
    "        self.age=age\n",
    "\n",
    "\n",
    "class person2:\n",
    "    def __init__(self,address):\n",
    "        self.address=address\n",
    "\n",
    "\n",
    "obj1=person('Gurav',26)\n",
    "print(obj1.name)\n",
    "print(obj1.age)\n",
    "\n",
    "\n",
    "obj2=person2('Pune')\n",
    "print(obj2.address)"
   ]
  },
  {
   "cell_type": "code",
   "execution_count": 34,
   "id": "4246f481-018f-4572-a869-7f4ea36c4d25",
   "metadata": {},
   "outputs": [
    {
     "name": "stdout",
     "output_type": "stream",
     "text": [
      "Gurav\n",
      "26\n",
      "Pune\n"
     ]
    }
   ],
   "source": [
    "class person:\n",
    "    def __init__(self,name,age):\n",
    "        self.name=name\n",
    "        self.age=age\n",
    "\n",
    "\n",
    "class person2(person):\n",
    "    def __init__(self,address,name,age):\n",
    "        super().__init__(name,age)\n",
    "        self.address=address\n",
    "\n",
    "\n",
    "obj1=person2('Pune',\"Gurav\",26)\n",
    "print(obj1.name)\n",
    "print(obj1.age)\n",
    "print(obj1.address)"
   ]
  },
  {
   "cell_type": "code",
   "execution_count": 39,
   "id": "cafa3180-21d6-4fa2-ae5a-bf1904862690",
   "metadata": {},
   "outputs": [
    {
     "name": "stdout",
     "output_type": "stream",
     "text": [
      "Shawan\n",
      "Bark\n",
      "Black\n"
     ]
    }
   ],
   "source": [
    "# 1. Inheritance\n",
    "\n",
    "class Animal:\n",
    "    def __init__(self,name):\n",
    "        self.name=name\n",
    "class Dog(Animal):\n",
    "    def __init__(self,name):\n",
    "        super().__init__(name)\n",
    "    def speak(self):\n",
    "        return \"Bark\"\n",
    "    def color(self):\n",
    "        return 'Black'\n",
    "\n",
    "obj1=Dog('Shawan')\n",
    "print(obj1.name)\n",
    "print(obj1.speak())\n",
    "print(obj1.color())\n"
   ]
  },
  {
   "cell_type": "code",
   "execution_count": 41,
   "id": "1d5c1a29-0443-4a36-a113-69fce514de32",
   "metadata": {},
   "outputs": [
    {
     "name": "stdout",
     "output_type": "stream",
     "text": [
      "Bark\n",
      "Meaw\n",
      "Talk\n"
     ]
    }
   ],
   "source": [
    "# Polymorphism\n",
    "\n",
    "class Animal:\n",
    "    def speak(self):\n",
    "        print(\"Animal Speak\")\n",
    "\n",
    "\n",
    "class Dog(Animal):\n",
    "    def speak(self):\n",
    "        print(\"Bark\")\n",
    "\n",
    "class Cat(Animal):\n",
    "    def speak(self):\n",
    "        print(\"Meaw\")\n",
    "\n",
    "class Man(Animal):\n",
    "    def speak(self):\n",
    "        print('Talk')\n",
    "\n",
    "\n",
    "animal=[Dog(),Cat(),Man()]\n",
    "\n",
    "for i in animal:\n",
    "    i.speak()"
   ]
  },
  {
   "cell_type": "code",
   "execution_count": 48,
   "id": "9596ac0c-1adc-4f17-80f4-fa22ff72d18a",
   "metadata": {},
   "outputs": [],
   "source": [
    "# Encapsulation\n",
    "\n",
    "\n",
    "class Encapsulation:\n",
    "    def __init__(self,value):\n",
    "        self.__private_variable=value\n",
    "    \n",
    "    def get_private_variable(self):\n",
    "       return self.__private_variable\n",
    "\n",
    "    def update_value(self,new_value):\n",
    "        self.__private_variable=new_value\n",
    "\n",
    "obj1=Encapsulation(10)        "
   ]
  },
  {
   "cell_type": "code",
   "execution_count": 50,
   "id": "bfc58dc4-76ab-44e4-98a3-bd97e7034eb2",
   "metadata": {},
   "outputs": [
    {
     "data": {
      "text/plain": [
       "10"
      ]
     },
     "execution_count": 50,
     "metadata": {},
     "output_type": "execute_result"
    }
   ],
   "source": [
    "obj1.get_private_variable()"
   ]
  },
  {
   "cell_type": "code",
   "execution_count": 51,
   "id": "0f286b01-efd6-40f8-bb6a-ec4c55fe6708",
   "metadata": {},
   "outputs": [],
   "source": [
    "obj1.update_value(100)"
   ]
  },
  {
   "cell_type": "code",
   "execution_count": 53,
   "id": "714315d4-3077-43ae-80b1-30d50526a048",
   "metadata": {},
   "outputs": [
    {
     "data": {
      "text/plain": [
       "100"
      ]
     },
     "execution_count": 53,
     "metadata": {},
     "output_type": "execute_result"
    }
   ],
   "source": [
    "obj1.get_private_variable()"
   ]
  },
  {
   "cell_type": "code",
   "execution_count": 54,
   "id": "79f75449-adf9-4478-a43b-74b6b862f436",
   "metadata": {},
   "outputs": [],
   "source": [
    "obj2=Encapsulation(500)"
   ]
  },
  {
   "cell_type": "code",
   "execution_count": 56,
   "id": "0612ce30-2bfc-49a2-bd2c-1e85b3479af2",
   "metadata": {},
   "outputs": [
    {
     "data": {
      "text/plain": [
       "500"
      ]
     },
     "execution_count": 56,
     "metadata": {},
     "output_type": "execute_result"
    }
   ],
   "source": [
    "obj2.get_private_variable()"
   ]
  },
  {
   "cell_type": "code",
   "execution_count": 57,
   "id": "11851dbc-db57-4193-b658-3f044ff77946",
   "metadata": {},
   "outputs": [
    {
     "data": {
      "text/plain": [
       "1000"
      ]
     },
     "execution_count": 57,
     "metadata": {},
     "output_type": "execute_result"
    }
   ],
   "source": [
    "obj2.update_value(1000)\n",
    "obj2.get_private_variable()"
   ]
  },
  {
   "cell_type": "code",
   "execution_count": null,
   "id": "bcba402f-dd51-482a-a038-29a679fde4a0",
   "metadata": {},
   "outputs": [],
   "source": []
  }
 ],
 "metadata": {
  "kernelspec": {
   "display_name": "Python 3 (ipykernel)",
   "language": "python",
   "name": "python3"
  },
  "language_info": {
   "codemirror_mode": {
    "name": "ipython",
    "version": 3
   },
   "file_extension": ".py",
   "mimetype": "text/x-python",
   "name": "python",
   "nbconvert_exporter": "python",
   "pygments_lexer": "ipython3",
   "version": "3.12.2"
  }
 },
 "nbformat": 4,
 "nbformat_minor": 5
}
