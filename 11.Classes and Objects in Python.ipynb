{
 "cells": [
  {
   "cell_type": "markdown",
   "id": "27086797-b576-4c96-93f0-46ff12a96b10",
   "metadata": {},
   "source": [
    "# 11. Classes and Objects in Python\n",
    "\n",
    " * __Python is an object-oriented programming language.__\n",
    " * __Unlike procedure-oriented programming, where the main emphasis is on functions, object-oriented programmin stresses on object.__\n",
    " * __An object is simply a collection of data(variables) and methods(functions) that act on those data.__\n",
    " * __Similarly, a class is a blueprint for that object.__\n",
    " * __Like function definitions begin with the def keyword in Python, class definitions begin with a class keyword.__\n",
    " * __The first string inside the class is called docstring and has s bried description of the class.__\n",
    " * __Although not mandatory, this highly recommended.__"
   ]
  },
  {
   "cell_type": "code",
   "execution_count": 3,
   "id": "49deda1a-0d9e-4b03-81a8-4ca518d049d4",
   "metadata": {},
   "outputs": [
    {
     "name": "stdout",
     "output_type": "stream",
     "text": [
      "Sahil\n",
      "55\n",
      "Pune\n",
      "101\n"
     ]
    }
   ],
   "source": [
    "class student:\n",
    "    def __init__(self,name,age,address,rollno): \n",
    "        self.name=name\n",
    "        self.age=age\n",
    "        self.address=address\n",
    "        self.rollno=rollno\n",
    "\n",
    "\n",
    "obj=student('Sahil',55,'Pune',101)\n",
    "print(obj.name)\n",
    "print(obj.age)\n",
    "print(obj.address)\n",
    "print(obj.rollno)"
   ]
  },
  {
   "cell_type": "code",
   "execution_count": 6,
   "id": "06ceb4ec-92ec-4682-8f93-cb3fe05ccabb",
   "metadata": {},
   "outputs": [
    {
     "name": "stdout",
     "output_type": "stream",
     "text": [
      "Prafulla\n",
      "62\n",
      "pune\n",
      "105\n"
     ]
    }
   ],
   "source": [
    "obj2=student('Prafulla',62,'pune',105)\n",
    "print(obj2.name)\n",
    "print(obj2.age)\n",
    "print(obj2.address)\n",
    "print(obj2.rollno)"
   ]
  },
  {
   "cell_type": "code",
   "execution_count": 7,
   "id": "636dd977-88c4-411a-9604-e38d140178a9",
   "metadata": {},
   "outputs": [
    {
     "data": {
      "text/plain": [
       "'Sahil'"
      ]
     },
     "execution_count": 7,
     "metadata": {},
     "output_type": "execute_result"
    }
   ],
   "source": [
    "obj.name"
   ]
  },
  {
   "cell_type": "code",
   "execution_count": 11,
   "id": "addbd013-212d-4ccc-a394-2c4d0378710f",
   "metadata": {},
   "outputs": [
    {
     "name": "stdout",
     "output_type": "stream",
     "text": [
      "Mahindra\n",
      "Thar4x4\n",
      "350000\n",
      "Black\n"
     ]
    }
   ],
   "source": [
    "class car:\n",
    "    def __init__(self,company,model,price,color):\n",
    "        self.company=company\n",
    "        self.model=model\n",
    "        self.price=price\n",
    "        self.color=color\n",
    "\n",
    "obj1=car(\"Mahindra\",\"Thar4x4\",\"350000\",'Black')\n",
    "print(obj1.company)\n",
    "print(obj1.model)\n",
    "print(obj1.price)\n",
    "print(obj1.color)"
   ]
  },
  {
   "cell_type": "code",
   "execution_count": 13,
   "id": "6cc009b7-8b60-4897-af05-32eb4d847d73",
   "metadata": {},
   "outputs": [
    {
     "name": "stdout",
     "output_type": "stream",
     "text": [
      "Audi\n",
      "A8\n",
      "450000\n",
      "Black\n"
     ]
    }
   ],
   "source": [
    "obj2=car('Audi','A8',\"450000\",'Black')\n",
    "print(obj2.company)\n",
    "print(obj2.model)\n",
    "print(obj2.price)\n",
    "print(obj2.color)"
   ]
  },
  {
   "cell_type": "code",
   "execution_count": 16,
   "id": "103d82ee-f0b0-47f0-9405-77a1e0cebdc9",
   "metadata": {},
   "outputs": [
    {
     "name": "stdout",
     "output_type": "stream",
     "text": [
      "The Company of your car is:Mahindra\n",
      "The Model of your car is:Thar 4x4\n",
      "The price of your car is:350000\n",
      "The color of your car is:Black\n"
     ]
    }
   ],
   "source": [
    "class car:\n",
    "    def __init__(self,company,model,price,color):\n",
    "        self.company=company\n",
    "        self.model=model\n",
    "        self.price=price\n",
    "        self.color=color\n",
    "\n",
    "    def car_details(self):\n",
    "        print(f'The Company of your car is:{self.company}')\n",
    "        print(f'The Model of your car is:{self.model}')\n",
    "        print(f'The price of your car is:{self.price}')\n",
    "        print(f'The color of your car is:{self.color}')\n",
    "\n",
    "obj1=car('Mahindra',\"Thar 4x4\",350000,'Black')\n",
    "obj1.car_details()       "
   ]
  },
  {
   "cell_type": "code",
   "execution_count": 17,
   "id": "b983631e-297d-4591-bf0e-8a2dc09302d7",
   "metadata": {},
   "outputs": [
    {
     "name": "stdout",
     "output_type": "stream",
     "text": [
      "The Company of your car is:Audi\n",
      "The Model of your car is:A8\n",
      "The price of your car is:450000\n",
      "The color of your car is:Black\n"
     ]
    }
   ],
   "source": [
    "obj2=car('Audi',\"A8\",450000,'Black')\n",
    "obj2.car_details()"
   ]
  },
  {
   "cell_type": "markdown",
   "id": "99f5ce38-ae0d-421c-915f-208372caf5df",
   "metadata": {},
   "source": [
    "# Self Parameter\n",
    "\n",
    " *__The self parameter is a reference to the current instance of the class, and is used to access variable that belongs to the class.__\n",
    " __It does not have to be named self, your can call it whatever you like, but it has to be the first parameter of any function in the class.__\n"
   ]
  },
  {
   "cell_type": "code",
   "execution_count": 18,
   "id": "8546892e-97d6-4227-be72-b942128d7329",
   "metadata": {},
   "outputs": [
    {
     "data": {
      "text/plain": [
       "3.14"
      ]
     },
     "execution_count": 18,
     "metadata": {},
     "output_type": "execute_result"
    }
   ],
   "source": [
    "class Data:\n",
    "    num=3.14\n",
    "\n",
    "obj=Data()\n",
    "obj.num"
   ]
  },
  {
   "cell_type": "code",
   "execution_count": 19,
   "id": "47b26833-c2c0-4ca3-b7da-33919312be80",
   "metadata": {},
   "outputs": [
    {
     "name": "stdin",
     "output_type": "stream",
     "text": [
      "Enter your name: Sahil\n",
      "Enter your age: 55\n",
      "Enter your rollno: 101\n",
      "Enter your subject: Math\n",
      "Enter your address: Lucknow\n"
     ]
    },
    {
     "name": "stdout",
     "output_type": "stream",
     "text": [
      "Your name is:Sahil\n",
      "Your Age is:55\n",
      "Your Rollno is:101\n",
      "Subject is:Math\n",
      "Your Address is:Lucknow\n"
     ]
    }
   ],
   "source": [
    "class student:\n",
    "    def __init__(x,name,age,rollno,subject,address):\n",
    "        x.name=name\n",
    "        x.age=age\n",
    "        x.rollno=rollno\n",
    "        x.subject=subject\n",
    "        x.address=address\n",
    "    def student_details(x):\n",
    "        print(f'Your name is:{x.name}')\n",
    "        print(f'Your Age is:{x.age}')\n",
    "        print(f'Your Rollno is:{x.rollno}')\n",
    "        print(f'Subject is:{x.subject}')\n",
    "        print(f'Your Address is:{x.address}')\n",
    "\n",
    "n=input('Enter your name:')\n",
    "a=input('Enter your age:')\n",
    "r=input('Enter your rollno:')\n",
    "s=input('Enter your subject:')\n",
    "a1=input('Enter your address:')\n",
    "obj=student(n,a,r,s,a1)\n",
    "obj.student_details()"
   ]
  },
  {
   "cell_type": "code",
   "execution_count": 21,
   "id": "efe741b4-9b02-46b2-a30d-c67abc22ecc0",
   "metadata": {},
   "outputs": [
    {
     "name": "stdout",
     "output_type": "stream",
     "text": [
      "The are of Rectangle is:20 cm²\n",
      "The Perimeter of Rectangle is:40 cm\n"
     ]
    }
   ],
   "source": [
    "class Rectangle: # name of class is Rectangle\n",
    "    def __init__(self,length,breadth):  # length and breadth is argument\n",
    "        self.length=length   # object instance\n",
    "        self.breadth=breadth  # object instance\n",
    "\n",
    "    def area_rect(self):  # function\n",
    "        area=self.length*self.breadth\n",
    "        print(f'The are of Rectangle is:{area} cm²')\n",
    "        perimeter=2*(self.length*self.breadth)\n",
    "        print(f'The Perimeter of Rectangle is:{perimeter} cm')\n",
    "        \n",
    "\n",
    "rect1=Rectangle(4,5)  # 4,5 is object parameter, rect1 is object, Rectangle is callback function.\n",
    "rect1.area_rect()"
   ]
  },
  {
   "cell_type": "code",
   "execution_count": 22,
   "id": "b860bc70-c114-4ed5-8e0a-2a4ca96c842d",
   "metadata": {},
   "outputs": [
    {
     "name": "stdout",
     "output_type": "stream",
     "text": [
      "The are of Rectangle is:200 cm²\n",
      "The Perimeter of Rectangle is:400 cm\n"
     ]
    }
   ],
   "source": [
    "rect2=Rectangle(10,20)\n",
    "rect2.area_rect()"
   ]
  },
  {
   "cell_type": "code",
   "execution_count": 25,
   "id": "d5f02efb-8a5c-4cc5-9907-0c0f401411da",
   "metadata": {},
   "outputs": [
    {
     "name": "stdout",
     "output_type": "stream",
     "text": [
      "The Area of Circle is:5026.548245743669 cm²\n",
      "The perimeter of Circle is:251.32741228718345 cm\n",
      "The circumference of Circle is:251.32741228718345 cm\n"
     ]
    }
   ],
   "source": [
    "import math\n",
    "class circle:\n",
    "    def __init__(self,radius):\n",
    "        self.radius=radius\n",
    "    def details_circle(self):\n",
    "        area=math.pi*self.radius*self.radius\n",
    "        print(f'The Area of Circle is:{area} cm²')\n",
    "        perimeter=2*math.pi*self.radius\n",
    "        print(f'The perimeter of Circle is:{perimeter} cm')\n",
    "        circumference=2*math.pi*self.radius\n",
    "        print(f'The circumference of Circle is:{circumference} cm')\n",
    "\n",
    "\n",
    "obj=circle(40)\n",
    "obj.details_circle()"
   ]
  },
  {
   "cell_type": "code",
   "execution_count": 26,
   "id": "348fc15f-f576-4243-a7e4-6c9817ae72a7",
   "metadata": {},
   "outputs": [
    {
     "name": "stdout",
     "output_type": "stream",
     "text": [
      "The Area of Circle is:31415.926535897932 cm²\n",
      "The perimeter of Circle is:628.3185307179587 cm\n",
      "The circumference of Circle is:628.3185307179587 cm\n"
     ]
    }
   ],
   "source": [
    "obj2=circle(100)\n",
    "obj2.details_circle()"
   ]
  },
  {
   "cell_type": "code",
   "execution_count": 28,
   "id": "0cfd63b2-1f5e-4efb-9a8d-f5eb1c333f83",
   "metadata": {},
   "outputs": [
    {
     "name": "stdout",
     "output_type": "stream",
     "text": [
      "The Area of Circle is:5026.548245743669 cm²\n",
      "The perimeter of Circle is:251.32741228718345 cm\n",
      "The circumference of Circle is:251.32741228718345 cm\n"
     ]
    }
   ],
   "source": [
    "obj.details_circle()"
   ]
  },
  {
   "cell_type": "code",
   "execution_count": 29,
   "id": "29384194-401f-45c0-b52e-0787f01b0186",
   "metadata": {},
   "outputs": [
    {
     "name": "stdout",
     "output_type": "stream",
     "text": [
      "The Area of Circle is:31415.926535897932 cm²\n",
      "The perimeter of Circle is:628.3185307179587 cm\n",
      "The circumference of Circle is:628.3185307179587 cm\n"
     ]
    }
   ],
   "source": [
    "obj2.details_circle()"
   ]
  },
  {
   "cell_type": "code",
   "execution_count": 30,
   "id": "c9642bc8-4962-4846-b9d9-f94254d454f4",
   "metadata": {},
   "outputs": [
    {
     "name": "stdout",
     "output_type": "stream",
     "text": [
      "The area of square is:2500 cm²\n",
      "The perimeter of square is:200 cm\n"
     ]
    }
   ],
   "source": [
    "# square of area,perimeter.\n",
    "\n",
    "class square:\n",
    "    def __init__(self,side):\n",
    "        self.side=side\n",
    "\n",
    "    def sqr_details(self):\n",
    "        area=self.side*self.side\n",
    "        print(f'The area of square is:{area} cm²')\n",
    "        perimeter=4*self.side\n",
    "        print(f'The perimeter of square is:{perimeter} cm')\n",
    "\n",
    "\n",
    "sqr1=square(50)\n",
    "sqr1.sqr_details()"
   ]
  },
  {
   "cell_type": "code",
   "execution_count": 31,
   "id": "3360fdaa-56cb-4ec7-b12d-b2eeb44baa8b",
   "metadata": {},
   "outputs": [
    {
     "name": "stdout",
     "output_type": "stream",
     "text": [
      "The area of square is:400 cm²\n",
      "The perimeter of square is:80 cm\n"
     ]
    }
   ],
   "source": [
    "sqr2=square(20)\n",
    "sqr2.sqr_details()"
   ]
  },
  {
   "cell_type": "markdown",
   "id": "37f04058-b5af-4521-a721-77e3477fcb83",
   "metadata": {},
   "source": [
    "# child class"
   ]
  },
  {
   "cell_type": "code",
   "execution_count": 33,
   "id": "a7805d05-99bb-4a96-8eba-394a2bf2dd7a",
   "metadata": {},
   "outputs": [
    {
     "name": "stdout",
     "output_type": "stream",
     "text": [
      "The area of square is:2500 cm²\n",
      "The perimeter of square is:200 cm\n"
     ]
    }
   ],
   "source": [
    "\n",
    "class square:\n",
    "    def __init__(self,side):\n",
    "        self.side=side\n",
    "\n",
    "    def sqr_details(self):\n",
    "        area=self.side*self.side\n",
    "        print(f'The area of square is:{area} cm²')\n",
    "        perimeter=4*self.side\n",
    "        print(f'The perimeter of square is:{perimeter} cm')\n",
    "\n",
    "\n",
    "# child class\n",
    "class Square1(square):\n",
    "    pass\n",
    "\n",
    "\n",
    "sqr2=Square1(50)\n",
    "sqr2.sqr_details()"
   ]
  },
  {
   "cell_type": "code",
   "execution_count": null,
   "id": "7419b500-0aed-4f0c-9e66-85a2e7496f2e",
   "metadata": {},
   "outputs": [],
   "source": []
  }
 ],
 "metadata": {
  "kernelspec": {
   "display_name": "Python 3 (ipykernel)",
   "language": "python",
   "name": "python3"
  },
  "language_info": {
   "codemirror_mode": {
    "name": "ipython",
    "version": 3
   },
   "file_extension": ".py",
   "mimetype": "text/x-python",
   "name": "python",
   "nbconvert_exporter": "python",
   "pygments_lexer": "ipython3",
   "version": "3.12.2"
  }
 },
 "nbformat": 4,
 "nbformat_minor": 5
}
