{
 "cells": [
  {
   "cell_type": "markdown",
   "id": "a57f8c8f-8d58-4342-a2f2-c2a984698f82",
   "metadata": {},
   "source": [
    "# 4 Tuples in Python\n",
    "\n",
    " * __Tuples are immutable lists and cannot be changed in any way once it is created.__\n",
    " * __Thye are enclosed within parenthesis and not within square braces.__\n",
    " * __Tuples are ordered, indexed collections of data.__\n",
    " * __Similar to string indices, the first value in the tuple will have the index[0], the second value[1].__\n",
    " * __Negative indices are counted from the end of the tuple, just like lists.__\n",
    " * __Tuple also has the same structure where commas separate the values.__\n",
    " * __Tuples can store duplicate values.__\n",
    " * __Tuples allow you to store several data tiems including string, interger, float in one variable.__"
   ]
  },
  {
   "cell_type": "code",
   "execution_count": 1,
   "id": "80f963b5-1e2b-4ce5-b855-38015dd0d2ff",
   "metadata": {},
   "outputs": [
    {
     "data": {
      "text/plain": [
       "('Hello world', 'Python', True, False, 3.14, 10, 20)"
      ]
     },
     "execution_count": 1,
     "metadata": {},
     "output_type": "execute_result"
    }
   ],
   "source": [
    "tuple1=(\"Hello world\",'Python',True,False,3.14,10,20)\n",
    "tuple1"
   ]
  },
  {
   "cell_type": "code",
   "execution_count": 3,
   "id": "bb478877-c9d2-4fd2-8a69-3c55e76e1895",
   "metadata": {},
   "outputs": [
    {
     "name": "stdout",
     "output_type": "stream",
     "text": [
      "<class 'tuple'>\n"
     ]
    }
   ],
   "source": [
    "print(type(tuple1))"
   ]
  },
  {
   "cell_type": "code",
   "execution_count": 7,
   "id": "436391e5-e797-4c60-8bab-026eff3e9a41",
   "metadata": {},
   "outputs": [
    {
     "name": "stdout",
     "output_type": "stream",
     "text": [
      "('Hello world',)\n",
      "<class 'tuple'>\n"
     ]
    }
   ],
   "source": [
    "# single element as a tuple\n",
    "tup=(\"Hello world\",)\n",
    "print(tup)\n",
    "print(type(tup))"
   ]
  },
  {
   "cell_type": "code",
   "execution_count": 9,
   "id": "d8cd1879-27d6-44b1-811e-87cd396f2009",
   "metadata": {},
   "outputs": [
    {
     "name": "stdout",
     "output_type": "stream",
     "text": [
      "<class 'tuple'>\n"
     ]
    }
   ],
   "source": [
    "tup2=(10,)\n",
    "print(type(tup2))"
   ]
  },
  {
   "cell_type": "code",
   "execution_count": 10,
   "id": "935f88cc-2aa8-4dce-9e5a-984dd49fb029",
   "metadata": {},
   "outputs": [
    {
     "data": {
      "text/plain": [
       "('Hello world', 'Python', True, False, 3.14, 10, 20)"
      ]
     },
     "execution_count": 10,
     "metadata": {},
     "output_type": "execute_result"
    }
   ],
   "source": [
    "tuple1=(\"Hello world\",'Python',True,False,3.14,10,20)\n",
    "tuple1"
   ]
  },
  {
   "cell_type": "code",
   "execution_count": 12,
   "id": "f8f792eb-affc-43d6-8154-0a9dbd615a12",
   "metadata": {},
   "outputs": [
    {
     "data": {
      "text/plain": [
       "list"
      ]
     },
     "execution_count": 12,
     "metadata": {},
     "output_type": "execute_result"
    }
   ],
   "source": [
    "lis=['Hello']\n",
    "type(lis)"
   ]
  },
  {
   "cell_type": "code",
   "execution_count": 24,
   "id": "43ff7089-55d0-4b10-93fc-6993dbcdc765",
   "metadata": {},
   "outputs": [
    {
     "name": "stdout",
     "output_type": "stream",
     "text": [
      "Hello world\n",
      "Python\n",
      "True\n",
      "False\n",
      "3.14\n",
      "10\n",
      "20\n"
     ]
    }
   ],
   "source": [
    "# Accessing index value in tuple\n",
    "tuple1=(\"Hello world\",'Python',True,False,3.14,10,20)\n",
    "tuple1\n",
    "# positive indexing and negative indexing\n",
    "print(tuple1[0])\n",
    "print(tuple1[1])\n",
    "print(tuple1[2])\n",
    "print(tuple1[3])\n",
    "print(tuple1[4])\n",
    "print(tuple1[5])\n",
    "print(tuple1[6])\n",
    "# print(tuple1[7])"
   ]
  },
  {
   "cell_type": "code",
   "execution_count": 26,
   "id": "c7066042-a355-4fdb-a456-2ee683a9d371",
   "metadata": {},
   "outputs": [
    {
     "name": "stdout",
     "output_type": "stream",
     "text": [
      "20\n",
      "10\n",
      "3.14\n",
      "False\n",
      "True\n",
      "Python\n",
      "Hello world\n"
     ]
    }
   ],
   "source": [
    "# Negative indexing in tuple\n",
    "\n",
    "print(tuple1[-1])\n",
    "print(tuple1[-2])\n",
    "print(tuple1[-3])\n",
    "print(tuple1[-4])\n",
    "print(tuple1[-5])\n",
    "print(tuple1[-6])\n",
    "print(tuple1[-7])"
   ]
  },
  {
   "cell_type": "markdown",
   "id": "0a0f6e9d-05a8-4a03-b39e-06e6b8e0ed03",
   "metadata": {},
   "source": [
    "# Tuple Operations\n"
   ]
  },
  {
   "cell_type": "code",
   "execution_count": 35,
   "id": "abc5ac52-8cb4-49e6-90f5-ba00727bb1e3",
   "metadata": {},
   "outputs": [
    {
     "name": "stdout",
     "output_type": "stream",
     "text": [
      "WELCOME PYTHON\n",
      "Shrinivas\n",
      "SAHIL KHATIK\n"
     ]
    }
   ],
   "source": [
    "tuple2=('Welcome python',\"sahil khatik\",'shrinivas')\n",
    "print(tuple2[0].upper())\n",
    "print(tuple2[2].capitalize())\n",
    "print(tuple2[1].upper())"
   ]
  },
  {
   "cell_type": "markdown",
   "id": "4f3eaa31-c858-46ef-8285-4d29d730dd82",
   "metadata": {},
   "source": [
    "# concatenation"
   ]
  },
  {
   "cell_type": "code",
   "execution_count": 38,
   "id": "ab2373e6-4ac9-47db-8a14-bc571c0256e0",
   "metadata": {},
   "outputs": [
    {
     "name": "stdin",
     "output_type": "stream",
     "text": [
      "Enter your first name: Modi\n",
      "Enter your last name: ji\n"
     ]
    },
    {
     "name": "stdout",
     "output_type": "stream",
     "text": [
      "Your full name is: Modi ji\n"
     ]
    }
   ],
   "source": [
    "first_name=input('Enter your first name:')\n",
    "last_name=input('Enter your last name:')\n",
    "full_name=first_name+\" \"+last_name\n",
    "print('Your full name is:',full_name)"
   ]
  },
  {
   "cell_type": "markdown",
   "id": "ab11bc36-a805-4828-8f4f-2892557b2c1b",
   "metadata": {},
   "source": [
    "# Repetation of tuple\n"
   ]
  },
  {
   "cell_type": "code",
   "execution_count": 40,
   "id": "6f62d2e2-706b-456d-addc-8f8e5d51d92d",
   "metadata": {},
   "outputs": [
    {
     "name": "stdout",
     "output_type": "stream",
     "text": [
      "(1, 2, 3, 4, 5, 6, 1, 2, 3, 4, 5, 6, 1, 2, 3, 4, 5, 6, 1, 2, 3, 4, 5, 6, 1, 2, 3, 4, 5, 6, 1, 2, 3, 4, 5, 6, 1, 2, 3, 4, 5, 6, 1, 2, 3, 4, 5, 6, 1, 2, 3, 4, 5, 6, 1, 2, 3, 4, 5, 6)\n"
     ]
    }
   ],
   "source": [
    "x=(1,2,3,4,5,6)\n",
    "print(x*10)"
   ]
  },
  {
   "cell_type": "markdown",
   "id": "f01a7dad-f5c8-4dfe-803d-0f93852a5d30",
   "metadata": {},
   "source": [
    "# Tuple is immutable data type"
   ]
  },
  {
   "cell_type": "code",
   "execution_count": 42,
   "id": "9084aef6-aec9-45d3-80a9-a69e6770609a",
   "metadata": {},
   "outputs": [
    {
     "ename": "AttributeError",
     "evalue": "'tuple' object has no attribute 'append'",
     "output_type": "error",
     "traceback": [
      "\u001b[1;31m---------------------------------------------------------------------------\u001b[0m",
      "\u001b[1;31mAttributeError\u001b[0m                            Traceback (most recent call last)",
      "Cell \u001b[1;32mIn[42], line 2\u001b[0m\n\u001b[0;32m      1\u001b[0m x\u001b[38;5;241m=\u001b[39m(\u001b[38;5;124m'\u001b[39m\u001b[38;5;124mHello world\u001b[39m\u001b[38;5;124m'\u001b[39m,)\n\u001b[1;32m----> 2\u001b[0m \u001b[43mx\u001b[49m\u001b[38;5;241;43m.\u001b[39;49m\u001b[43mappend\u001b[49m(\u001b[38;5;124m'\u001b[39m\u001b[38;5;124mShrinivas\u001b[39m\u001b[38;5;124m'\u001b[39m)\n",
      "\u001b[1;31mAttributeError\u001b[0m: 'tuple' object has no attribute 'append'"
     ]
    }
   ],
   "source": [
    "x=('Hello world',)\n",
    "x.append('Shrinivas')"
   ]
  },
  {
   "cell_type": "code",
   "execution_count": 46,
   "id": "29a82d78-33d5-4dc9-a234-5c5f19f0c508",
   "metadata": {},
   "outputs": [
    {
     "ename": "TypeError",
     "evalue": "'tuple' object does not support item assignment",
     "output_type": "error",
     "traceback": [
      "\u001b[1;31m---------------------------------------------------------------------------\u001b[0m",
      "\u001b[1;31mTypeError\u001b[0m                                 Traceback (most recent call last)",
      "Cell \u001b[1;32mIn[46], line 2\u001b[0m\n\u001b[0;32m      1\u001b[0m y\u001b[38;5;241m=\u001b[39m(\u001b[38;5;124m'\u001b[39m\u001b[38;5;124mHello world\u001b[39m\u001b[38;5;124m'\u001b[39m,\u001b[38;5;124m'\u001b[39m\u001b[38;5;124mModiji\u001b[39m\u001b[38;5;124m'\u001b[39m,\u001b[38;5;28;01mTrue\u001b[39;00m,\u001b[38;5;28;01mFalse\u001b[39;00m)\n\u001b[1;32m----> 2\u001b[0m \u001b[43my\u001b[49m\u001b[43m[\u001b[49m\u001b[38;5;241;43m0\u001b[39;49m\u001b[43m]\u001b[49m\u001b[38;5;241m=\u001b[39m\u001b[38;5;124m'\u001b[39m\u001b[38;5;124mModiji\u001b[39m\u001b[38;5;124m'\u001b[39m\n\u001b[0;32m      3\u001b[0m \u001b[38;5;28mprint\u001b[39m(y)\n",
      "\u001b[1;31mTypeError\u001b[0m: 'tuple' object does not support item assignment"
     ]
    }
   ],
   "source": [
    "y=('Hello world','Modiji',True,False)\n",
    "y[0]='Modiji'\n",
    "print(y)"
   ]
  },
  {
   "cell_type": "code",
   "execution_count": 48,
   "id": "fa0da3da-a89f-418e-b982-56a30301d2e0",
   "metadata": {},
   "outputs": [
    {
     "name": "stdout",
     "output_type": "stream",
     "text": [
      "['ModiJi', 'Suryavansham', 'Cat', 'Rat', 'Mat', 'Bat']\n"
     ]
    }
   ],
   "source": [
    "list1=['Hello world','Suryavansham','Cat','Rat','Mat','Bat']\n",
    "list1[0]='ModiJi'\n",
    "print(list1)"
   ]
  },
  {
   "cell_type": "code",
   "execution_count": 51,
   "id": "d01ea23a-ffa6-4717-9f3a-34c3f660ea74",
   "metadata": {},
   "outputs": [],
   "source": [
    "del(list1[0])"
   ]
  },
  {
   "cell_type": "code",
   "execution_count": 52,
   "id": "1f4b3eed-05ea-4ed9-9a6e-c785612c11df",
   "metadata": {},
   "outputs": [
    {
     "data": {
      "text/plain": [
       "['Suryavansham', 'Cat', 'Rat', 'Mat', 'Bat']"
      ]
     },
     "execution_count": 52,
     "metadata": {},
     "output_type": "execute_result"
    }
   ],
   "source": [
    "list1"
   ]
  },
  {
   "cell_type": "code",
   "execution_count": 55,
   "id": "fa394648-ef03-4b51-a70b-652ab56e99a5",
   "metadata": {},
   "outputs": [
    {
     "name": "stdout",
     "output_type": "stream",
     "text": [
      "('Hello world', 'Suryavansham', 'Cat', 'Rat', 'Mat', 'Bat')\n"
     ]
    }
   ],
   "source": [
    "tuple1=('Hello world','Suryavansham','Cat','Rat','Mat','Bat')\n",
    "\n",
    "print(tuple1)"
   ]
  },
  {
   "cell_type": "code",
   "execution_count": 56,
   "id": "b5fad708-1ce3-49de-99cd-a90b65e74cc4",
   "metadata": {},
   "outputs": [
    {
     "name": "stdout",
     "output_type": "stream",
     "text": [
      "Hello world\n"
     ]
    }
   ],
   "source": [
    "print(tuple1[0])"
   ]
  },
  {
   "cell_type": "code",
   "execution_count": 57,
   "id": "db2a9b19-d8f0-4433-8e02-aaa9a98eb93b",
   "metadata": {},
   "outputs": [
    {
     "ename": "TypeError",
     "evalue": "'tuple' object doesn't support item deletion",
     "output_type": "error",
     "traceback": [
      "\u001b[1;31m---------------------------------------------------------------------------\u001b[0m",
      "\u001b[1;31mTypeError\u001b[0m                                 Traceback (most recent call last)",
      "Cell \u001b[1;32mIn[57], line 1\u001b[0m\n\u001b[1;32m----> 1\u001b[0m \u001b[38;5;28;01mdel\u001b[39;00m(\u001b[43mtuple1\u001b[49m\u001b[43m[\u001b[49m\u001b[38;5;241;43m0\u001b[39;49m\u001b[43m]\u001b[49m)\n",
      "\u001b[1;31mTypeError\u001b[0m: 'tuple' object doesn't support item deletion"
     ]
    }
   ],
   "source": [
    "del(tuple1[0])"
   ]
  },
  {
   "cell_type": "code",
   "execution_count": 58,
   "id": "ebba0d04-aeaa-44e4-b3c0-0503dbd00359",
   "metadata": {},
   "outputs": [
    {
     "data": {
      "text/plain": [
       "('Hello world', 'Suryavansham', 'Cat', 'Rat', 'Mat', 'Bat')"
      ]
     },
     "execution_count": 58,
     "metadata": {},
     "output_type": "execute_result"
    }
   ],
   "source": [
    "# In tuple you can not delete a single data but you can delete the whole tuple using del() funciton.\n",
    "tuple1"
   ]
  },
  {
   "cell_type": "code",
   "execution_count": 59,
   "id": "eeadf8e6-855a-40e4-a1d8-dcc0290fe79c",
   "metadata": {},
   "outputs": [],
   "source": [
    "del(tuple1)"
   ]
  },
  {
   "cell_type": "code",
   "execution_count": 60,
   "id": "e3c9978d-1b2a-468d-95cc-f37952bf3146",
   "metadata": {},
   "outputs": [
    {
     "ename": "NameError",
     "evalue": "name 'tuple1' is not defined",
     "output_type": "error",
     "traceback": [
      "\u001b[1;31m---------------------------------------------------------------------------\u001b[0m",
      "\u001b[1;31mNameError\u001b[0m                                 Traceback (most recent call last)",
      "Cell \u001b[1;32mIn[60], line 1\u001b[0m\n\u001b[1;32m----> 1\u001b[0m \u001b[43mtuple1\u001b[49m\n",
      "\u001b[1;31mNameError\u001b[0m: name 'tuple1' is not defined"
     ]
    }
   ],
   "source": [
    "tuple1"
   ]
  },
  {
   "cell_type": "markdown",
   "id": "66a2f1ca-bb8a-4369-9455-2ecd3b6f3777",
   "metadata": {},
   "source": [
    "# Aggrigate function in tuple\n",
    "\n",
    " * __sum(),min(),max(),average(),len()__"
   ]
  },
  {
   "cell_type": "code",
   "execution_count": 65,
   "id": "529a90ef-a3e9-49c1-a553-59e3c434dce9",
   "metadata": {},
   "outputs": [
    {
     "name": "stdout",
     "output_type": "stream",
     "text": [
      "280\n",
      "10\n",
      "70\n",
      "7\n",
      "40.0\n"
     ]
    }
   ],
   "source": [
    "x=(10,20,30,40,50,60,70)\n",
    "print(sum(x))\n",
    "print(min(x))\n",
    "print(max(x))\n",
    "print(len(x))\n",
    "print(sum(x)/len(x))"
   ]
  },
  {
   "cell_type": "code",
   "execution_count": 71,
   "id": "aecc5356-c672-4ec0-a262-f0c4f16fdde4",
   "metadata": {},
   "outputs": [
    {
     "name": "stdout",
     "output_type": "stream",
     "text": [
      "(100, 20, 50, 40, 80, 90, 100, 55, 68)\n",
      "<class 'tuple'>\n"
     ]
    }
   ],
   "source": [
    "# sorting in tuple\n",
    "# Data arrange in ascending or descending order.\n",
    "tuple1=(100,20,50,40,80,90,100,55,68)\n",
    "print(tuple1)\n",
    "print(type(tuple1))"
   ]
  },
  {
   "cell_type": "code",
   "execution_count": 72,
   "id": "f5885cd9-7916-4cff-80d4-c4e6ea9aef9b",
   "metadata": {},
   "outputs": [
    {
     "name": "stdout",
     "output_type": "stream",
     "text": [
      "[20, 40, 50, 55, 68, 80, 90, 100, 100]\n",
      "<class 'list'>\n"
     ]
    }
   ],
   "source": [
    "x=sorted(tuple1)\n",
    "print(x)\n",
    "print(type(x))"
   ]
  },
  {
   "cell_type": "code",
   "execution_count": 73,
   "id": "b7600d25-d2cd-4739-a12d-8c2af734610e",
   "metadata": {},
   "outputs": [
    {
     "data": {
      "text/plain": [
       "[100, 100, 90, 80, 68, 55, 50, 40, 20]"
      ]
     },
     "execution_count": 73,
     "metadata": {},
     "output_type": "execute_result"
    }
   ],
   "source": [
    "x[::-1]"
   ]
  },
  {
   "cell_type": "code",
   "execution_count": null,
   "id": "a93e0cdb-3165-4d1c-adc9-134aee561e0c",
   "metadata": {},
   "outputs": [],
   "source": []
  }
 ],
 "metadata": {
  "kernelspec": {
   "display_name": "Python 3 (ipykernel)",
   "language": "python",
   "name": "python3"
  },
  "language_info": {
   "codemirror_mode": {
    "name": "ipython",
    "version": 3
   },
   "file_extension": ".py",
   "mimetype": "text/x-python",
   "name": "python",
   "nbconvert_exporter": "python",
   "pygments_lexer": "ipython3",
   "version": "3.12.2"
  }
 },
 "nbformat": 4,
 "nbformat_minor": 5
}
