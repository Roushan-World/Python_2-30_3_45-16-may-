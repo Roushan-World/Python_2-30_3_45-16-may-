{
 "cells": [
  {
   "cell_type": "markdown",
   "id": "f1377a1b-6cb0-41ec-811b-57c8a48c98d3",
   "metadata": {},
   "source": [
    "# 12. Reading Files in Python\n",
    "\n",
    " * __To read a text file for reading in Python, follow these steps:__\n",
    " * __First, Open a text file for reading by using the open() functions.__\n",
    " * __Second, read text from the text file using the file read(), readlines(), readline() method of the file object.__\n",
    " * __Third, close the file using close() method. This frees up resources and ensures consistency across different python version.__"
   ]
  },
  {
   "cell_type": "code",
   "execution_count": 45,
   "id": "c25dff6d-7198-4dc8-9ac5-f343712edda7",
   "metadata": {},
   "outputs": [
    {
     "data": {
      "text/plain": [
       "'The first book explains Noddy\\'s origins. He is made by a woodcarver in a toy shop but runs away after the man begins to make a wooden lion, which scares Noddy. As he wanders through the woods naked, penniless, and homeless, he meets Big Ears, a friendly brownie. Big Ears decides that Noddy is a toy and takes him to live in Toyland. He generously provides Noddy with a set of clothing and a house. While Noddy is quite happy to be a toy, the citizens of Toyland are not sure that he actually is one. They put Noddy on trial and examine whether he is a toy or an ornament. Eventually, Noddy is declared a toy, but still has to convince the court that he is a good toy. The judge accepts that Noddy is good after a doll tells the court that he saved her little girl from a lion, and he is allowed to stay in Toyland. Noddy gets his car in the second book. It is given to him after he helps solve a local mystery.\\n\\nThe other toys can hear him coming by the distinctive \"Parp Parp\" sound of his car\\'s horn and the jingle of the bell on his blue hat. Often he uses his car to visit all of the places in Toyland. When his taxi business is not doing so well, or when he needs help, Noddy turns to Big Ears. Big Ears will often lend him what he needs. On occasion, Noddy will allow people to make his head nod, in exchange for small items such as his morning milk.\\n\\nNoddy is kind and honest, but he often gets into trouble, either through his own misunderstandings or because someone, usually one of the naughty goblins Sly or Gobbo, has played a trick on him. He is very childlike in his understanding of the world and often becomes confused as a result. For example, in the first Noddy book, Noddy and Big Ears are building Noddy\\'s house for one. Noddy suggests that they build the roof first, in case it rains. With no understanding of gravity or of the need for roof supports, this is perfectly logical to him. (In fact, this is not so silly. Some multi-story buildings start with the roof, which is then raised on hydraulic jacks, and the story beneath is built, and then the roof is raised again, and so on. This is the Upbrella method.) As the series continues, Noddy becomes wiser but without losing his charm and lovable naivety.\\n\\nNoddy\\'s best friends are Big Ears, Tessie Bear, Bumpy Dog, and the Tubby Bears. Big Ears, who brought Noddy to Toyland, is the most important figure in his life. Whenever he faces serious peril, it tends to be Big Ears who comes to the rescue, one way or another, and it is invariably Big Ears to whom Noddy turns for support and reassurance. Big Ears is not so much a parental figure, but more like a guardian, or perhaps Noddy\\'s attorney. While kind to Noddy, Big Ears has an intimidating presence and voice that makes him feared by goblins. He is capable of facing down wizards with his own spells, and is able to plead Noddy\\'s case to Mr. Plod, the local policeman, when Noddy finds himself in legal peril. On rare occasions, however, Big Ears finds himself in trouble, in which case Noddy comes to his aid. Big Ears and Noddy have rarely quarreled seriously. Examples of such quarrels are when Big Ears harshly scolded the very sensitive Tessie Bear for failing to control her dog and when Noddy ran his car into Big Ears\\'s clothes post and then drove away, dragging Big Ears\\'s clean washing behind him.\\n\\nTessie is a gentle-hearted, gold bear who often wears a bonnet with flowers and a skirt. She is young like Noddy, and very loving towards all of her friends and neighbours. Bumpy Dog is Tessie\\'s pet. He loves to run up and \"bump\" people over. Noddy frequently gets annoyed with Bumpy but still likes him. Whenever Noddy threatens Bumpy, Tessie gets upset, and sometimes even begins to cry. The Tubby Bears live next door to Noddy. They are gold and chubby teddy bears. Mr. and Mrs. Tubby Bear frequently help Noddy. It is clear that Mr. and Mrs. Tubby Bear are the superiors of Noddy, as if he were a child. Their first names are never mentioned and Noddy always refers to them as Mr. and Mrs. They have one son, also named Tubby, who is occasionally referred to as Master Tubby. Tubby is naughty and is usually in trouble for breaking rules, being rude, or doing something wrong. Noddy often attempts to scold or punish Tubby, with little result. On one occasion, Tubby gets tired of always being bossed around and being punished and decides to run away to sea. Noddy and Bumpy accidentally join with him. By the end of the journey, Tubby misses his parents and brings them back presents from his trip, as an apology.\\n\\nNoddy has many run-ins with Mr. Plod. Some are caused by Noddy\\'s lack of understanding of how Toyland works. Other times it is because of a case of mistaken identity, Mr. Plod is generally long-suffering towards Noddy and Noddy likes Mr. Plod and frequently goes out of his way to help him. Mr. Plod often catches the mischief makers on his police bicycle, by blowing his whistle and shouting \"Halt in the name of Plod!!\" before locking the culprits up in his jail.'"
      ]
     },
     "execution_count": 45,
     "metadata": {},
     "output_type": "execute_result"
    }
   ],
   "source": [
    "# Reading the file.\n",
    "x='C:\\\\Users\\\\Admin\\\\Downloads\\\\noddy.txt'\n",
    "file = open(x,'r')  # r --> read model only\n",
    "content=file.read()\n",
    "content"
   ]
  },
  {
   "cell_type": "code",
   "execution_count": 2,
   "id": "0d6d66a6-ce55-49b8-8c8a-3a55113e1f79",
   "metadata": {},
   "outputs": [
    {
     "name": "stdout",
     "output_type": "stream",
     "text": [
      "The first book explains Noddy's origins. He is made by a woodcarver in a toy shop but runs away after the man begins to make a wooden lion, which scares Noddy. As he wanders through the woods naked, penniless, and homeless, he meets Big Ears, a friendly brownie. Big Ears decides that Noddy is a toy and takes him to live in Toyland. He generously provides Noddy with a set of clothing and a house. While Noddy is quite happy to be a toy, the citizens of Toyland are not sure that he actually is one. They put Noddy on trial and examine whether he is a toy or an ornament. Eventually, Noddy is declared a toy, but still has to convince the court that he is a good toy. The judge accepts that Noddy is good after a doll tells the court that he saved her little girl from a lion, and he is allowed to stay in Toyland. Noddy gets his car in the second book. It is given to him after he helps solve a local mystery.\n",
      "\n",
      "The other toys can hear him coming by the distinctive \"Parp Parp\" sound of his car's horn and the jingle of the bell on his blue hat. Often he uses his car to visit all of the places in Toyland. When his taxi business is not doing so well, or when he needs help, Noddy turns to Big Ears. Big Ears will often lend him what he needs. On occasion, Noddy will allow people to make his head nod, in exchange for small items such as his morning milk.\n",
      "\n",
      "Noddy is kind and honest, but he often gets into trouble, either through his own misunderstandings or because someone, usually one of the naughty goblins Sly or Gobbo, has played a trick on him. He is very childlike in his understanding of the world and often becomes confused as a result. For example, in the first Noddy book, Noddy and Big Ears are building Noddy's house for one. Noddy suggests that they build the roof first, in case it rains. With no understanding of gravity or of the need for roof supports, this is perfectly logical to him. (In fact, this is not so silly. Some multi-story buildings start with the roof, which is then raised on hydraulic jacks, and the story beneath is built, and then the roof is raised again, and so on. This is the Upbrella method.) As the series continues, Noddy becomes wiser but without losing his charm and lovable naivety.\n",
      "\n",
      "Noddy's best friends are Big Ears, Tessie Bear, Bumpy Dog, and the Tubby Bears. Big Ears, who brought Noddy to Toyland, is the most important figure in his life. Whenever he faces serious peril, it tends to be Big Ears who comes to the rescue, one way or another, and it is invariably Big Ears to whom Noddy turns for support and reassurance. Big Ears is not so much a parental figure, but more like a guardian, or perhaps Noddy's attorney. While kind to Noddy, Big Ears has an intimidating presence and voice that makes him feared by goblins. He is capable of facing down wizards with his own spells, and is able to plead Noddy's case to Mr. Plod, the local policeman, when Noddy finds himself in legal peril. On rare occasions, however, Big Ears finds himself in trouble, in which case Noddy comes to his aid. Big Ears and Noddy have rarely quarreled seriously. Examples of such quarrels are when Big Ears harshly scolded the very sensitive Tessie Bear for failing to control her dog and when Noddy ran his car into Big Ears's clothes post and then drove away, dragging Big Ears's clean washing behind him.\n",
      "\n",
      "Tessie is a gentle-hearted, gold bear who often wears a bonnet with flowers and a skirt. She is young like Noddy, and very loving towards all of her friends and neighbours. Bumpy Dog is Tessie's pet. He loves to run up and \"bump\" people over. Noddy frequently gets annoyed with Bumpy but still likes him. Whenever Noddy threatens Bumpy, Tessie gets upset, and sometimes even begins to cry. The Tubby Bears live next door to Noddy. They are gold and chubby teddy bears. Mr. and Mrs. Tubby Bear frequently help Noddy. It is clear that Mr. and Mrs. Tubby Bear are the superiors of Noddy, as if he were a child. Their first names are never mentioned and Noddy always refers to them as Mr. and Mrs. They have one son, also named Tubby, who is occasionally referred to as Master Tubby. Tubby is naughty and is usually in trouble for breaking rules, being rude, or doing something wrong. Noddy often attempts to scold or punish Tubby, with little result. On one occasion, Tubby gets tired of always being bossed around and being punished and decides to run away to sea. Noddy and Bumpy accidentally join with him. By the end of the journey, Tubby misses his parents and brings them back presents from his trip, as an apology.\n",
      "\n",
      "Noddy has many run-ins with Mr. Plod. Some are caused by Noddy's lack of understanding of how Toyland works. Other times it is because of a case of mistaken identity, Mr. Plod is generally long-suffering towards Noddy and Noddy likes Mr. Plod and frequently goes out of his way to help him. Mr. Plod often catches the mischief makers on his police bicycle, by blowing his whistle and shouting \"Halt in the name of Plod!!\" before locking the culprits up in his jail.\n"
     ]
    }
   ],
   "source": [
    "# print the same content like in the file then you use print fuction\n",
    "print(content)"
   ]
  },
  {
   "cell_type": "code",
   "execution_count": 3,
   "id": "2386b7e8-15ac-4427-8885-d8492f3e9ed3",
   "metadata": {},
   "outputs": [
    {
     "data": {
      "text/plain": [
       "5028"
      ]
     },
     "execution_count": 3,
     "metadata": {},
     "output_type": "execute_result"
    }
   ],
   "source": [
    "len(content)  # including white space"
   ]
  },
  {
   "cell_type": "code",
   "execution_count": 5,
   "id": "f9064dd7-b797-4dab-9412-840695ec243a",
   "metadata": {},
   "outputs": [
    {
     "name": "stdout",
     "output_type": "stream",
     "text": [
      "C:\\Users\\Admin\\Downloads\\noddy.txt\n"
     ]
    }
   ],
   "source": [
    "# print path of the file\n",
    "print(file.name)"
   ]
  },
  {
   "cell_type": "code",
   "execution_count": 15,
   "id": "02a134f6-f966-43fb-9049-b9967d40b329",
   "metadata": {},
   "outputs": [
    {
     "name": "stdout",
     "output_type": "stream",
     "text": [
      "r\n"
     ]
    }
   ],
   "source": [
    "# print mode of the file.\n",
    "\n",
    "print(file.mode)"
   ]
  },
  {
   "cell_type": "code",
   "execution_count": 18,
   "id": "cacba2ba-9925-4520-9866-77c9c493ffc4",
   "metadata": {},
   "outputs": [
    {
     "name": "stdout",
     "output_type": "stream",
     "text": [
      "<class 'str'>\n"
     ]
    }
   ],
   "source": [
    "# print type of the file.\n",
    "print(type(x))"
   ]
  },
  {
   "cell_type": "code",
   "execution_count": 21,
   "id": "c53dafa8-2f59-4f9f-a8f9-45e9d01b8ac7",
   "metadata": {},
   "outputs": [
    {
     "name": "stdout",
     "output_type": "stream",
     "text": [
      "The first book explains Noddy's origins. He is made by a woodcarver in a toy shop but runs away after the man begins to make a wooden lion, which scares Noddy. As he wanders through the woods naked, penniless, and homeless, he meets Big Ears, a friendly brownie. Big Ears decides that Noddy is a toy and takes him to live in Toyland. He generously provides Noddy with a set of clothing and a house. While Noddy is quite happy to be a toy, the citizens of Toyland are not sure that he actually is one. They put Noddy on trial and examine whether he is a toy or an ornament. Eventually, Noddy is declared a toy, but still has to convince the court that he is a good toy. The judge accepts that Noddy is good after a doll tells the court that he saved her little girl from a lion, and he is allowed to stay in Toyland. Noddy gets his car in the second book. It is given to him after he helps solve a local mystery.\n",
      "\n",
      "The other toys can hear him coming by the distinctive \"Parp Parp\" sound of his car's horn and the jingle of the bell on his blue hat. Often he uses his car to visit all of the places in Toyland. When his taxi business is not doing so well, or when he needs help, Noddy turns to Big Ears. Big Ears will often lend him what he needs. On occasion, Noddy will allow people to make his head nod, in exchange for small items such as his morning milk.\n",
      "\n",
      "Noddy is kind and honest, but he often gets into trouble, either through his own misunderstandings or because someone, usually one of the naughty goblins Sly or Gobbo, has played a trick on him. He is very childlike in his understanding of the world and often becomes confused as a result. For example, in the first Noddy book, Noddy and Big Ears are building Noddy's house for one. Noddy suggests that they build the roof first, in case it rains. With no understanding of gravity or of the need for roof supports, this is perfectly logical to him. (In fact, this is not so silly. Some multi-story buildings start with the roof, which is then raised on hydraulic jacks, and the story beneath is built, and then the roof is raised again, and so on. This is the Upbrella method.) As the series continues, Noddy becomes wiser but without losing his charm and lovable naivety.\n",
      "\n",
      "Noddy's best friends are Big Ears, Tessie Bear, Bumpy Dog, and the Tubby Bears. Big Ears, who brought Noddy to Toyland, is the most important figure in his life. Whenever he faces serious peril, it tends to be Big Ears who comes to the rescue, one way or another, and it is invariably Big Ears to whom Noddy turns for support and reassurance. Big Ears is not so much a parental figure, but more like a guardian, or perhaps Noddy's attorney. While kind to Noddy, Big Ears has an intimidating presence and voice that makes him feared by goblins. He is capable of facing down wizards with his own spells, and is able to plead Noddy's case to Mr. Plod, the local policeman, when Noddy finds himself in legal peril. On rare occasions, however, Big Ears finds himself in trouble, in which case Noddy comes to his aid. Big Ears and Noddy have rarely quarreled seriously. Examples of such quarrels are when Big Ears harshly scolded the very sensitive Tessie Bear for failing to control her dog and when Noddy ran his car into Big Ears's clothes post and then drove away, dragging Big Ears's clean washing behind him.\n",
      "\n",
      "Tessie is a gentle-hearted, gold bear who often wears a bonnet with flowers and a skirt. She is young like Noddy, and very loving towards all of her friends and neighbours. Bumpy Dog is Tessie's pet. He loves to run up and \"bump\" people over. Noddy frequently gets annoyed with Bumpy but still likes him. Whenever Noddy threatens Bumpy, Tessie gets upset, and sometimes even begins to cry. The Tubby Bears live next door to Noddy. They are gold and chubby teddy bears. Mr. and Mrs. Tubby Bear frequently help Noddy. It is clear that Mr. and Mrs. Tubby Bear are the superiors of Noddy, as if he were a child. Their first names are never mentioned and Noddy always refers to them as Mr. and Mrs. They have one son, also named Tubby, who is occasionally referred to as Master Tubby. Tubby is naughty and is usually in trouble for breaking rules, being rude, or doing something wrong. Noddy often attempts to scold or punish Tubby, with little result. On one occasion, Tubby gets tired of always being bossed around and being punished and decides to run away to sea. Noddy and Bumpy accidentally join with him. By the end of the journey, Tubby misses his parents and brings them back presents from his trip, as an apology.\n",
      "\n",
      "Noddy has many run-ins with Mr. Plod. Some are caused by Noddy's lack of understanding of how Toyland works. Other times it is because of a case of mistaken identity, Mr. Plod is generally long-suffering towards Noddy and Noddy likes Mr. Plod and frequently goes out of his way to help him. Mr. Plod often catches the mischief makers on his police bicycle, by blowing his whistle and shouting \"Halt in the name of Plod!!\" before locking the culprits up in his jail.\n"
     ]
    }
   ],
   "source": [
    "# another method of open the file.\n",
    "\n",
    "with open(x,'r') as sahil:\n",
    "    print(sahil.read())"
   ]
  },
  {
   "cell_type": "code",
   "execution_count": 23,
   "id": "0f774c1c-23f3-4025-a6a8-d69fe8811400",
   "metadata": {},
   "outputs": [
    {
     "name": "stdout",
     "output_type": "stream",
     "text": [
      "The first \n",
      "book expla\n"
     ]
    }
   ],
   "source": [
    "with open(x,'r') as f:\n",
    "    print(f.read(10))   # it return 10 character from the file.\n",
    "    print(f.read(10))  # it return 10 character after printed before"
   ]
  },
  {
   "cell_type": "code",
   "execution_count": 32,
   "id": "7aead089-2993-4ace-899c-3c155df49dcb",
   "metadata": {},
   "outputs": [
    {
     "name": "stdout",
     "output_type": "stream",
     "text": [
      "The first book explains Noddy's origins. He is made by a woodcarver in a toy shop but runs away after the man begins to make a wooden lion, which scares Noddy. As he wanders through the woods naked, penniless, and homeless, he meets Big Ears, a friendly brownie. Big Ears decides that Noddy is a toy and takes him to live in Toyland. He generously provides Noddy with a set of clothing and a house. While Noddy is quite happy to be a toy, the citizens of Toyland are not sure that he actually is one. They put Noddy on trial and examine whether he is a toy or an ornament. Eventually, Noddy is declared a toy, but still has to convince the court that he is a good toy. The judge accepts that Noddy is good after a doll tells the court that he saved her little girl from a lion, and he is allowed to stay in Toyland. Noddy gets his car in the second book. It is given to him after he helps solve a local mystery.\n",
      "\n",
      "\n",
      "\n",
      "The other toys can hear him coming by the distinctive \"Parp Parp\" sound of his car's horn and the jingle of the bell on his blue hat. Often he uses his car to visit all of the places in Toyland. When his taxi business is not doing so well, or when he needs help, Noddy turns to Big Ears. Big Ears will often lend him what he needs. On occasion, Noddy will allow people to make his head nod, in exchange for small items such as his morning milk.\n",
      "\n",
      "\n",
      "\n",
      "Noddy is kind and honest, but he often gets into trouble, either through his own misunderstandings or because someone, usually one of the naughty goblins Sly or Gobbo, has played a trick on him. He is very childlike in his understanding of the world and often becomes confused as a result. For example, in the first Noddy book, Noddy and Big Ears are building Noddy's house for one. Noddy suggests that they build the roof first, in case it rains. With no understanding of gravity or of the need for roof supports, this is perfectly logical to him. (In fact, this is not so silly. Some multi-story buildings start with the roof, which is then raised on hydraulic jacks, and the story beneath is built, and then the roof is raised again, and so on. This is the Upbrella method.) As the series continues, Noddy becomes wiser but without losing his charm and lovable naivety.\n",
      "\n"
     ]
    }
   ],
   "source": [
    "# readline() it returns one line from the file content.\n",
    "with open(x,'r') as f:\n",
    "    print(f.readline())\n",
    "    print(f.readline())\n",
    "    print(f.readline())\n",
    "    print(f.readline())\n",
    "    print(f.readline())"
   ]
  },
  {
   "cell_type": "code",
   "execution_count": 33,
   "id": "faf5b397-8d1b-49bf-98ca-cbe710826ec5",
   "metadata": {},
   "outputs": [
    {
     "name": "stdout",
     "output_type": "stream",
     "text": [
      "[\"The first book explains Noddy's origins. He is made by a woodcarver in a toy shop but runs away after the man begins to make a wooden lion, which scares Noddy. As he wanders through the woods naked, penniless, and homeless, he meets Big Ears, a friendly brownie. Big Ears decides that Noddy is a toy and takes him to live in Toyland. He generously provides Noddy with a set of clothing and a house. While Noddy is quite happy to be a toy, the citizens of Toyland are not sure that he actually is one. They put Noddy on trial and examine whether he is a toy or an ornament. Eventually, Noddy is declared a toy, but still has to convince the court that he is a good toy. The judge accepts that Noddy is good after a doll tells the court that he saved her little girl from a lion, and he is allowed to stay in Toyland. Noddy gets his car in the second book. It is given to him after he helps solve a local mystery.\\n\", '\\n', 'The other toys can hear him coming by the distinctive \"Parp Parp\" sound of his car\\'s horn and the jingle of the bell on his blue hat. Often he uses his car to visit all of the places in Toyland. When his taxi business is not doing so well, or when he needs help, Noddy turns to Big Ears. Big Ears will often lend him what he needs. On occasion, Noddy will allow people to make his head nod, in exchange for small items such as his morning milk.\\n', '\\n', \"Noddy is kind and honest, but he often gets into trouble, either through his own misunderstandings or because someone, usually one of the naughty goblins Sly or Gobbo, has played a trick on him. He is very childlike in his understanding of the world and often becomes confused as a result. For example, in the first Noddy book, Noddy and Big Ears are building Noddy's house for one. Noddy suggests that they build the roof first, in case it rains. With no understanding of gravity or of the need for roof supports, this is perfectly logical to him. (In fact, this is not so silly. Some multi-story buildings start with the roof, which is then raised on hydraulic jacks, and the story beneath is built, and then the roof is raised again, and so on. This is the Upbrella method.) As the series continues, Noddy becomes wiser but without losing his charm and lovable naivety.\\n\", '\\n', \"Noddy's best friends are Big Ears, Tessie Bear, Bumpy Dog, and the Tubby Bears. Big Ears, who brought Noddy to Toyland, is the most important figure in his life. Whenever he faces serious peril, it tends to be Big Ears who comes to the rescue, one way or another, and it is invariably Big Ears to whom Noddy turns for support and reassurance. Big Ears is not so much a parental figure, but more like a guardian, or perhaps Noddy's attorney. While kind to Noddy, Big Ears has an intimidating presence and voice that makes him feared by goblins. He is capable of facing down wizards with his own spells, and is able to plead Noddy's case to Mr. Plod, the local policeman, when Noddy finds himself in legal peril. On rare occasions, however, Big Ears finds himself in trouble, in which case Noddy comes to his aid. Big Ears and Noddy have rarely quarreled seriously. Examples of such quarrels are when Big Ears harshly scolded the very sensitive Tessie Bear for failing to control her dog and when Noddy ran his car into Big Ears's clothes post and then drove away, dragging Big Ears's clean washing behind him.\\n\", '\\n', 'Tessie is a gentle-hearted, gold bear who often wears a bonnet with flowers and a skirt. She is young like Noddy, and very loving towards all of her friends and neighbours. Bumpy Dog is Tessie\\'s pet. He loves to run up and \"bump\" people over. Noddy frequently gets annoyed with Bumpy but still likes him. Whenever Noddy threatens Bumpy, Tessie gets upset, and sometimes even begins to cry. The Tubby Bears live next door to Noddy. They are gold and chubby teddy bears. Mr. and Mrs. Tubby Bear frequently help Noddy. It is clear that Mr. and Mrs. Tubby Bear are the superiors of Noddy, as if he were a child. Their first names are never mentioned and Noddy always refers to them as Mr. and Mrs. They have one son, also named Tubby, who is occasionally referred to as Master Tubby. Tubby is naughty and is usually in trouble for breaking rules, being rude, or doing something wrong. Noddy often attempts to scold or punish Tubby, with little result. On one occasion, Tubby gets tired of always being bossed around and being punished and decides to run away to sea. Noddy and Bumpy accidentally join with him. By the end of the journey, Tubby misses his parents and brings them back presents from his trip, as an apology.\\n', '\\n', 'Noddy has many run-ins with Mr. Plod. Some are caused by Noddy\\'s lack of understanding of how Toyland works. Other times it is because of a case of mistaken identity, Mr. Plod is generally long-suffering towards Noddy and Noddy likes Mr. Plod and frequently goes out of his way to help him. Mr. Plod often catches the mischief makers on his police bicycle, by blowing his whistle and shouting \"Halt in the name of Plod!!\" before locking the culprits up in his jail.']\n"
     ]
    }
   ],
   "source": [
    "# readlines:  It retrurn the whole content from the file in the list.\n",
    "with open(x,'r') as f:\n",
    "    print(f.readlines())"
   ]
  },
  {
   "cell_type": "code",
   "execution_count": 36,
   "id": "b764d72d-3712-4d42-aae5-62982b7a4b51",
   "metadata": {},
   "outputs": [
    {
     "name": "stdout",
     "output_type": "stream",
     "text": [
      "Line Number: 1 : The first book explains Noddy's origins. He is made by a woodcarver in a toy shop but runs away after the man begins to make a wooden lion, which scares Noddy. As he wanders through the woods naked, penniless, and homeless, he meets Big Ears, a friendly brownie. Big Ears decides that Noddy is a toy and takes him to live in Toyland. He generously provides Noddy with a set of clothing and a house. While Noddy is quite happy to be a toy, the citizens of Toyland are not sure that he actually is one. They put Noddy on trial and examine whether he is a toy or an ornament. Eventually, Noddy is declared a toy, but still has to convince the court that he is a good toy. The judge accepts that Noddy is good after a doll tells the court that he saved her little girl from a lion, and he is allowed to stay in Toyland. Noddy gets his car in the second book. It is given to him after he helps solve a local mystery.\n",
      "\n",
      "Line Number: 2 : \n",
      "\n",
      "Line Number: 3 : The other toys can hear him coming by the distinctive \"Parp Parp\" sound of his car's horn and the jingle of the bell on his blue hat. Often he uses his car to visit all of the places in Toyland. When his taxi business is not doing so well, or when he needs help, Noddy turns to Big Ears. Big Ears will often lend him what he needs. On occasion, Noddy will allow people to make his head nod, in exchange for small items such as his morning milk.\n",
      "\n",
      "Line Number: 4 : \n",
      "\n",
      "Line Number: 5 : Noddy is kind and honest, but he often gets into trouble, either through his own misunderstandings or because someone, usually one of the naughty goblins Sly or Gobbo, has played a trick on him. He is very childlike in his understanding of the world and often becomes confused as a result. For example, in the first Noddy book, Noddy and Big Ears are building Noddy's house for one. Noddy suggests that they build the roof first, in case it rains. With no understanding of gravity or of the need for roof supports, this is perfectly logical to him. (In fact, this is not so silly. Some multi-story buildings start with the roof, which is then raised on hydraulic jacks, and the story beneath is built, and then the roof is raised again, and so on. This is the Upbrella method.) As the series continues, Noddy becomes wiser but without losing his charm and lovable naivety.\n",
      "\n",
      "Line Number: 6 : \n",
      "\n",
      "Line Number: 7 : Noddy's best friends are Big Ears, Tessie Bear, Bumpy Dog, and the Tubby Bears. Big Ears, who brought Noddy to Toyland, is the most important figure in his life. Whenever he faces serious peril, it tends to be Big Ears who comes to the rescue, one way or another, and it is invariably Big Ears to whom Noddy turns for support and reassurance. Big Ears is not so much a parental figure, but more like a guardian, or perhaps Noddy's attorney. While kind to Noddy, Big Ears has an intimidating presence and voice that makes him feared by goblins. He is capable of facing down wizards with his own spells, and is able to plead Noddy's case to Mr. Plod, the local policeman, when Noddy finds himself in legal peril. On rare occasions, however, Big Ears finds himself in trouble, in which case Noddy comes to his aid. Big Ears and Noddy have rarely quarreled seriously. Examples of such quarrels are when Big Ears harshly scolded the very sensitive Tessie Bear for failing to control her dog and when Noddy ran his car into Big Ears's clothes post and then drove away, dragging Big Ears's clean washing behind him.\n",
      "\n",
      "Line Number: 8 : \n",
      "\n",
      "Line Number: 9 : Tessie is a gentle-hearted, gold bear who often wears a bonnet with flowers and a skirt. She is young like Noddy, and very loving towards all of her friends and neighbours. Bumpy Dog is Tessie's pet. He loves to run up and \"bump\" people over. Noddy frequently gets annoyed with Bumpy but still likes him. Whenever Noddy threatens Bumpy, Tessie gets upset, and sometimes even begins to cry. The Tubby Bears live next door to Noddy. They are gold and chubby teddy bears. Mr. and Mrs. Tubby Bear frequently help Noddy. It is clear that Mr. and Mrs. Tubby Bear are the superiors of Noddy, as if he were a child. Their first names are never mentioned and Noddy always refers to them as Mr. and Mrs. They have one son, also named Tubby, who is occasionally referred to as Master Tubby. Tubby is naughty and is usually in trouble for breaking rules, being rude, or doing something wrong. Noddy often attempts to scold or punish Tubby, with little result. On one occasion, Tubby gets tired of always being bossed around and being punished and decides to run away to sea. Noddy and Bumpy accidentally join with him. By the end of the journey, Tubby misses his parents and brings them back presents from his trip, as an apology.\n",
      "\n",
      "Line Number: 10 : \n",
      "\n",
      "Line Number: 11 : Noddy has many run-ins with Mr. Plod. Some are caused by Noddy's lack of understanding of how Toyland works. Other times it is because of a case of mistaken identity, Mr. Plod is generally long-suffering towards Noddy and Noddy likes Mr. Plod and frequently goes out of his way to help him. Mr. Plod often catches the mischief makers on his police bicycle, by blowing his whistle and shouting \"Halt in the name of Plod!!\" before locking the culprits up in his jail.\n"
     ]
    }
   ],
   "source": [
    "# file open with loop [for loop]\n",
    "\n",
    "with open(x,'r') as f:\n",
    "    line_number=1\n",
    "    for i in f:\n",
    "        print('Line Number:',line_number,':',i)\n",
    "        line_number+=1"
   ]
  },
  {
   "cell_type": "code",
   "execution_count": 43,
   "id": "8e2d1bfd-d3a0-483b-abb9-56966c3e11f8",
   "metadata": {},
   "outputs": [
    {
     "name": "stdout",
     "output_type": "stream",
     "text": [
      "The first book explains Noddy's origins. He is made by a woodcarver in a toy shop but runs away after the man begins to make a wooden lion, which scares Noddy. As he wanders through the woods naked, penniless, and homeless, he meets Big Ears, a friendly brownie. Big Ears decides that Noddy is a toy and takes him to live in Toyland. He generously provides Noddy with a set of clothing and a house. While Noddy is quite happy to be a toy, the citizens of Toyland are not sure that he actually is one. They put Noddy on trial and examine whether he is a toy or an ornament. Eventually, Noddy is declared a toy, but still has to convince the court that he is a good toy. The judge accepts that Noddy is good after a doll tells the court that he saved her little girl from a lion, and he is allowed to stay in Toyland. Noddy gets his car in the second book. It is given to him after he helps solve a local mystery.\n",
      "\n",
      "The other toys can hear him coming by the distinctive \"Parp Parp\" sound of his car's horn and the jingle of the bell on his blue hat. Often he uses his car to visit all of the places in Toyland. When his taxi business is not doing so well, or when he needs help, Noddy turns to Big Ears. Big Ears will often lend him what he needs. On occasion, Noddy will allow people to make his head nod, in exchange for small items such as his morning milk.\n",
      "\n",
      "Noddy is kind and honest, but he often gets into trouble, either through his own misunderstandings or because someone, usually one of the naughty goblins Sly or Gobbo, has played a trick on him. He is very childlike in his understanding of the world and often becomes confused as a result. For example, in the first Noddy book, Noddy and Big Ears are building Noddy's house for one. Noddy suggests that they build the roof first, in case it rains. With no understanding of gravity or of the need for roof supports, this is perfectly logical to him. (In fact, this is not so silly. Some multi-story buildings start with the roof, which is then raised on hydraulic jacks, and the story beneath is built, and then the roof is raised again, and so on. This is the Upbrella method.) As the series continues, Noddy becomes wiser but without losing his charm and lovable naivety.\n",
      "\n",
      "Noddy's best friends are Big Ears, Tessie Bear, Bumpy Dog, and the Tubby Bears. Big Ears, who brought Noddy to Toyland, is the most important figure in his life. Whenever he faces serious peril, it tends to be Big Ears who comes to the rescue, one way or another, and it is invariably Big Ears to whom Noddy turns for support and reassurance. Big Ears is not so much a parental figure, but more like a guardian, or perhaps Noddy's attorney. While kind to Noddy, Big Ears has an intimidating presence and voice that makes him feared by goblins. He is capable of facing down wizards with his own spells, and is able to plead Noddy's case to Mr. Plod, the local policeman, when Noddy finds himself in legal peril. On rare occasions, however, Big Ears finds himself in trouble, in which case Noddy comes to his aid. Big Ears and Noddy have rarely quarreled seriously. Examples of such quarrels are when Big Ears harshly scolded the very sensitive Tessie Bear for failing to control her dog and when Noddy ran his car into Big Ears's clothes post and then drove away, dragging Big Ears's clean washing behind him.\n",
      "\n",
      "Tessie is a gentle-hearted, gold bear who often wears a bonnet with flowers and a skirt. She is young like Noddy, and very loving towards all of her friends and neighbours. Bumpy Dog is Tessie's pet. He loves to run up and \"bump\" people over. Noddy frequently gets annoyed with Bumpy but still likes him. Whenever Noddy threatens Bumpy, Tessie gets upset, and sometimes even begins to cry. The Tubby Bears live next door to Noddy. They are gold and chubby teddy bears. Mr. and Mrs. Tubby Bear frequently help Noddy. It is clear that Mr. and Mrs. Tubby Bear are the superiors of Noddy, as if he were a child. Their first names are never mentioned and Noddy always refers to them as Mr. and Mrs. They have one son, also named Tubby, who is occasionally referred to as Master Tubby. Tubby is naughty and is usually in trouble for breaking rules, being rude, or doing something wrong. Noddy often attempts to scold or punish Tubby, with little result. On one occasion, Tubby gets tired of always being bossed around and being punished and decides to run away to sea. Noddy and Bumpy accidentally join with him. By the end of the journey, Tubby misses his parents and brings them back presents from his trip, as an apology.\n",
      "\n",
      "Noddy has many run-ins with Mr. Plod. Some are caused by Noddy's lack of understanding of how Toyland works. Other times it is because of a case of mistaken identity, Mr. Plod is generally long-suffering towards Noddy and Noddy likes Mr. Plod and frequently goes out of his way to help him. Mr. Plod often catches the mischief makers on his police bicycle, by blowing his whistle and shouting \"Halt in the name of Plod!!\" before locking the culprits up in his jail."
     ]
    }
   ],
   "source": [
    "# how to open this file using function\n",
    "\n",
    "def file_open():\n",
    "    file=open('C:\\\\Users\\\\Admin\\\\Downloads\\\\noddy.txt')\n",
    "    for i in file:\n",
    "        print(i,end='')\n",
    "    file.close()\n",
    "\n",
    "file_open()"
   ]
  },
  {
   "cell_type": "code",
   "execution_count": 47,
   "id": "a83d6751-1fa2-4746-9f4b-129be5e93566",
   "metadata": {},
   "outputs": [],
   "source": [
    "# close the file.\n",
    "\n",
    "file.close()"
   ]
  },
  {
   "cell_type": "code",
   "execution_count": 49,
   "id": "333992ef-54ea-4c9b-94e0-8b0ad41f4f04",
   "metadata": {},
   "outputs": [
    {
     "data": {
      "text/plain": [
       "True"
      ]
     },
     "execution_count": 49,
     "metadata": {},
     "output_type": "execute_result"
    }
   ],
   "source": [
    "# verification file is open or not\n",
    "file.closed"
   ]
  },
  {
   "cell_type": "code",
   "execution_count": 52,
   "id": "d753d3a0-f93e-4b03-99f1-e7f193d8a7e3",
   "metadata": {},
   "outputs": [
    {
     "name": "stdout",
     "output_type": "stream",
     "text": [
      "The first book explains Noddy's origins. He is made by a woodcarver in a toy shop but runs away after the man begins to make a wooden lion, which scares Noddy. As he wanders through the woods naked, penniless, and homeless, he meets Big Ears, a friendly brownie. Big Ears decides that Noddy is a toy and takes him to live in Toyland. He generously provides Noddy with a set of clothing and a house. While Noddy is quite happy to be a toy, the citizens of Toyland are not sure that he actually is one. They put Noddy on trial and examine whether he is a toy or an ornament. Eventually, Noddy is declared a toy, but still has to convince the court that he is a good toy. The judge accepts that Noddy is good after a doll tells the court that he saved her little girl from a lion, and he is allowed to stay in Toyland. Noddy gets his car in the second book. It is given to him after he helps solve a local mystery.\n",
      "\n",
      "The other toys can hear him coming by the distinctive \"Parp Parp\" sound of his car's horn and the jingle of the bell on his blue hat. Often he uses his car to visit all of the places in Toyland. When his taxi business is not doing so well, or when he needs help, Noddy turns to Big Ears. Big Ears will often lend him what he needs. On occasion, Noddy will allow people to make his head nod, in exchange for small items such as his morning milk.\n",
      "\n",
      "Noddy is kind and honest, but he often gets into trouble, either through his own misunderstandings or because someone, usually one of the naughty goblins Sly or Gobbo, has played a trick on him. He is very childlike in his understanding of the world and often becomes confused as a result. For example, in the first Noddy book, Noddy and Big Ears are building Noddy's house for one. Noddy suggests that they build the roof first, in case it rains. With no understanding of gravity or of the need for roof supports, this is perfectly logical to him. (In fact, this is not so silly. Some multi-story buildings start with the roof, which is then raised on hydraulic jacks, and the story beneath is built, and then the roof is raised again, and so on. This is the Upbrella method.) As the series continues, Noddy becomes wiser but without losing his charm and lovable naivety.\n",
      "\n",
      "Noddy's best friends are Big Ears, Tessie Bear, Bumpy Dog, and the Tubby Bears. Big Ears, who brought Noddy to Toyland, is the most important figure in his life. Whenever he faces serious peril, it tends to be Big Ears who comes to the rescue, one way or another, and it is invariably Big Ears to whom Noddy turns for support and reassurance. Big Ears is not so much a parental figure, but more like a guardian, or perhaps Noddy's attorney. While kind to Noddy, Big Ears has an intimidating presence and voice that makes him feared by goblins. He is capable of facing down wizards with his own spells, and is able to plead Noddy's case to Mr. Plod, the local policeman, when Noddy finds himself in legal peril. On rare occasions, however, Big Ears finds himself in trouble, in which case Noddy comes to his aid. Big Ears and Noddy have rarely quarreled seriously. Examples of such quarrels are when Big Ears harshly scolded the very sensitive Tessie Bear for failing to control her dog and when Noddy ran his car into Big Ears's clothes post and then drove away, dragging Big Ears's clean washing behind him.\n",
      "\n",
      "Tessie is a gentle-hearted, gold bear who often wears a bonnet with flowers and a skirt. She is young like Noddy, and very loving towards all of her friends and neighbours. Bumpy Dog is Tessie's pet. He loves to run up and \"bump\" people over. Noddy frequently gets annoyed with Bumpy but still likes him. Whenever Noddy threatens Bumpy, Tessie gets upset, and sometimes even begins to cry. The Tubby Bears live next door to Noddy. They are gold and chubby teddy bears. Mr. and Mrs. Tubby Bear frequently help Noddy. It is clear that Mr. and Mrs. Tubby Bear are the superiors of Noddy, as if he were a child. Their first names are never mentioned and Noddy always refers to them as Mr. and Mrs. They have one son, also named Tubby, who is occasionally referred to as Master Tubby. Tubby is naughty and is usually in trouble for breaking rules, being rude, or doing something wrong. Noddy often attempts to scold or punish Tubby, with little result. On one occasion, Tubby gets tired of always being bossed around and being punished and decides to run away to sea. Noddy and Bumpy accidentally join with him. By the end of the journey, Tubby misses his parents and brings them back presents from his trip, as an apology.\n",
      "\n",
      "Noddy has many run-ins with Mr. Plod. Some are caused by Noddy's lack of understanding of how Toyland works. Other times it is because of a case of mistaken identity, Mr. Plod is generally long-suffering towards Noddy and Noddy likes Mr. Plod and frequently goes out of his way to help him. Mr. Plod often catches the mischief makers on his police bicycle, by blowing his whistle and shouting \"Halt in the name of Plod!!\" before locking the culprits up in his jail."
     ]
    }
   ],
   "source": [
    "def file_open():\n",
    "    file=open('C:\\\\Users\\\\Admin\\\\Downloads\\\\noddy.txt')\n",
    "    for i in file:\n",
    "        print(i,end='')\n",
    "    file.close()\n",
    "\n",
    "file_open()"
   ]
  },
  {
   "cell_type": "code",
   "execution_count": 60,
   "id": "f9e387fe-cc8e-4459-9bea-00f5b73ff5ec",
   "metadata": {},
   "outputs": [],
   "source": [
    "# write a function in PYthon to count the number of lines from a text file which is not starting \n",
    "# with an alphabet \"T\".\n",
    "\n",
    "    "
   ]
  },
  {
   "cell_type": "code",
   "execution_count": null,
   "id": "8836ada0-a9f3-4c3d-8c73-c4950c4c59d2",
   "metadata": {},
   "outputs": [],
   "source": []
  }
 ],
 "metadata": {
  "kernelspec": {
   "display_name": "Python 3 (ipykernel)",
   "language": "python",
   "name": "python3"
  },
  "language_info": {
   "codemirror_mode": {
    "name": "ipython",
    "version": 3
   },
   "file_extension": ".py",
   "mimetype": "text/x-python",
   "name": "python",
   "nbconvert_exporter": "python",
   "pygments_lexer": "ipython3",
   "version": "3.12.2"
  }
 },
 "nbformat": 4,
 "nbformat_minor": 5
}
