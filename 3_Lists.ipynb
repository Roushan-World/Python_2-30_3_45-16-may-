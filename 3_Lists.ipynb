{
 "cells": [
  {
   "cell_type": "markdown",
   "id": "613a1cfb-db8e-4bc7-870e-3e28560c8bff",
   "metadata": {},
   "source": [
    "# 3. Lists in Python\n",
    "\n",
    " * __Lists are ordered.__\n",
    " * __Lists can contains any arbitrary objects.__\n",
    " * __List elements can be nested to arbitrary depth.__\n",
    " * __Lists are mutable.__\n",
    " * __Lists are dynamic.__"
   ]
  },
  {
   "cell_type": "code",
   "execution_count": 1,
   "id": "6bd07144-13c4-4689-87c8-c3e55af6fbce",
   "metadata": {},
   "outputs": [
    {
     "data": {
      "text/plain": [
       "['Python', 25, 2024]"
      ]
     },
     "execution_count": 1,
     "metadata": {},
     "output_type": "execute_result"
    }
   ],
   "source": [
    "# Creating a list\n",
    "nlis=[\"Python\",25,2024]\n",
    "nlis"
   ]
  },
  {
   "cell_type": "code",
   "execution_count": 2,
   "id": "248e1e0d-67e1-4561-bff1-bb281da49e89",
   "metadata": {},
   "outputs": [
    {
     "name": "stdout",
     "output_type": "stream",
     "text": [
      "['Python']\n",
      "<class 'list'>\n"
     ]
    }
   ],
   "source": [
    "x=['Python']\n",
    "print(x)\n",
    "print(type(x))"
   ]
  },
  {
   "cell_type": "code",
   "execution_count": 5,
   "id": "74d38dd7-42f9-4c4c-973a-3ec7caf174a7",
   "metadata": {},
   "outputs": [
    {
     "name": "stdout",
     "output_type": "stream",
     "text": [
      "<class 'list'>\n"
     ]
    }
   ],
   "source": [
    "y=['Python',\"Hello world\",3.14,10,20,True,False]\n",
    "print(type(y))"
   ]
  },
  {
   "cell_type": "code",
   "execution_count": 14,
   "id": "2cf2fe7a-e3fb-434c-92fd-09bdf9e42437",
   "metadata": {},
   "outputs": [
    {
     "name": "stdout",
     "output_type": "stream",
     "text": [
      "['Python', 'Hello world', 3.14, 10, 20, True, False]\n",
      "<class 'list'>\n",
      "Python\n",
      "Hello world\n",
      "3.14\n",
      "10\n",
      "20\n",
      "True\n",
      "False\n"
     ]
    }
   ],
   "source": [
    "print(y)\n",
    "print(type(y))\n",
    "# positive indexing in list\n",
    "print(y[0])\n",
    "print(y[1])\n",
    "\n",
    "print(y[2])\n",
    "print(y[3])\n",
    "print(y[4])\n",
    "print(y[5])\n",
    "print(y[6])"
   ]
  },
  {
   "cell_type": "code",
   "execution_count": 20,
   "id": "44b7a118-2185-4e86-bcb6-347f1cee328c",
   "metadata": {},
   "outputs": [
    {
     "name": "stdout",
     "output_type": "stream",
     "text": [
      "['Python', 'Hello world', 3.14, 10, 20, True, False]\n",
      "False\n",
      "True\n",
      "20\n",
      "10\n",
      "3.14\n",
      "Hello world\n",
      "Python\n"
     ]
    }
   ],
   "source": [
    "# Negative indexing\n",
    "print(y)\n",
    "print(y[-1])\n",
    "print(y[-2])\n",
    "print(y[-3])\n",
    "print(y[-4])\n",
    "print(y[-5])\n",
    "print(y[-6])\n",
    "print(y[-7])"
   ]
  },
  {
   "cell_type": "markdown",
   "id": "c967faeb-6604-402c-85c3-8691498d19de",
   "metadata": {},
   "source": [
    "# What can content a list?\n",
    "\n",
    " * __Strings__\n",
    " * __Floats__\n",
    " * __Integer__\n",
    " * __Boolean__\n",
    " * __Nested List__\n",
    " * __Nested Tuple__\n",
    " * __Other data Structures__"
   ]
  },
  {
   "cell_type": "code",
   "execution_count": 21,
   "id": "c8255f52-cc7c-4044-b4fd-8129cee498e6",
   "metadata": {},
   "outputs": [
    {
     "data": {
      "text/plain": [
       "['Hello World',\n",
       " 3.147,\n",
       " 10,\n",
       " True,\n",
       " False,\n",
       " [10, 20, 30],\n",
       " ('Hello Python', 50, 100, 123.23),\n",
       " {1, 2, 10, 100, 350},\n",
       " {'a': 'Hello Pune', 'b': 50}]"
      ]
     },
     "execution_count": 21,
     "metadata": {},
     "output_type": "execute_result"
    }
   ],
   "source": [
    "list1=[\"Hello World\",3.147,10,True,False,[10,20,30],('Hello Python',50,100,123.23),{1,2,350,10,100},{'a':'Hello Pune','b':50}]\n",
    "list1"
   ]
  },
  {
   "cell_type": "code",
   "execution_count": 1,
   "id": "3271938c-4b44-487e-81e8-ccff043f2ab8",
   "metadata": {},
   "outputs": [
    {
     "data": {
      "text/plain": [
       "['Hello World',\n",
       " 3.147,\n",
       " 10,\n",
       " True,\n",
       " False,\n",
       " [10, 20, 30],\n",
       " ('Hello Python', 50, 100, 123.23),\n",
       " {1, 2, 10, 100, 350},\n",
       " {'a': 'Hello Pune', 'b': 50}]"
      ]
     },
     "execution_count": 1,
     "metadata": {},
     "output_type": "execute_result"
    }
   ],
   "source": [
    "list1=[\"Hello World\",3.147,10,True,False,[10,20,30],('Hello Python',50,100,123.23),{1,2,350,10,100},{'a':'Hello Pune','b':50}]\n",
    "list1"
   ]
  },
  {
   "cell_type": "code",
   "execution_count": 2,
   "id": "e652af5e-6ecb-4bc7-810d-3307c1d7e31a",
   "metadata": {},
   "outputs": [
    {
     "data": {
      "text/plain": [
       "['Hello World',\n",
       " 3.147,\n",
       " 10,\n",
       " True,\n",
       " False,\n",
       " [10, 20, 30],\n",
       " ('Hello Python', 50, 100, 123.23),\n",
       " {1, 2, 10, 100, 350},\n",
       " {'a': 'Hello Pune', 'b': 50}]"
      ]
     },
     "execution_count": 2,
     "metadata": {},
     "output_type": "execute_result"
    }
   ],
   "source": [
    "#  slicing of list\n",
    "list1"
   ]
  },
  {
   "cell_type": "code",
   "execution_count": 5,
   "id": "49a1c682-7648-407a-ad01-c3a697a6a4af",
   "metadata": {},
   "outputs": [
    {
     "data": {
      "text/plain": [
       "['Hello World', 3.147, 10, True, False]"
      ]
     },
     "execution_count": 5,
     "metadata": {},
     "output_type": "execute_result"
    }
   ],
   "source": [
    "# slicing of string\n",
    "# slicing of list\n",
    "list1[0:5]"
   ]
  },
  {
   "cell_type": "code",
   "execution_count": 8,
   "id": "e9c5f01d-b64c-4e16-88cd-2a57898b542d",
   "metadata": {},
   "outputs": [
    {
     "data": {
      "text/plain": [
       "[{'a': 'Hello Pune', 'b': 50}]"
      ]
     },
     "execution_count": 8,
     "metadata": {},
     "output_type": "execute_result"
    }
   ],
   "source": [
    "list1[8:100]"
   ]
  },
  {
   "cell_type": "code",
   "execution_count": 9,
   "id": "6e975d0a-27af-425e-850d-142324de2d68",
   "metadata": {},
   "outputs": [
    {
     "ename": "IndexError",
     "evalue": "list index out of range",
     "output_type": "error",
     "traceback": [
      "\u001b[1;31m---------------------------------------------------------------------------\u001b[0m",
      "\u001b[1;31mIndexError\u001b[0m                                Traceback (most recent call last)",
      "Cell \u001b[1;32mIn[9], line 1\u001b[0m\n\u001b[1;32m----> 1\u001b[0m \u001b[43mlist1\u001b[49m\u001b[43m[\u001b[49m\u001b[38;5;241;43m100\u001b[39;49m\u001b[43m]\u001b[49m\n",
      "\u001b[1;31mIndexError\u001b[0m: list index out of range"
     ]
    }
   ],
   "source": [
    "list1[100]"
   ]
  },
  {
   "cell_type": "code",
   "execution_count": 10,
   "id": "c90138da-6971-42d3-b0d6-c135922287f3",
   "metadata": {},
   "outputs": [
    {
     "data": {
      "text/plain": [
       "['Hello World',\n",
       " 3.147,\n",
       " 10,\n",
       " True,\n",
       " False,\n",
       " [10, 20, 30],\n",
       " ('Hello Python', 50, 100, 123.23),\n",
       " {1, 2, 10, 100, 350},\n",
       " {'a': 'Hello Pune', 'b': 50}]"
      ]
     },
     "execution_count": 10,
     "metadata": {},
     "output_type": "execute_result"
    }
   ],
   "source": [
    "list1"
   ]
  },
  {
   "cell_type": "code",
   "execution_count": 11,
   "id": "492a5a3b-6aba-4565-b7b1-e83003b4be5d",
   "metadata": {},
   "outputs": [
    {
     "data": {
      "text/plain": [
       "9"
      ]
     },
     "execution_count": 11,
     "metadata": {},
     "output_type": "execute_result"
    }
   ],
   "source": [
    "len(list1)"
   ]
  },
  {
   "cell_type": "markdown",
   "id": "f6dd8afd-d978-4067-b4ab-466c5067851f",
   "metadata": {},
   "source": [
    "# some list operations"
   ]
  },
  {
   "cell_type": "code",
   "execution_count": 19,
   "id": "bda6b635-f424-48d4-90d0-d045c7ffd34c",
   "metadata": {},
   "outputs": [
    {
     "name": "stdout",
     "output_type": "stream",
     "text": [
      "<class 'list'>\n"
     ]
    }
   ],
   "source": [
    "# CRUD -> create,read,update,delete follows list.\n",
    "# creating list using some inbuild-functions\n",
    "\n",
    "list1=[]\n",
    "print(type(list1))"
   ]
  },
  {
   "cell_type": "code",
   "execution_count": 22,
   "id": "e0e02c6c-f9a4-465f-a814-7af2c45c9cfa",
   "metadata": {},
   "outputs": [
    {
     "name": "stdout",
     "output_type": "stream",
     "text": [
      "['Modiji', 'Modiji']\n"
     ]
    }
   ],
   "source": [
    "# Adding element into the empty list[append/extend/insert]\n",
    "list1.append('Modiji')\n",
    "print(list1)"
   ]
  },
  {
   "cell_type": "code",
   "execution_count": 23,
   "id": "8f300457-f1a7-466e-bf53-d7cd0966257e",
   "metadata": {},
   "outputs": [],
   "source": [
    "list1.append('Shil khatik')"
   ]
  },
  {
   "cell_type": "code",
   "execution_count": 24,
   "id": "1a6ce54d-fdcd-4db3-9e9d-8bd4cfc3e0ab",
   "metadata": {},
   "outputs": [
    {
     "data": {
      "text/plain": [
       "['Modiji', 'Modiji', 'Shil khatik']"
      ]
     },
     "execution_count": 24,
     "metadata": {},
     "output_type": "execute_result"
    }
   ],
   "source": [
    "list1"
   ]
  },
  {
   "cell_type": "code",
   "execution_count": 26,
   "id": "0e2b1901-fc5e-4ce6-ae0a-ebdc9dc844c3",
   "metadata": {},
   "outputs": [
    {
     "data": {
      "text/plain": [
       "['Modiji', 'Modiji', 'Shil khatik', 'Rahul Gandhi', 'Priyanka Gandhi']"
      ]
     },
     "execution_count": 26,
     "metadata": {},
     "output_type": "execute_result"
    }
   ],
   "source": [
    "# appned --> append takes single data at one time otherwise it gives an error.\n",
    "# extend --> It takes multiple data at one time.\n",
    "list1.extend(['Rahul Gandhi','Priyanka Gandhi'])\n",
    "list1"
   ]
  },
  {
   "cell_type": "code",
   "execution_count": 27,
   "id": "d630df42-b1ae-4eae-ac8b-68d65ad6cade",
   "metadata": {},
   "outputs": [
    {
     "data": {
      "text/plain": [
       "['Modiji',\n",
       " 'Modiji',\n",
       " 'Shil khatik',\n",
       " 'Rahul Gandhi',\n",
       " 'Priyanka Gandhi',\n",
       " ['Rahul Gandhi', 'Priyanka Gandhi']]"
      ]
     },
     "execution_count": 27,
     "metadata": {},
     "output_type": "execute_result"
    }
   ],
   "source": [
    "list1.append(['Rahul Gandhi','Priyanka Gandhi'])\n",
    "list1"
   ]
  },
  {
   "cell_type": "code",
   "execution_count": 28,
   "id": "27860466-60af-4a1b-bd9b-959e67a446a7",
   "metadata": {},
   "outputs": [
    {
     "ename": "TypeError",
     "evalue": "list.append() takes exactly one argument (3 given)",
     "output_type": "error",
     "traceback": [
      "\u001b[1;31m---------------------------------------------------------------------------\u001b[0m",
      "\u001b[1;31mTypeError\u001b[0m                                 Traceback (most recent call last)",
      "Cell \u001b[1;32mIn[28], line 1\u001b[0m\n\u001b[1;32m----> 1\u001b[0m \u001b[43mlist1\u001b[49m\u001b[38;5;241;43m.\u001b[39;49m\u001b[43mappend\u001b[49m\u001b[43m(\u001b[49m\u001b[38;5;124;43m'\u001b[39;49m\u001b[38;5;124;43mRahul Gandhi\u001b[39;49m\u001b[38;5;124;43m'\u001b[39;49m\u001b[43m,\u001b[49m\u001b[38;5;124;43m'\u001b[39;49m\u001b[38;5;124;43mPriyanka Gandhi\u001b[39;49m\u001b[38;5;124;43m'\u001b[39;49m\u001b[43m,\u001b[49m\u001b[38;5;124;43m'\u001b[39;49m\u001b[38;5;124;43mwelcome\u001b[39;49m\u001b[38;5;124;43m'\u001b[39;49m\u001b[43m)\u001b[49m\n\u001b[0;32m      2\u001b[0m list1\n",
      "\u001b[1;31mTypeError\u001b[0m: list.append() takes exactly one argument (3 given)"
     ]
    }
   ],
   "source": [
    "list1.append('Rahul Gandhi','Priyanka Gandhi','welcome')\n",
    "list1"
   ]
  },
  {
   "cell_type": "code",
   "execution_count": 29,
   "id": "0032b894-9890-4d5a-97cb-47e2d3086d08",
   "metadata": {},
   "outputs": [],
   "source": [
    "list2=[]"
   ]
  },
  {
   "cell_type": "code",
   "execution_count": 33,
   "id": "4c23ee6d-3901-4ce5-8852-3616d183915b",
   "metadata": {},
   "outputs": [
    {
     "data": {
      "text/plain": [
       "[['welcome', 'hello world']]"
      ]
     },
     "execution_count": 33,
     "metadata": {},
     "output_type": "execute_result"
    }
   ],
   "source": [
    "list2.append(['welcome','hello world'])\n",
    "list2"
   ]
  },
  {
   "cell_type": "code",
   "execution_count": 35,
   "id": "b871d765-2b2c-4e0b-8193-42c95ae40992",
   "metadata": {},
   "outputs": [
    {
     "data": {
      "text/plain": [
       "[['welcome', 'hello world'], 'sahil', 'Modiji']"
      ]
     },
     "execution_count": 35,
     "metadata": {},
     "output_type": "execute_result"
    }
   ],
   "source": [
    "list2.extend(['sahil','Modiji'])\n",
    "list2"
   ]
  },
  {
   "cell_type": "code",
   "execution_count": 36,
   "id": "c3432422-d775-4bfb-94af-e7911204ab0c",
   "metadata": {},
   "outputs": [
    {
     "data": {
      "text/plain": [
       "['welcome', 'hello world']"
      ]
     },
     "execution_count": 36,
     "metadata": {},
     "output_type": "execute_result"
    }
   ],
   "source": [
    "list2[0]"
   ]
  },
  {
   "cell_type": "code",
   "execution_count": 37,
   "id": "86228b77-a8c7-4bfb-a542-ddc983f44172",
   "metadata": {},
   "outputs": [
    {
     "data": {
      "text/plain": [
       "'sahil'"
      ]
     },
     "execution_count": 37,
     "metadata": {},
     "output_type": "execute_result"
    }
   ],
   "source": [
    "list2[1]"
   ]
  },
  {
   "cell_type": "code",
   "execution_count": 38,
   "id": "ca5d7219-afbe-4e85-bdce-8273525b9f8b",
   "metadata": {},
   "outputs": [
    {
     "data": {
      "text/plain": [
       "'Modiji'"
      ]
     },
     "execution_count": 38,
     "metadata": {},
     "output_type": "execute_result"
    }
   ],
   "source": [
    "list2[2]"
   ]
  },
  {
   "cell_type": "code",
   "execution_count": 39,
   "id": "b0e14582-a7ff-40ea-aadb-3dbfb0694bb1",
   "metadata": {},
   "outputs": [
    {
     "data": {
      "text/plain": [
       "[['welcome', 'hello world'], 'sahil', 'Modiji']"
      ]
     },
     "execution_count": 39,
     "metadata": {},
     "output_type": "execute_result"
    }
   ],
   "source": [
    "list2"
   ]
  },
  {
   "cell_type": "code",
   "execution_count": 40,
   "id": "fade0275-9a69-4de4-869b-2a8037b261da",
   "metadata": {},
   "outputs": [
    {
     "data": {
      "text/plain": [
       "[['welcome', 'hello world'], 'sahil', 'Modiji', 'Hello Python']"
      ]
     },
     "execution_count": 40,
     "metadata": {},
     "output_type": "execute_result"
    }
   ],
   "source": [
    "list2.append('Hello Python')\n",
    "list2"
   ]
  },
  {
   "cell_type": "code",
   "execution_count": 41,
   "id": "73db2870-2b72-49b3-9627-76b897915a3d",
   "metadata": {},
   "outputs": [
    {
     "data": {
      "text/plain": [
       "['Shrinivash', ['welcome', 'hello world'], 'sahil', 'Modiji', 'Hello Python']"
      ]
     },
     "execution_count": 41,
     "metadata": {},
     "output_type": "execute_result"
    }
   ],
   "source": [
    "list2.insert(0,'Shrinivash')\n",
    "list2"
   ]
  },
  {
   "cell_type": "code",
   "execution_count": 42,
   "id": "5f24c1fb-38d9-416b-8ab5-06f1649934bd",
   "metadata": {},
   "outputs": [
    {
     "data": {
      "text/plain": [
       "['Shrinivash', ['welcome', 'hello world'], 'sahil', 'Modiji', 'Hello Python']"
      ]
     },
     "execution_count": 42,
     "metadata": {},
     "output_type": "execute_result"
    }
   ],
   "source": [
    "# Updating the list\n",
    "\n",
    "list2"
   ]
  },
  {
   "cell_type": "code",
   "execution_count": 45,
   "id": "724de806-ca38-44ca-94ac-3f78db36c971",
   "metadata": {},
   "outputs": [
    {
     "data": {
      "text/plain": [
       "['Shrinivas', ['welcome', 'hello world'], 'sahil', 'Modiji', 'Hello Python']"
      ]
     },
     "execution_count": 45,
     "metadata": {},
     "output_type": "execute_result"
    }
   ],
   "source": [
    "list2[0]=\"Shrinivas\"\n",
    "list2"
   ]
  },
  {
   "cell_type": "code",
   "execution_count": 49,
   "id": "fda621bc-0883-4785-a10a-0bf3fc9219ca",
   "metadata": {},
   "outputs": [],
   "source": [
    "list2[1][1]=\"Hello Prafulla\""
   ]
  },
  {
   "cell_type": "code",
   "execution_count": 50,
   "id": "cfd3ec2b-b8dd-4108-a7e8-76de6764f921",
   "metadata": {},
   "outputs": [
    {
     "data": {
      "text/plain": [
       "['Shrinivas', ['welcome', 'Hello Prafulla'], 'sahil', 'Modiji', 'Hello Python']"
      ]
     },
     "execution_count": 50,
     "metadata": {},
     "output_type": "execute_result"
    }
   ],
   "source": [
    "list2"
   ]
  },
  {
   "cell_type": "code",
   "execution_count": 51,
   "id": "ac0f9713-a2e5-4908-b3e8-a0f56de4ff07",
   "metadata": {},
   "outputs": [
    {
     "data": {
      "text/plain": [
       "['Shrinivas', ['welcome', 'Hello Prafulla'], 'sahil', 'Modiji', 'Hello Python']"
      ]
     },
     "execution_count": 51,
     "metadata": {},
     "output_type": "execute_result"
    }
   ],
   "source": [
    "list2"
   ]
  },
  {
   "cell_type": "code",
   "execution_count": 54,
   "id": "d9d060ac-775c-4a7c-97fa-2fd0ac6e83d4",
   "metadata": {},
   "outputs": [],
   "source": [
    "list2[1][1]='Prafulla Dhage'"
   ]
  },
  {
   "cell_type": "code",
   "execution_count": 55,
   "id": "6fc2a3f8-29c5-4049-8a6a-1dfb149d0dda",
   "metadata": {},
   "outputs": [
    {
     "data": {
      "text/plain": [
       "['Shrinivas', ['welcome', 'Prafulla Dhage'], 'sahil', 'Modiji', 'Hello Python']"
      ]
     },
     "execution_count": 55,
     "metadata": {},
     "output_type": "execute_result"
    }
   ],
   "source": [
    "list2"
   ]
  },
  {
   "cell_type": "code",
   "execution_count": 58,
   "id": "17081b0b-4fff-4073-9fa2-2d5f26b1a5ba",
   "metadata": {},
   "outputs": [],
   "source": [
    "list2[1][0]=\"Shrinivas Shirgire\""
   ]
  },
  {
   "cell_type": "code",
   "execution_count": 60,
   "id": "61fa51f8-1114-4b1b-8740-bbb04e51b1b4",
   "metadata": {},
   "outputs": [
    {
     "name": "stdout",
     "output_type": "stream",
     "text": [
      "['Shrinivas', ['Shrinivas Shirgire', 'Prafulla Dhage'], 'sahil', 'Modiji', 'Hello Python']\n"
     ]
    }
   ],
   "source": [
    "print(list2)"
   ]
  },
  {
   "cell_type": "code",
   "execution_count": 64,
   "id": "939d04ed-94a1-4f6a-963c-7ceb5c7cc70e",
   "metadata": {},
   "outputs": [
    {
     "data": {
      "text/plain": [
       "'Prafulla Dhage'"
      ]
     },
     "execution_count": 64,
     "metadata": {},
     "output_type": "execute_result"
    }
   ],
   "source": [
    "x=list2[1][1]\n",
    "x"
   ]
  },
  {
   "cell_type": "code",
   "execution_count": 65,
   "id": "a37717de-ff6f-48cc-bf3e-f6b4f5cbbb35",
   "metadata": {},
   "outputs": [
    {
     "data": {
      "text/plain": [
       "'egahD allufarP'"
      ]
     },
     "execution_count": 65,
     "metadata": {},
     "output_type": "execute_result"
    }
   ],
   "source": [
    "x[::-1]"
   ]
  },
  {
   "cell_type": "code",
   "execution_count": 67,
   "id": "651d06c1-d41e-4952-a062-c2e44a80d25a",
   "metadata": {},
   "outputs": [],
   "source": [
    "# Deleting an element in the list\n",
    "del(list2[1][1])\n",
    "# deleting a single element"
   ]
  },
  {
   "cell_type": "code",
   "execution_count": 68,
   "id": "9bab59bf-ee03-4760-b22a-890e337df8f9",
   "metadata": {},
   "outputs": [
    {
     "data": {
      "text/plain": [
       "['Shrinivas', ['Shrinivas Shirgire'], 'sahil', 'Modiji', 'Hello Python']"
      ]
     },
     "execution_count": 68,
     "metadata": {},
     "output_type": "execute_result"
    }
   ],
   "source": [
    "list2"
   ]
  },
  {
   "cell_type": "code",
   "execution_count": 69,
   "id": "0359924c-3d1d-4724-be69-b159e31a9df6",
   "metadata": {},
   "outputs": [
    {
     "data": {
      "text/plain": [
       "['Shrinivas', ['Shrinivas Shirgire'], 'sahil', 'Modiji', 'Hello Python']"
      ]
     },
     "execution_count": 69,
     "metadata": {},
     "output_type": "execute_result"
    }
   ],
   "source": [
    "# Deleting the whole list\n",
    "\n",
    "list2"
   ]
  },
  {
   "cell_type": "code",
   "execution_count": 71,
   "id": "1b288f25-50e1-47f9-af05-205f8a915e2f",
   "metadata": {},
   "outputs": [],
   "source": [
    "del(list2[4])"
   ]
  },
  {
   "cell_type": "code",
   "execution_count": 72,
   "id": "165211ce-0fd1-4b1b-9416-03c54c722a1c",
   "metadata": {},
   "outputs": [
    {
     "data": {
      "text/plain": [
       "['Shrinivas', ['Shrinivas Shirgire'], 'sahil', 'Modiji']"
      ]
     },
     "execution_count": 72,
     "metadata": {},
     "output_type": "execute_result"
    }
   ],
   "source": [
    "list2"
   ]
  },
  {
   "cell_type": "code",
   "execution_count": 73,
   "id": "d3ad82b5-06a0-4ba7-9afb-4768f94362f7",
   "metadata": {},
   "outputs": [],
   "source": [
    "del(list2)"
   ]
  },
  {
   "cell_type": "code",
   "execution_count": 74,
   "id": "af663ce8-c073-4626-aae6-39ac6fa6582c",
   "metadata": {},
   "outputs": [
    {
     "ename": "NameError",
     "evalue": "name 'list2' is not defined",
     "output_type": "error",
     "traceback": [
      "\u001b[1;31m---------------------------------------------------------------------------\u001b[0m",
      "\u001b[1;31mNameError\u001b[0m                                 Traceback (most recent call last)",
      "Cell \u001b[1;32mIn[74], line 1\u001b[0m\n\u001b[1;32m----> 1\u001b[0m \u001b[43mlist2\u001b[49m\n",
      "\u001b[1;31mNameError\u001b[0m: name 'list2' is not defined"
     ]
    }
   ],
   "source": [
    "list2"
   ]
  },
  {
   "cell_type": "code",
   "execution_count": 80,
   "id": "b8df26b5-fd16-4b77-bfb7-9280559cc983",
   "metadata": {},
   "outputs": [
    {
     "name": "stdout",
     "output_type": "stream",
     "text": [
      "['Hello world']\n",
      "['Hello world']\n",
      "['Hello world', 'Shrinivas']\n"
     ]
    }
   ],
   "source": [
    "# copy the list\n",
    "# there are two types copy function\n",
    "# 1. clone copy\n",
    "# 2. Deep copy\n",
    "# ------------------------------------\n",
    "\n",
    "#1. clone copy[shallow copy]\n",
    "list1=[\"Hello world\"]\n",
    "print(list1)\n",
    "new_list=list1.copy()\n",
    "print(new_list)\n",
    "\n",
    "# updating the list\n",
    "list1.append('Shrinivas')\n",
    "print(list1)"
   ]
  },
  {
   "cell_type": "code",
   "execution_count": 81,
   "id": "a932bbff-5168-42da-8956-4deb153d1f61",
   "metadata": {},
   "outputs": [
    {
     "data": {
      "text/plain": [
       "['Hello world', 'Shrinivas']"
      ]
     },
     "execution_count": 81,
     "metadata": {},
     "output_type": "execute_result"
    }
   ],
   "source": [
    "list1"
   ]
  },
  {
   "cell_type": "code",
   "execution_count": 82,
   "id": "543bf448-5f0b-4670-802f-34550661b901",
   "metadata": {},
   "outputs": [
    {
     "data": {
      "text/plain": [
       "['Hello world']"
      ]
     },
     "execution_count": 82,
     "metadata": {},
     "output_type": "execute_result"
    }
   ],
   "source": [
    "new_list"
   ]
  },
  {
   "cell_type": "code",
   "execution_count": 84,
   "id": "b2056c7e-d7fd-45ff-b5c5-79826e6fbc41",
   "metadata": {},
   "outputs": [
    {
     "name": "stdout",
     "output_type": "stream",
     "text": [
      "Original List: ['Python']\n",
      "Duplicate List: ['Python']\n",
      "['Python', 'Modiji']\n"
     ]
    }
   ],
   "source": [
    "# Deep copy\n",
    "\n",
    "list3=[\"Python\"]\n",
    "print(\"Original List:\",list3)\n",
    "list4=list3\n",
    "print(\"Duplicate List:\",list4)\n",
    "\n",
    "\n",
    "# Adding element in the duplicate list\n",
    "list4.append('Modiji')\n",
    "print(list4)"
   ]
  },
  {
   "cell_type": "code",
   "execution_count": 85,
   "id": "35cda383-7ea8-4553-8088-4fe737391b6b",
   "metadata": {},
   "outputs": [
    {
     "data": {
      "text/plain": [
       "['Python', 'Modiji']"
      ]
     },
     "execution_count": 85,
     "metadata": {},
     "output_type": "execute_result"
    }
   ],
   "source": [
    "list3"
   ]
  },
  {
   "cell_type": "code",
   "execution_count": 86,
   "id": "a2f10fe3-101b-471d-bdab-067c0fa4bac9",
   "metadata": {},
   "outputs": [
    {
     "data": {
      "text/plain": [
       "['Python', 'Modiji']"
      ]
     },
     "execution_count": 86,
     "metadata": {},
     "output_type": "execute_result"
    }
   ],
   "source": [
    "list4"
   ]
  },
  {
   "cell_type": "code",
   "execution_count": 92,
   "id": "879f2673-f40c-4272-92c5-0b8fb84280ca",
   "metadata": {},
   "outputs": [
    {
     "name": "stdin",
     "output_type": "stream",
     "text": [
      "Enter first number: 45\n",
      "Enter second number: 63\n"
     ]
    },
    {
     "name": "stdout",
     "output_type": "stream",
     "text": [
      "The Addition of the value is: 108\n",
      "-------------------------------------------------\n",
      "The Addition of two value is 45 and 63 is 108\n"
     ]
    }
   ],
   "source": [
    "# f-sting function with user input function\n",
    "x=int(input('Enter first number:'))\n",
    "y=int(input('Enter second number:'))\n",
    "addition=x+y\n",
    "print(\"The Addition of the value is:\",addition)\n",
    "print(\"-------------------------------------------------\")\n",
    "print(f'The Addition of two value is {x} and {y} is {addition}')  # with f-string function"
   ]
  },
  {
   "cell_type": "code",
   "execution_count": 93,
   "id": "3ef5f9ac-c1b9-447a-96d5-d151a2aeab3c",
   "metadata": {},
   "outputs": [],
   "source": [
    "# Operators in python\n",
    "# ----------------------------\n",
    "# 1. Arithmetic operator\n",
    "# 2. identity operator\n",
    "# 3. Membership operator\n",
    "# 4. Logical operator"
   ]
  },
  {
   "cell_type": "code",
   "execution_count": 1,
   "id": "56237709-64fc-4b18-b50e-24ac364feb87",
   "metadata": {},
   "outputs": [],
   "source": [
    "# 1. Arithematic Operator [+,-,*, /,%]\n",
    "# 2. identity operator [is or isnot]\n",
    "# 3. Membership operator [in or not in]\n",
    "# 4. Comparison are 6[>,<,>=,<=,==,!=]\n",
    "# 5. Assignment operator [=]"
   ]
  },
  {
   "cell_type": "code",
   "execution_count": 2,
   "id": "52d89edf-2758-4dae-b54f-59fa602cc920",
   "metadata": {},
   "outputs": [
    {
     "data": {
      "text/plain": [
       "['Hello world', 'Python', 'Game', True, False, 'Game over']"
      ]
     },
     "execution_count": 2,
     "metadata": {},
     "output_type": "execute_result"
    }
   ],
   "source": [
    "# Membership Operator\n",
    "list2=['Hello world','Python',\"Game\",True,False,'Game over']\n",
    "list2"
   ]
  },
  {
   "cell_type": "code",
   "execution_count": 8,
   "id": "b3880cff-a70b-49e6-863b-603e9e400894",
   "metadata": {},
   "outputs": [
    {
     "name": "stdout",
     "output_type": "stream",
     "text": [
      "False\n",
      "False\n",
      "True\n",
      "False\n",
      "True\n",
      "False\n"
     ]
    }
   ],
   "source": [
    "print('Sahil' in list2)\n",
    "print('hello world' in list2)\n",
    "print('Hello world' in list2)\n",
    "print('Game' not in list2)\n",
    "print(True in list2)\n",
    "print(False not in list2)"
   ]
  },
  {
   "cell_type": "code",
   "execution_count": 14,
   "id": "74243abf-fe69-4063-b837-ee4e7a4c681a",
   "metadata": {},
   "outputs": [
    {
     "name": "stdout",
     "output_type": "stream",
     "text": [
      "False\n",
      "True\n",
      "False\n",
      "False\n",
      "True\n"
     ]
    }
   ],
   "source": [
    "# identity operator\n",
    "a=2.147\n",
    "b=10\n",
    "c=45\n",
    "d=2.147\n",
    "print(a is b)\n",
    "print(a is not b)\n",
    "print(a is c)\n",
    "print(a is d)\n",
    "\n",
    "a=10\n",
    "a=20\n",
    "print(a is a)"
   ]
  },
  {
   "cell_type": "code",
   "execution_count": 20,
   "id": "0e1c47f1-345b-4536-862a-f0524fa8bf6f",
   "metadata": {},
   "outputs": [
    {
     "name": "stdout",
     "output_type": "stream",
     "text": [
      "False\n",
      "True\n",
      "True\n",
      "False\n",
      "True\n",
      "True\n",
      "False\n"
     ]
    }
   ],
   "source": [
    "# Comparison Operator\n",
    "# > greater than\n",
    "# < less than\n",
    "# >= greater than or equal to\n",
    "# <= less than or equal to\n",
    "# == equal to\n",
    "# != not equal to\n",
    "\n",
    "a=10\n",
    "b=20\n",
    "c=20.36\n",
    "d=30\n",
    "print(a>b)\n",
    "print(b>a)\n",
    "print(c>b)\n",
    "print( a==b)\n",
    "print(a!=d)\n",
    "print(a<=b)\n",
    "print(a>=d)"
   ]
  },
  {
   "cell_type": "code",
   "execution_count": null,
   "id": "199dcc7a-efbc-44de-b7fd-416a0f475da6",
   "metadata": {},
   "outputs": [],
   "source": []
  }
 ],
 "metadata": {
  "kernelspec": {
   "display_name": "Python 3 (ipykernel)",
   "language": "python",
   "name": "python3"
  },
  "language_info": {
   "codemirror_mode": {
    "name": "ipython",
    "version": 3
   },
   "file_extension": ".py",
   "mimetype": "text/x-python",
   "name": "python",
   "nbconvert_exporter": "python",
   "pygments_lexer": "ipython3",
   "version": "3.12.2"
  }
 },
 "nbformat": 4,
 "nbformat_minor": 5
}
